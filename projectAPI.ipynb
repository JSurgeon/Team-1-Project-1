{
 "cells": [
  {
   "cell_type": "code",
   "execution_count": 1,
   "metadata": {},
   "outputs": [],
   "source": [
    " # Dependencies\n",
    "import numpy as np\n",
    "import pandas as pd\n",
    "import matplotlib.pyplot as plt\n",
    "import requests\n",
    "from pprint import pprint\n",
    "#import pdb; pdbset_trace()"
   ]
  },
  {
   "cell_type": "code",
   "execution_count": 4,
   "metadata": {},
   "outputs": [],
   "source": [
    "url = \"http://api.worldbank.org/v2/country/?format=json\"\n",
    "api_format = \"json\"\n",
    "\n",
    "# Get country information in JSON format\n",
    "#country_response = requests.get(f\"{url}countries?format={api_format}&page{page}\").json()\n"
   ]
  },
  {
   "cell_type": "code",
   "execution_count": 5,
   "metadata": {},
   "outputs": [
    {
     "ename": "NameError",
     "evalue": "name 'response' is not defined",
     "output_type": "error",
     "traceback": [
      "\u001b[1;31m---------------------------------------------------------------------------\u001b[0m",
      "\u001b[1;31mNameError\u001b[0m                                 Traceback (most recent call last)",
      "\u001b[1;32m<ipython-input-5-30dc12e54b9c>\u001b[0m in \u001b[0;36m<module>\u001b[1;34m\u001b[0m\n\u001b[1;32m----> 1\u001b[1;33m \u001b[0mpprint\u001b[0m\u001b[1;33m(\u001b[0m\u001b[0mresponse\u001b[0m\u001b[1;33m)\u001b[0m\u001b[1;33m\u001b[0m\u001b[1;33m\u001b[0m\u001b[0m\n\u001b[0m",
      "\u001b[1;31mNameError\u001b[0m: name 'response' is not defined"
     ]
    }
   ],
   "source": [
    "pprint(response)"
   ]
  },
  {
   "cell_type": "code",
   "execution_count": 6,
   "metadata": {},
   "outputs": [
    {
     "ename": "NameError",
     "evalue": "name 'countries_response' is not defined",
     "output_type": "error",
     "traceback": [
      "\u001b[1;31m---------------------------------------------------------------------------\u001b[0m",
      "\u001b[1;31mNameError\u001b[0m                                 Traceback (most recent call last)",
      "\u001b[1;32m<ipython-input-6-ccc54578690a>\u001b[0m in \u001b[0;36m<module>\u001b[1;34m\u001b[0m\n\u001b[1;32m----> 1\u001b[1;33m \u001b[0mcountiers\u001b[0m \u001b[1;33m=\u001b[0m \u001b[0mcountries_response\u001b[0m\u001b[1;33m\u001b[0m\u001b[1;33m\u001b[0m\u001b[0m\n\u001b[0m",
      "\u001b[1;31mNameError\u001b[0m: name 'countries_response' is not defined"
     ]
    }
   ],
   "source": [
    "ideal_weather = city_df.loc[(city_df['Cloudiness']<=0) \n",
    "                            & (city_df['Wind Speed']<=10) & (city_df['Max Temp']<=80) & (city_df['Max Temp']>=70)]"
   ]
  },
  {
   "cell_type": "code",
   "execution_count": 7,
   "metadata": {},
   "outputs": [],
   "source": [
    "#http://api.worldbank.org/v2/country/?format=json&page=2\n",
    "\n",
    "all_countries = []\n",
    "income_levels = []\n",
    "country_codes = []\n",
    "lat = []\n",
    "long = []\n",
    "region = []\n",
    "\n",
    "\n",
    "for x in range(6): \n",
    "    countries_response = requests.get(f\"{url}&page={x+1}\").json()\n",
    "    countries= countries_response[1]\n",
    "    \n",
    "    for country in countries:\n",
    "        all_countries.append(country['name'])\n",
    "        income_levels.append(country['incomeLevel']['value'])\n",
    "        country_codes.append(country['id'])\n",
    "        long.append(country['longitude'])\n",
    "        lat.append(country['latitude'])\n",
    "        region.append(country['region']['value'])\n",
    "        \n",
    "country_data_df = pd.Dataframe(\"all_countries\")"
   ]
  },
  {
   "cell_type": "code",
   "execution_count": 33,
   "metadata": {},
   "outputs": [
    {
     "name": "stdout",
     "output_type": "stream",
     "text": [
      "[{'lastupdated': '2021-04-26',\n",
      "  'page': 1,\n",
      "  'pages': 1,\n",
      "  'per_page': 50,\n",
      "  'sourceid': '2',\n",
      "  'sourcename': 'World Development Indicators',\n",
      "  'total': 1},\n",
      " [{'country': {'id': 'AW', 'value': 'Aruba'},\n",
      "   'countryiso3code': 'ABW',\n",
      "   'date': '2015',\n",
      "   'decimal': 0,\n",
      "   'indicator': {'id': 'NY.GDP.MKTP.CD', 'value': 'GDP (current US$)'},\n",
      "   'obs_status': '',\n",
      "   'unit': '',\n",
      "   'value': 2919553072.6257}]]\n"
     ]
    }
   ],
   "source": [
    "gdps = []\n",
    "date = [2015, 2016, 2017, 2018, 2019, 2020, 2021]\n",
    "final_code = []\n",
    "#http://api.worldbank.org/v2/indicators/NY.GDP.MKTP.CD?format=json\n",
    "\n",
    "for code in country_codes:\n",
    "    query_url = \"http://api.worldbank.org/v2/country/\" + code + \"/indicator/NY.GDP.MKTP.CD?format=json&date=2015\"\n",
    "    response_gdp = requests.get(query_url).json()\n",
    "    gdps.append(response_gdp[1][0]['value'])\n",
    "    final_code.append(response_gdp[1][0]['country'])\n",
    "    break\n",
    "\n",
    "pprint(response_gdp)\n",
    "\n"
   ]
  },
  {
   "cell_type": "code",
   "execution_count": null,
   "metadata": {},
   "outputs": [],
   "source": [
    "\"http://api.worldbank.org/v2/country/\" + code + \"/indicator/NY.GDP.MKTP.CD?format=json&date=2015\""
   ]
  }
 ],
 "metadata": {
  "kernelspec": {
   "display_name": "Python [conda env:PythonData] *",
   "language": "python",
   "name": "conda-env-PythonData-py"
  },
  "language_info": {
   "codemirror_mode": {
    "name": "ipython",
    "version": 3
   },
   "file_extension": ".py",
   "mimetype": "text/x-python",
   "name": "python",
   "nbconvert_exporter": "python",
   "pygments_lexer": "ipython3",
   "version": "3.6.10"
  }
 },
 "nbformat": 4,
 "nbformat_minor": 4
}
