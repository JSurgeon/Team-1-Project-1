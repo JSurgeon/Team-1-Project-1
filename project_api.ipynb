{
 "cells": [
  {
   "cell_type": "code",
   "execution_count": 1,
   "metadata": {},
   "outputs": [],
   "source": [
    "# API jupyter notebook file"
   ]
  },
  {
   "cell_type": "code",
   "execution_count": 2,
   "metadata": {
    "scrolled": false
   },
   "outputs": [
    {
     "name": "stdout",
     "output_type": "stream",
     "text": [
      "Length of countries: 297\n",
      "Length of income_levels: 297\n",
      "Length of country_code: 297\n",
      "Length of lats: 297\n",
      "Length of lngs: 297\n",
      "Length of lats: 297\n",
      "Length of lngs: 297\n",
      "Length of regions: 297\n"
     ]
    },
    {
     "data": {
      "text/plain": [
       "218"
      ]
     },
     "execution_count": 2,
     "metadata": {},
     "output_type": "execute_result"
    }
   ],
   "source": [
    "# Dependencies\n",
    "import requests\n",
    "import json\n",
    "import pandas as pd\n",
    "from pprint import pprint\n",
    "import numpy as np\n",
    "\n",
    "# World bank base url\n",
    "url = \"http://api.worldbank.org/v2/country/?format=json\"\n",
    "\n",
    "# create empty list to hold all countries\n",
    "all_countries = []\n",
    "income_levels = []\n",
    "country_codes = []\n",
    "lats = []\n",
    "lngs = []\n",
    "regions = []\n",
    "\n",
    "# loop through 6 pages of countries, adding countries to our empty list as we go\n",
    "for x in range(6):\n",
    "    countries_response = requests.get(f\"{url}&page={x+1}\").json() \n",
    "    #import pdb; pdb.set_trace()\n",
    "    countries = countries_response[1]\n",
    "    for country in countries:\n",
    "        all_countries.append(country[\"name\"])\n",
    "        income_levels.append(country[\"incomeLevel\"]['value'])\n",
    "        country_codes.append(country['id'])\n",
    "        lats.append(country['latitude'])\n",
    "        lngs.append(country['longitude'])\n",
    "        regions.append(country['region']['value'])\n",
    "\n",
    "# print lengths of lists to check validity\n",
    "print(f'Length of countries: {len(all_countries)}\\nLength of income_levels: {len(income_levels)}\\nLength of country_code: {len(country_codes)}')\n",
    "print(f'Length of lats: {len(lats)}\\nLength of lngs: {len(lngs)}\\nLength of lats: {len(lats)}\\nLength of lngs: {len(lngs)}')\n",
    "print(f'Length of regions: {len(regions)}')\n",
    "countries_df = pd.DataFrame({\n",
    "    \"Country\" : all_countries,\n",
    "    \"Income Lvl\" : income_levels,\n",
    "    \"Country Code\" : country_codes,\n",
    "    \"Lat\" : lats,\n",
    "    \"Lng\" : lngs,\n",
    "    \"Region\" : regions\n",
    "})\n",
    "\n",
    "clean_df = countries_df.loc[countries_df[\"Region\"] != \"Aggregates\", :]\n",
    "\n",
    "clean_df.to_csv(\"clean_countries.csv\", index=False)\n",
    "\n",
    "clean_df.head(5)\n",
    "\n",
    "len(clean_df)"
   ]
  },
  {
   "cell_type": "code",
   "execution_count": 3,
   "metadata": {},
   "outputs": [
    {
     "name": "stdout",
     "output_type": "stream",
     "text": [
      "2015 ABW\n",
      "2015 AFG\n",
      "2015 AGO\n",
      "2015 ALB\n",
      "2016 ABW\n",
      "2016 AFG\n",
      "2016 AGO\n",
      "2016 ALB\n",
      "2017 ABW\n",
      "2017 AFG\n",
      "2017 AGO\n",
      "2017 ALB\n"
     ]
    }
   ],
   "source": [
    "years = [2015, 2016,2017]\n",
    "\n",
    "country_codes_test = clean_df['Country Code'][0:4]\n",
    "\n",
    "for year in years:\n",
    "    for code in country_codes_test:\n",
    "        print(year,code)\n",
    "        query_url = \"http://api.worldbank.org/v2/country/\" + code + \"/indicator/NY.GDP.MKTP.CD?format=json&date=\" + str(year)"
   ]
  },
  {
   "cell_type": "code",
   "execution_count": 4,
   "metadata": {},
   "outputs": [],
   "source": [
    "# Practice some calls using specific countries... total population\n",
    "\n",
    "\n",
    "def yr_calls(year):\n",
    "    \"\"\"function changes year in request call\n",
    "    Args:\n",
    "        year(int):This is the year for api call \n",
    "    Returns:\n",
    "        gpds(list): This returns yearly gpd for each country code\n",
    "    \"\"\"\n",
    "#     final_countries = []\n",
    "#     final_codes = []\n",
    "    gdps = []\n",
    "\n",
    "    for code in clean_df[\"Country Code\"]:\n",
    "\n",
    "        #Build Query Url\n",
    "        try:\n",
    "            query_url = \"http://api.worldbank.org/v2/country/\" + code + \"/indicator/NY.GDP.MKTP.CD?format=json&date=\" + str(year) \n",
    "            response = requests.get(query_url).json()\n",
    "            #import pdb; pdb.set_trace()\n",
    "            gdps.append(response[1][0][\"value\"])\n",
    "#             final_countries.append(response[1][0]['country']['value'])\n",
    "#             final_codes.append(response[1][0]['countryiso3code'])\n",
    "\n",
    "\n",
    "        except:\n",
    "            print(f\"{code}'s GDP was not found\")\n",
    "            gdps.append(\"0\")\n",
    "#             final_countries.append(\"0\")\n",
    "#             final_codes.append(\"0\")\n",
    "\n",
    "\n",
    "    print(json.dumps(response, indent=4))\n",
    "    \n",
    "    return gdps"
   ]
  },
  {
   "cell_type": "code",
   "execution_count": 5,
   "metadata": {},
   "outputs": [
    {
     "name": "stdout",
     "output_type": "stream",
     "text": [
      "BLR's GDP was not found\n",
      "TWN's GDP was not found\n",
      "[\n",
      "    {\n",
      "        \"page\": 1,\n",
      "        \"pages\": 1,\n",
      "        \"per_page\": 50,\n",
      "        \"total\": 1,\n",
      "        \"sourceid\": \"2\",\n",
      "        \"sourcename\": \"World Development Indicators\",\n",
      "        \"lastupdated\": \"2021-04-26\"\n",
      "    },\n",
      "    [\n",
      "        {\n",
      "            \"indicator\": {\n",
      "                \"id\": \"NY.GDP.MKTP.CD\",\n",
      "                \"value\": \"GDP (current US$)\"\n",
      "            },\n",
      "            \"country\": {\n",
      "                \"id\": \"ZW\",\n",
      "                \"value\": \"Zimbabwe\"\n",
      "            },\n",
      "            \"countryiso3code\": \"ZWE\",\n",
      "            \"date\": \"2015\",\n",
      "            \"value\": 19963120600,\n",
      "            \"unit\": \"\",\n",
      "            \"obs_status\": \"\",\n",
      "            \"decimal\": 0\n",
      "        }\n",
      "    ]\n",
      "]\n"
     ]
    }
   ],
   "source": [
    "# Using yr_calls function to return 2015 GDP as gdp_2015(list)\n",
    "\n",
    "gdp_2015 = yr_calls(2015)"
   ]
  },
  {
   "cell_type": "code",
   "execution_count": 6,
   "metadata": {},
   "outputs": [
    {
     "name": "stderr",
     "output_type": "stream",
     "text": [
      "C:\\Users\\jonat\\anaconda3\\envs\\PythonData\\lib\\site-packages\\ipykernel_launcher.py:3: SettingWithCopyWarning: \n",
      "A value is trying to be set on a copy of a slice from a DataFrame.\n",
      "Try using .loc[row_indexer,col_indexer] = value instead\n",
      "\n",
      "See the caveats in the documentation: https://pandas.pydata.org/pandas-docs/stable/user_guide/indexing.html#returning-a-view-versus-a-copy\n",
      "  This is separate from the ipykernel package so we can avoid doing imports until\n"
     ]
    },
    {
     "data": {
      "text/html": [
       "<div>\n",
       "<style scoped>\n",
       "    .dataframe tbody tr th:only-of-type {\n",
       "        vertical-align: middle;\n",
       "    }\n",
       "\n",
       "    .dataframe tbody tr th {\n",
       "        vertical-align: top;\n",
       "    }\n",
       "\n",
       "    .dataframe thead th {\n",
       "        text-align: right;\n",
       "    }\n",
       "</style>\n",
       "<table border=\"1\" class=\"dataframe\">\n",
       "  <thead>\n",
       "    <tr style=\"text-align: right;\">\n",
       "      <th></th>\n",
       "      <th>Country</th>\n",
       "      <th>Income Lvl</th>\n",
       "      <th>Country Code</th>\n",
       "      <th>Lat</th>\n",
       "      <th>Lng</th>\n",
       "      <th>Region</th>\n",
       "      <th>2015 GDP</th>\n",
       "    </tr>\n",
       "  </thead>\n",
       "  <tbody>\n",
       "    <tr>\n",
       "      <th>0</th>\n",
       "      <td>Aruba</td>\n",
       "      <td>High income</td>\n",
       "      <td>ABW</td>\n",
       "      <td>12.5167</td>\n",
       "      <td>-70.0167</td>\n",
       "      <td>Latin America &amp; Caribbean</td>\n",
       "      <td>2.91955e+09</td>\n",
       "    </tr>\n",
       "    <tr>\n",
       "      <th>1</th>\n",
       "      <td>Afghanistan</td>\n",
       "      <td>Low income</td>\n",
       "      <td>AFG</td>\n",
       "      <td>34.5228</td>\n",
       "      <td>69.1761</td>\n",
       "      <td>South Asia</td>\n",
       "      <td>1.99071e+10</td>\n",
       "    </tr>\n",
       "    <tr>\n",
       "      <th>3</th>\n",
       "      <td>Angola</td>\n",
       "      <td>Lower middle income</td>\n",
       "      <td>AGO</td>\n",
       "      <td>-8.81155</td>\n",
       "      <td>13.242</td>\n",
       "      <td>Sub-Saharan Africa</td>\n",
       "      <td>1.16194e+11</td>\n",
       "    </tr>\n",
       "    <tr>\n",
       "      <th>4</th>\n",
       "      <td>Albania</td>\n",
       "      <td>Upper middle income</td>\n",
       "      <td>ALB</td>\n",
       "      <td>41.3317</td>\n",
       "      <td>19.8172</td>\n",
       "      <td>Europe &amp; Central Asia</td>\n",
       "      <td>1.13868e+10</td>\n",
       "    </tr>\n",
       "    <tr>\n",
       "      <th>5</th>\n",
       "      <td>Andorra</td>\n",
       "      <td>High income</td>\n",
       "      <td>AND</td>\n",
       "      <td>42.5075</td>\n",
       "      <td>1.5218</td>\n",
       "      <td>Europe &amp; Central Asia</td>\n",
       "      <td>2.78987e+09</td>\n",
       "    </tr>\n",
       "  </tbody>\n",
       "</table>\n",
       "</div>"
      ],
      "text/plain": [
       "       Country           Income Lvl Country Code       Lat       Lng  \\\n",
       "0        Aruba          High income          ABW   12.5167  -70.0167   \n",
       "1  Afghanistan           Low income          AFG   34.5228   69.1761   \n",
       "3       Angola  Lower middle income          AGO  -8.81155    13.242   \n",
       "4      Albania  Upper middle income          ALB   41.3317   19.8172   \n",
       "5      Andorra          High income          AND   42.5075    1.5218   \n",
       "\n",
       "                       Region     2015 GDP  \n",
       "0  Latin America & Caribbean   2.91955e+09  \n",
       "1                  South Asia  1.99071e+10  \n",
       "3         Sub-Saharan Africa   1.16194e+11  \n",
       "4       Europe & Central Asia  1.13868e+10  \n",
       "5       Europe & Central Asia  2.78987e+09  "
      ]
     },
     "execution_count": 6,
     "metadata": {},
     "output_type": "execute_result"
    }
   ],
   "source": [
    "#creating gdp dataframes\n",
    "            \n",
    "clean_df['2015 GDP'] = gdp_2015\n",
    "clean_df.head()\n"
   ]
  },
  {
   "cell_type": "code",
   "execution_count": 7,
   "metadata": {},
   "outputs": [
    {
     "name": "stdout",
     "output_type": "stream",
     "text": [
      "TWN's GDP was not found\n",
      "[\n",
      "    {\n",
      "        \"page\": 1,\n",
      "        \"pages\": 1,\n",
      "        \"per_page\": 50,\n",
      "        \"total\": 1,\n",
      "        \"sourceid\": \"2\",\n",
      "        \"sourcename\": \"World Development Indicators\",\n",
      "        \"lastupdated\": \"2021-04-26\"\n",
      "    },\n",
      "    [\n",
      "        {\n",
      "            \"indicator\": {\n",
      "                \"id\": \"NY.GDP.MKTP.CD\",\n",
      "                \"value\": \"GDP (current US$)\"\n",
      "            },\n",
      "            \"country\": {\n",
      "                \"id\": \"ZW\",\n",
      "                \"value\": \"Zimbabwe\"\n",
      "            },\n",
      "            \"countryiso3code\": \"ZWE\",\n",
      "            \"date\": \"2016\",\n",
      "            \"value\": 20548678100,\n",
      "            \"unit\": \"\",\n",
      "            \"obs_status\": \"\",\n",
      "            \"decimal\": 0\n",
      "        }\n",
      "    ]\n",
      "]\n"
     ]
    }
   ],
   "source": [
    "# Using yr_calls function to return 2018 GDP as gdp_2018(list)\n",
    "gdp_2016 = yr_calls(2016)"
   ]
  },
  {
   "cell_type": "code",
   "execution_count": 8,
   "metadata": {},
   "outputs": [
    {
     "name": "stderr",
     "output_type": "stream",
     "text": [
      "C:\\Users\\jonat\\anaconda3\\envs\\PythonData\\lib\\site-packages\\ipykernel_launcher.py:2: SettingWithCopyWarning: \n",
      "A value is trying to be set on a copy of a slice from a DataFrame.\n",
      "Try using .loc[row_indexer,col_indexer] = value instead\n",
      "\n",
      "See the caveats in the documentation: https://pandas.pydata.org/pandas-docs/stable/user_guide/indexing.html#returning-a-view-versus-a-copy\n",
      "  \n"
     ]
    },
    {
     "data": {
      "text/html": [
       "<div>\n",
       "<style scoped>\n",
       "    .dataframe tbody tr th:only-of-type {\n",
       "        vertical-align: middle;\n",
       "    }\n",
       "\n",
       "    .dataframe tbody tr th {\n",
       "        vertical-align: top;\n",
       "    }\n",
       "\n",
       "    .dataframe thead th {\n",
       "        text-align: right;\n",
       "    }\n",
       "</style>\n",
       "<table border=\"1\" class=\"dataframe\">\n",
       "  <thead>\n",
       "    <tr style=\"text-align: right;\">\n",
       "      <th></th>\n",
       "      <th>Country</th>\n",
       "      <th>Income Lvl</th>\n",
       "      <th>Country Code</th>\n",
       "      <th>Lat</th>\n",
       "      <th>Lng</th>\n",
       "      <th>Region</th>\n",
       "      <th>2015 GDP</th>\n",
       "      <th>2016 GDP</th>\n",
       "    </tr>\n",
       "  </thead>\n",
       "  <tbody>\n",
       "    <tr>\n",
       "      <th>0</th>\n",
       "      <td>Aruba</td>\n",
       "      <td>High income</td>\n",
       "      <td>ABW</td>\n",
       "      <td>12.5167</td>\n",
       "      <td>-70.0167</td>\n",
       "      <td>Latin America &amp; Caribbean</td>\n",
       "      <td>2.91955e+09</td>\n",
       "      <td>2.96592e+09</td>\n",
       "    </tr>\n",
       "    <tr>\n",
       "      <th>1</th>\n",
       "      <td>Afghanistan</td>\n",
       "      <td>Low income</td>\n",
       "      <td>AFG</td>\n",
       "      <td>34.5228</td>\n",
       "      <td>69.1761</td>\n",
       "      <td>South Asia</td>\n",
       "      <td>1.99071e+10</td>\n",
       "      <td>1.80177e+10</td>\n",
       "    </tr>\n",
       "    <tr>\n",
       "      <th>3</th>\n",
       "      <td>Angola</td>\n",
       "      <td>Lower middle income</td>\n",
       "      <td>AGO</td>\n",
       "      <td>-8.81155</td>\n",
       "      <td>13.242</td>\n",
       "      <td>Sub-Saharan Africa</td>\n",
       "      <td>1.16194e+11</td>\n",
       "      <td>1.01124e+11</td>\n",
       "    </tr>\n",
       "    <tr>\n",
       "      <th>4</th>\n",
       "      <td>Albania</td>\n",
       "      <td>Upper middle income</td>\n",
       "      <td>ALB</td>\n",
       "      <td>41.3317</td>\n",
       "      <td>19.8172</td>\n",
       "      <td>Europe &amp; Central Asia</td>\n",
       "      <td>1.13868e+10</td>\n",
       "      <td>1.18612e+10</td>\n",
       "    </tr>\n",
       "    <tr>\n",
       "      <th>5</th>\n",
       "      <td>Andorra</td>\n",
       "      <td>High income</td>\n",
       "      <td>AND</td>\n",
       "      <td>42.5075</td>\n",
       "      <td>1.5218</td>\n",
       "      <td>Europe &amp; Central Asia</td>\n",
       "      <td>2.78987e+09</td>\n",
       "      <td>2.89668e+09</td>\n",
       "    </tr>\n",
       "  </tbody>\n",
       "</table>\n",
       "</div>"
      ],
      "text/plain": [
       "       Country           Income Lvl Country Code       Lat       Lng  \\\n",
       "0        Aruba          High income          ABW   12.5167  -70.0167   \n",
       "1  Afghanistan           Low income          AFG   34.5228   69.1761   \n",
       "3       Angola  Lower middle income          AGO  -8.81155    13.242   \n",
       "4      Albania  Upper middle income          ALB   41.3317   19.8172   \n",
       "5      Andorra          High income          AND   42.5075    1.5218   \n",
       "\n",
       "                       Region     2015 GDP     2016 GDP  \n",
       "0  Latin America & Caribbean   2.91955e+09  2.96592e+09  \n",
       "1                  South Asia  1.99071e+10  1.80177e+10  \n",
       "3         Sub-Saharan Africa   1.16194e+11  1.01124e+11  \n",
       "4       Europe & Central Asia  1.13868e+10  1.18612e+10  \n",
       "5       Europe & Central Asia  2.78987e+09  2.89668e+09  "
      ]
     },
     "execution_count": 8,
     "metadata": {},
     "output_type": "execute_result"
    }
   ],
   "source": [
    "# Adding gdp_YR(list) to clean_df \n",
    "clean_df['2016 GDP'] = gdp_2016\n",
    "clean_df.head()"
   ]
  },
  {
   "cell_type": "code",
   "execution_count": 9,
   "metadata": {},
   "outputs": [
    {
     "name": "stdout",
     "output_type": "stream",
     "text": [
      "HTI's GDP was not found\n",
      "TWN's GDP was not found\n",
      "[\n",
      "    {\n",
      "        \"page\": 1,\n",
      "        \"pages\": 1,\n",
      "        \"per_page\": 50,\n",
      "        \"total\": 1,\n",
      "        \"sourceid\": \"2\",\n",
      "        \"sourcename\": \"World Development Indicators\",\n",
      "        \"lastupdated\": \"2021-04-26\"\n",
      "    },\n",
      "    [\n",
      "        {\n",
      "            \"indicator\": {\n",
      "                \"id\": \"NY.GDP.MKTP.CD\",\n",
      "                \"value\": \"GDP (current US$)\"\n",
      "            },\n",
      "            \"country\": {\n",
      "                \"id\": \"ZW\",\n",
      "                \"value\": \"Zimbabwe\"\n",
      "            },\n",
      "            \"countryiso3code\": \"ZWE\",\n",
      "            \"date\": \"2017\",\n",
      "            \"value\": 22040902300,\n",
      "            \"unit\": \"\",\n",
      "            \"obs_status\": \"\",\n",
      "            \"decimal\": 0\n",
      "        }\n",
      "    ]\n",
      "]\n"
     ]
    }
   ],
   "source": [
    "# Using yr_calls function to return 2017 GDP as gdp_2017(list)\n",
    "gdp_2017 = yr_calls(2017)"
   ]
  },
  {
   "cell_type": "code",
   "execution_count": 10,
   "metadata": {},
   "outputs": [
    {
     "name": "stderr",
     "output_type": "stream",
     "text": [
      "C:\\Users\\jonat\\anaconda3\\envs\\PythonData\\lib\\site-packages\\ipykernel_launcher.py:2: SettingWithCopyWarning: \n",
      "A value is trying to be set on a copy of a slice from a DataFrame.\n",
      "Try using .loc[row_indexer,col_indexer] = value instead\n",
      "\n",
      "See the caveats in the documentation: https://pandas.pydata.org/pandas-docs/stable/user_guide/indexing.html#returning-a-view-versus-a-copy\n",
      "  \n"
     ]
    },
    {
     "data": {
      "text/html": [
       "<div>\n",
       "<style scoped>\n",
       "    .dataframe tbody tr th:only-of-type {\n",
       "        vertical-align: middle;\n",
       "    }\n",
       "\n",
       "    .dataframe tbody tr th {\n",
       "        vertical-align: top;\n",
       "    }\n",
       "\n",
       "    .dataframe thead th {\n",
       "        text-align: right;\n",
       "    }\n",
       "</style>\n",
       "<table border=\"1\" class=\"dataframe\">\n",
       "  <thead>\n",
       "    <tr style=\"text-align: right;\">\n",
       "      <th></th>\n",
       "      <th>Country</th>\n",
       "      <th>Income Lvl</th>\n",
       "      <th>Country Code</th>\n",
       "      <th>Lat</th>\n",
       "      <th>Lng</th>\n",
       "      <th>Region</th>\n",
       "      <th>2015 GDP</th>\n",
       "      <th>2016 GDP</th>\n",
       "      <th>2017 GDP</th>\n",
       "    </tr>\n",
       "  </thead>\n",
       "  <tbody>\n",
       "    <tr>\n",
       "      <th>0</th>\n",
       "      <td>Aruba</td>\n",
       "      <td>High income</td>\n",
       "      <td>ABW</td>\n",
       "      <td>12.5167</td>\n",
       "      <td>-70.0167</td>\n",
       "      <td>Latin America &amp; Caribbean</td>\n",
       "      <td>2.91955e+09</td>\n",
       "      <td>2.96592e+09</td>\n",
       "      <td>3.05642e+09</td>\n",
       "    </tr>\n",
       "    <tr>\n",
       "      <th>1</th>\n",
       "      <td>Afghanistan</td>\n",
       "      <td>Low income</td>\n",
       "      <td>AFG</td>\n",
       "      <td>34.5228</td>\n",
       "      <td>69.1761</td>\n",
       "      <td>South Asia</td>\n",
       "      <td>1.99071e+10</td>\n",
       "      <td>1.80177e+10</td>\n",
       "      <td>1.88699e+10</td>\n",
       "    </tr>\n",
       "    <tr>\n",
       "      <th>3</th>\n",
       "      <td>Angola</td>\n",
       "      <td>Lower middle income</td>\n",
       "      <td>AGO</td>\n",
       "      <td>-8.81155</td>\n",
       "      <td>13.242</td>\n",
       "      <td>Sub-Saharan Africa</td>\n",
       "      <td>1.16194e+11</td>\n",
       "      <td>1.01124e+11</td>\n",
       "      <td>1.22124e+11</td>\n",
       "    </tr>\n",
       "    <tr>\n",
       "      <th>4</th>\n",
       "      <td>Albania</td>\n",
       "      <td>Upper middle income</td>\n",
       "      <td>ALB</td>\n",
       "      <td>41.3317</td>\n",
       "      <td>19.8172</td>\n",
       "      <td>Europe &amp; Central Asia</td>\n",
       "      <td>1.13868e+10</td>\n",
       "      <td>1.18612e+10</td>\n",
       "      <td>1.30197e+10</td>\n",
       "    </tr>\n",
       "    <tr>\n",
       "      <th>5</th>\n",
       "      <td>Andorra</td>\n",
       "      <td>High income</td>\n",
       "      <td>AND</td>\n",
       "      <td>42.5075</td>\n",
       "      <td>1.5218</td>\n",
       "      <td>Europe &amp; Central Asia</td>\n",
       "      <td>2.78987e+09</td>\n",
       "      <td>2.89668e+09</td>\n",
       "      <td>3.00018e+09</td>\n",
       "    </tr>\n",
       "  </tbody>\n",
       "</table>\n",
       "</div>"
      ],
      "text/plain": [
       "       Country           Income Lvl Country Code       Lat       Lng  \\\n",
       "0        Aruba          High income          ABW   12.5167  -70.0167   \n",
       "1  Afghanistan           Low income          AFG   34.5228   69.1761   \n",
       "3       Angola  Lower middle income          AGO  -8.81155    13.242   \n",
       "4      Albania  Upper middle income          ALB   41.3317   19.8172   \n",
       "5      Andorra          High income          AND   42.5075    1.5218   \n",
       "\n",
       "                       Region     2015 GDP     2016 GDP     2017 GDP  \n",
       "0  Latin America & Caribbean   2.91955e+09  2.96592e+09  3.05642e+09  \n",
       "1                  South Asia  1.99071e+10  1.80177e+10  1.88699e+10  \n",
       "3         Sub-Saharan Africa   1.16194e+11  1.01124e+11  1.22124e+11  \n",
       "4       Europe & Central Asia  1.13868e+10  1.18612e+10  1.30197e+10  \n",
       "5       Europe & Central Asia  2.78987e+09  2.89668e+09  3.00018e+09  "
      ]
     },
     "execution_count": 10,
     "metadata": {},
     "output_type": "execute_result"
    }
   ],
   "source": [
    "# Adding gdp_YR(list) to clean_df \n",
    "clean_df['2017 GDP'] = gdp_2017\n",
    "clean_df.head()"
   ]
  },
  {
   "cell_type": "code",
   "execution_count": 11,
   "metadata": {},
   "outputs": [
    {
     "name": "stdout",
     "output_type": "stream",
     "text": [
      "CAN's GDP was not found\n",
      "TWN's GDP was not found\n",
      "[\n",
      "    {\n",
      "        \"page\": 1,\n",
      "        \"pages\": 1,\n",
      "        \"per_page\": 50,\n",
      "        \"total\": 1,\n",
      "        \"sourceid\": \"2\",\n",
      "        \"sourcename\": \"World Development Indicators\",\n",
      "        \"lastupdated\": \"2021-04-26\"\n",
      "    },\n",
      "    [\n",
      "        {\n",
      "            \"indicator\": {\n",
      "                \"id\": \"NY.GDP.MKTP.CD\",\n",
      "                \"value\": \"GDP (current US$)\"\n",
      "            },\n",
      "            \"country\": {\n",
      "                \"id\": \"ZW\",\n",
      "                \"value\": \"Zimbabwe\"\n",
      "            },\n",
      "            \"countryiso3code\": \"ZWE\",\n",
      "            \"date\": \"2018\",\n",
      "            \"value\": 24311560500,\n",
      "            \"unit\": \"\",\n",
      "            \"obs_status\": \"\",\n",
      "            \"decimal\": 0\n",
      "        }\n",
      "    ]\n",
      "]\n"
     ]
    }
   ],
   "source": [
    "# Using yr_calls function to return 2018 GDP as gdp_2018(list)\n",
    "gdp_2018 = yr_calls(2018)"
   ]
  },
  {
   "cell_type": "code",
   "execution_count": 12,
   "metadata": {},
   "outputs": [
    {
     "name": "stderr",
     "output_type": "stream",
     "text": [
      "C:\\Users\\jonat\\anaconda3\\envs\\PythonData\\lib\\site-packages\\ipykernel_launcher.py:2: SettingWithCopyWarning: \n",
      "A value is trying to be set on a copy of a slice from a DataFrame.\n",
      "Try using .loc[row_indexer,col_indexer] = value instead\n",
      "\n",
      "See the caveats in the documentation: https://pandas.pydata.org/pandas-docs/stable/user_guide/indexing.html#returning-a-view-versus-a-copy\n",
      "  \n"
     ]
    },
    {
     "data": {
      "text/html": [
       "<div>\n",
       "<style scoped>\n",
       "    .dataframe tbody tr th:only-of-type {\n",
       "        vertical-align: middle;\n",
       "    }\n",
       "\n",
       "    .dataframe tbody tr th {\n",
       "        vertical-align: top;\n",
       "    }\n",
       "\n",
       "    .dataframe thead th {\n",
       "        text-align: right;\n",
       "    }\n",
       "</style>\n",
       "<table border=\"1\" class=\"dataframe\">\n",
       "  <thead>\n",
       "    <tr style=\"text-align: right;\">\n",
       "      <th></th>\n",
       "      <th>Country</th>\n",
       "      <th>Income Lvl</th>\n",
       "      <th>Country Code</th>\n",
       "      <th>Lat</th>\n",
       "      <th>Lng</th>\n",
       "      <th>Region</th>\n",
       "      <th>2015 GDP</th>\n",
       "      <th>2016 GDP</th>\n",
       "      <th>2017 GDP</th>\n",
       "      <th>2018 GDP</th>\n",
       "    </tr>\n",
       "  </thead>\n",
       "  <tbody>\n",
       "    <tr>\n",
       "      <th>0</th>\n",
       "      <td>Aruba</td>\n",
       "      <td>High income</td>\n",
       "      <td>ABW</td>\n",
       "      <td>12.5167</td>\n",
       "      <td>-70.0167</td>\n",
       "      <td>Latin America &amp; Caribbean</td>\n",
       "      <td>2.91955e+09</td>\n",
       "      <td>2.96592e+09</td>\n",
       "      <td>3.05642e+09</td>\n",
       "      <td>None</td>\n",
       "    </tr>\n",
       "    <tr>\n",
       "      <th>1</th>\n",
       "      <td>Afghanistan</td>\n",
       "      <td>Low income</td>\n",
       "      <td>AFG</td>\n",
       "      <td>34.5228</td>\n",
       "      <td>69.1761</td>\n",
       "      <td>South Asia</td>\n",
       "      <td>1.99071e+10</td>\n",
       "      <td>1.80177e+10</td>\n",
       "      <td>1.88699e+10</td>\n",
       "      <td>1.83539e+10</td>\n",
       "    </tr>\n",
       "    <tr>\n",
       "      <th>3</th>\n",
       "      <td>Angola</td>\n",
       "      <td>Lower middle income</td>\n",
       "      <td>AGO</td>\n",
       "      <td>-8.81155</td>\n",
       "      <td>13.242</td>\n",
       "      <td>Sub-Saharan Africa</td>\n",
       "      <td>1.16194e+11</td>\n",
       "      <td>1.01124e+11</td>\n",
       "      <td>1.22124e+11</td>\n",
       "      <td>1.01353e+11</td>\n",
       "    </tr>\n",
       "    <tr>\n",
       "      <th>4</th>\n",
       "      <td>Albania</td>\n",
       "      <td>Upper middle income</td>\n",
       "      <td>ALB</td>\n",
       "      <td>41.3317</td>\n",
       "      <td>19.8172</td>\n",
       "      <td>Europe &amp; Central Asia</td>\n",
       "      <td>1.13868e+10</td>\n",
       "      <td>1.18612e+10</td>\n",
       "      <td>1.30197e+10</td>\n",
       "      <td>1.5147e+10</td>\n",
       "    </tr>\n",
       "    <tr>\n",
       "      <th>5</th>\n",
       "      <td>Andorra</td>\n",
       "      <td>High income</td>\n",
       "      <td>AND</td>\n",
       "      <td>42.5075</td>\n",
       "      <td>1.5218</td>\n",
       "      <td>Europe &amp; Central Asia</td>\n",
       "      <td>2.78987e+09</td>\n",
       "      <td>2.89668e+09</td>\n",
       "      <td>3.00018e+09</td>\n",
       "      <td>3.21832e+09</td>\n",
       "    </tr>\n",
       "  </tbody>\n",
       "</table>\n",
       "</div>"
      ],
      "text/plain": [
       "       Country           Income Lvl Country Code       Lat       Lng  \\\n",
       "0        Aruba          High income          ABW   12.5167  -70.0167   \n",
       "1  Afghanistan           Low income          AFG   34.5228   69.1761   \n",
       "3       Angola  Lower middle income          AGO  -8.81155    13.242   \n",
       "4      Albania  Upper middle income          ALB   41.3317   19.8172   \n",
       "5      Andorra          High income          AND   42.5075    1.5218   \n",
       "\n",
       "                       Region     2015 GDP     2016 GDP     2017 GDP  \\\n",
       "0  Latin America & Caribbean   2.91955e+09  2.96592e+09  3.05642e+09   \n",
       "1                  South Asia  1.99071e+10  1.80177e+10  1.88699e+10   \n",
       "3         Sub-Saharan Africa   1.16194e+11  1.01124e+11  1.22124e+11   \n",
       "4       Europe & Central Asia  1.13868e+10  1.18612e+10  1.30197e+10   \n",
       "5       Europe & Central Asia  2.78987e+09  2.89668e+09  3.00018e+09   \n",
       "\n",
       "      2018 GDP  \n",
       "0         None  \n",
       "1  1.83539e+10  \n",
       "3  1.01353e+11  \n",
       "4   1.5147e+10  \n",
       "5  3.21832e+09  "
      ]
     },
     "execution_count": 12,
     "metadata": {},
     "output_type": "execute_result"
    }
   ],
   "source": [
    "# Adding gdp_YR(list) to clean_df \n",
    "clean_df['2018 GDP'] = gdp_2018\n",
    "clean_df.head()"
   ]
  },
  {
   "cell_type": "code",
   "execution_count": 13,
   "metadata": {},
   "outputs": [
    {
     "name": "stdout",
     "output_type": "stream",
     "text": [
      "FRA's GDP was not found\n",
      "FSM's GDP was not found\n",
      "LVA's GDP was not found\n",
      "TWN's GDP was not found\n",
      "[\n",
      "    {\n",
      "        \"page\": 1,\n",
      "        \"pages\": 1,\n",
      "        \"per_page\": 50,\n",
      "        \"total\": 1,\n",
      "        \"sourceid\": \"2\",\n",
      "        \"sourcename\": \"World Development Indicators\",\n",
      "        \"lastupdated\": \"2021-04-26\"\n",
      "    },\n",
      "    [\n",
      "        {\n",
      "            \"indicator\": {\n",
      "                \"id\": \"NY.GDP.MKTP.CD\",\n",
      "                \"value\": \"GDP (current US$)\"\n",
      "            },\n",
      "            \"country\": {\n",
      "                \"id\": \"ZW\",\n",
      "                \"value\": \"Zimbabwe\"\n",
      "            },\n",
      "            \"countryiso3code\": \"ZWE\",\n",
      "            \"date\": \"2019\",\n",
      "            \"value\": 21440758800,\n",
      "            \"unit\": \"\",\n",
      "            \"obs_status\": \"\",\n",
      "            \"decimal\": 0\n",
      "        }\n",
      "    ]\n",
      "]\n"
     ]
    }
   ],
   "source": [
    "# Using yr_calls function to return 2019 GDP as gdp_2019(list)\n",
    "gdp_2019 = yr_calls(2019)"
   ]
  },
  {
   "cell_type": "code",
   "execution_count": 14,
   "metadata": {},
   "outputs": [
    {
     "name": "stderr",
     "output_type": "stream",
     "text": [
      "C:\\Users\\jonat\\anaconda3\\envs\\PythonData\\lib\\site-packages\\ipykernel_launcher.py:2: SettingWithCopyWarning: \n",
      "A value is trying to be set on a copy of a slice from a DataFrame.\n",
      "Try using .loc[row_indexer,col_indexer] = value instead\n",
      "\n",
      "See the caveats in the documentation: https://pandas.pydata.org/pandas-docs/stable/user_guide/indexing.html#returning-a-view-versus-a-copy\n",
      "  \n"
     ]
    },
    {
     "data": {
      "text/html": [
       "<div>\n",
       "<style scoped>\n",
       "    .dataframe tbody tr th:only-of-type {\n",
       "        vertical-align: middle;\n",
       "    }\n",
       "\n",
       "    .dataframe tbody tr th {\n",
       "        vertical-align: top;\n",
       "    }\n",
       "\n",
       "    .dataframe thead th {\n",
       "        text-align: right;\n",
       "    }\n",
       "</style>\n",
       "<table border=\"1\" class=\"dataframe\">\n",
       "  <thead>\n",
       "    <tr style=\"text-align: right;\">\n",
       "      <th></th>\n",
       "      <th>Country</th>\n",
       "      <th>Income Lvl</th>\n",
       "      <th>Country Code</th>\n",
       "      <th>Lat</th>\n",
       "      <th>Lng</th>\n",
       "      <th>Region</th>\n",
       "      <th>2015 GDP</th>\n",
       "      <th>2016 GDP</th>\n",
       "      <th>2017 GDP</th>\n",
       "      <th>2018 GDP</th>\n",
       "      <th>2019 GDP</th>\n",
       "    </tr>\n",
       "  </thead>\n",
       "  <tbody>\n",
       "    <tr>\n",
       "      <th>0</th>\n",
       "      <td>Aruba</td>\n",
       "      <td>High income</td>\n",
       "      <td>ABW</td>\n",
       "      <td>12.5167</td>\n",
       "      <td>-70.0167</td>\n",
       "      <td>Latin America &amp; Caribbean</td>\n",
       "      <td>2.91955e+09</td>\n",
       "      <td>2.96592e+09</td>\n",
       "      <td>3.05642e+09</td>\n",
       "      <td>0</td>\n",
       "      <td>0</td>\n",
       "    </tr>\n",
       "    <tr>\n",
       "      <th>1</th>\n",
       "      <td>Afghanistan</td>\n",
       "      <td>Low income</td>\n",
       "      <td>AFG</td>\n",
       "      <td>34.5228</td>\n",
       "      <td>69.1761</td>\n",
       "      <td>South Asia</td>\n",
       "      <td>1.99071e+10</td>\n",
       "      <td>1.80177e+10</td>\n",
       "      <td>1.88699e+10</td>\n",
       "      <td>1.83539e+10</td>\n",
       "      <td>1.92911e+10</td>\n",
       "    </tr>\n",
       "    <tr>\n",
       "      <th>3</th>\n",
       "      <td>Angola</td>\n",
       "      <td>Lower middle income</td>\n",
       "      <td>AGO</td>\n",
       "      <td>-8.81155</td>\n",
       "      <td>13.242</td>\n",
       "      <td>Sub-Saharan Africa</td>\n",
       "      <td>1.16194e+11</td>\n",
       "      <td>1.01124e+11</td>\n",
       "      <td>1.22124e+11</td>\n",
       "      <td>1.01353e+11</td>\n",
       "      <td>8.88157e+10</td>\n",
       "    </tr>\n",
       "    <tr>\n",
       "      <th>4</th>\n",
       "      <td>Albania</td>\n",
       "      <td>Upper middle income</td>\n",
       "      <td>ALB</td>\n",
       "      <td>41.3317</td>\n",
       "      <td>19.8172</td>\n",
       "      <td>Europe &amp; Central Asia</td>\n",
       "      <td>1.13868e+10</td>\n",
       "      <td>1.18612e+10</td>\n",
       "      <td>1.30197e+10</td>\n",
       "      <td>1.5147e+10</td>\n",
       "      <td>1.52792e+10</td>\n",
       "    </tr>\n",
       "    <tr>\n",
       "      <th>5</th>\n",
       "      <td>Andorra</td>\n",
       "      <td>High income</td>\n",
       "      <td>AND</td>\n",
       "      <td>42.5075</td>\n",
       "      <td>1.5218</td>\n",
       "      <td>Europe &amp; Central Asia</td>\n",
       "      <td>2.78987e+09</td>\n",
       "      <td>2.89668e+09</td>\n",
       "      <td>3.00018e+09</td>\n",
       "      <td>3.21832e+09</td>\n",
       "      <td>3.15406e+09</td>\n",
       "    </tr>\n",
       "  </tbody>\n",
       "</table>\n",
       "</div>"
      ],
      "text/plain": [
       "       Country           Income Lvl Country Code       Lat       Lng  \\\n",
       "0        Aruba          High income          ABW   12.5167  -70.0167   \n",
       "1  Afghanistan           Low income          AFG   34.5228   69.1761   \n",
       "3       Angola  Lower middle income          AGO  -8.81155    13.242   \n",
       "4      Albania  Upper middle income          ALB   41.3317   19.8172   \n",
       "5      Andorra          High income          AND   42.5075    1.5218   \n",
       "\n",
       "                       Region     2015 GDP     2016 GDP     2017 GDP  \\\n",
       "0  Latin America & Caribbean   2.91955e+09  2.96592e+09  3.05642e+09   \n",
       "1                  South Asia  1.99071e+10  1.80177e+10  1.88699e+10   \n",
       "3         Sub-Saharan Africa   1.16194e+11  1.01124e+11  1.22124e+11   \n",
       "4       Europe & Central Asia  1.13868e+10  1.18612e+10  1.30197e+10   \n",
       "5       Europe & Central Asia  2.78987e+09  2.89668e+09  3.00018e+09   \n",
       "\n",
       "      2018 GDP     2019 GDP  \n",
       "0            0            0  \n",
       "1  1.83539e+10  1.92911e+10  \n",
       "3  1.01353e+11  8.88157e+10  \n",
       "4   1.5147e+10  1.52792e+10  \n",
       "5  3.21832e+09  3.15406e+09  "
      ]
     },
     "execution_count": 14,
     "metadata": {},
     "output_type": "execute_result"
    }
   ],
   "source": [
    "# Adding gdp_YR(list) to clean_df \n",
    "clean_df['2019 GDP'] = gdp_2019\n",
    "clean_df = clean_df.fillna(0)\n",
    "clean_df.head()"
   ]
  },
  {
   "cell_type": "markdown",
   "metadata": {},
   "source": [
    "# Adam's Section"
   ]
  },
  {
   "cell_type": "code",
   "execution_count": null,
   "metadata": {},
   "outputs": [],
   "source": []
  },
  {
   "cell_type": "code",
   "execution_count": null,
   "metadata": {},
   "outputs": [],
   "source": []
  },
  {
   "cell_type": "markdown",
   "metadata": {},
   "source": [
    "# Cheyenne Section"
   ]
  },
  {
   "cell_type": "code",
   "execution_count": null,
   "metadata": {},
   "outputs": [],
   "source": []
  },
  {
   "cell_type": "code",
   "execution_count": null,
   "metadata": {
    "scrolled": true
   },
   "outputs": [],
   "source": []
  },
  {
   "cell_type": "markdown",
   "metadata": {},
   "source": [
    "# Nathan Section"
   ]
  },
  {
   "cell_type": "markdown",
   "metadata": {},
   "source": [
    "## In this section we compared the World Banks Income Levels and GDP for 2015, 2016, 2017, 2018 and 2019. 2020 GDP data was not available in the World Bank API.  "
   ]
  },
  {
   "cell_type": "markdown",
   "metadata": {},
   "source": [
    "#### Below we plotted histograms to visually see the distrubution of GDP. The histrogram visually shows that the data must have some significant outliers in the data set due to the poor distubution plotted. This visual check confrimed that some more data mining is required before we make assumptions or plot the data using statistical tools like the mean. "
   ]
  },
  {
   "cell_type": "code",
   "execution_count": 15,
   "metadata": {
    "scrolled": true
   },
   "outputs": [
    {
     "data": {
      "text/plain": [
       "array([[<matplotlib.axes._subplots.AxesSubplot object at 0x000001DD64117D30>,\n",
       "        <matplotlib.axes._subplots.AxesSubplot object at 0x000001DD643CD048>],\n",
       "       [<matplotlib.axes._subplots.AxesSubplot object at 0x000001DD643FF2E8>,\n",
       "        <matplotlib.axes._subplots.AxesSubplot object at 0x000001DD64432550>]],\n",
       "      dtype=object)"
      ]
     },
     "execution_count": 15,
     "metadata": {},
     "output_type": "execute_result"
    },
    {
     "data": {
      "image/png": "[encoded data removed]",
      "text/plain": [
       "<Figure size 432x288 with 4 Axes>"
      ]
     },
     "metadata": {
      "needs_background": "light"
     },
     "output_type": "display_data"
    }
   ],
   "source": [
    "# Creating Histograms for a quick visual check of that data spread\n",
    "\n",
    "import numpy as np\n",
    "import matplotlib.pyplot as plt\n",
    "\n",
    "for each_col in ['2015 GDP', '2016 GDP', '2017 GDP', '2018 GDP', '2019 GDP']: \n",
    "    clean_df[each_col]=pd.to_numeric(clean_df[each_col], errors='coerce')\n",
    "# clean_df.head()\n",
    "# low_income=clean_df[clean_df['Income Lvl'] == 'Low income']\n",
    "clean_df[['2015 GDP', '2016 GDP', '2017 GDP', '2018 GDP']].hist()"
   ]
  },
  {
   "cell_type": "markdown",
   "metadata": {},
   "source": [
    "#### From the histograms above we knew that the World Bank income grouping would have outliers and other statistical issues for meaningful plotting. This also helps us conclude that a countries GDP may not correlate to the income of individuals.\n",
    "\n",
    "#### Looking at the box plots below we can confirm that the World Bank income levels have a significant number of outliers and narrow IQR per group. Since each value in the data set is a true value representing a country’s GDP we are not able to throw out outliers from the dataset and still have an accurate represented data set of the world. Instead of throwing out outliers it would be better to regroup or re-bin the income levels into additional groups to compress the spread of GDP.  \n"
   ]
  },
  {
   "cell_type": "code",
   "execution_count": 16,
   "metadata": {},
   "outputs": [
    {
     "data": {
      "text/html": [
       "<div>\n",
       "<style scoped>\n",
       "    .dataframe tbody tr th:only-of-type {\n",
       "        vertical-align: middle;\n",
       "    }\n",
       "\n",
       "    .dataframe tbody tr th {\n",
       "        vertical-align: top;\n",
       "    }\n",
       "\n",
       "    .dataframe thead th {\n",
       "        text-align: right;\n",
       "    }\n",
       "</style>\n",
       "<table border=\"1\" class=\"dataframe\">\n",
       "  <thead>\n",
       "    <tr style=\"text-align: right;\">\n",
       "      <th></th>\n",
       "      <th>Country</th>\n",
       "      <th>Income Lvl</th>\n",
       "      <th>Country Code</th>\n",
       "      <th>Lat</th>\n",
       "      <th>Lng</th>\n",
       "      <th>Region</th>\n",
       "      <th>2015 GDP</th>\n",
       "      <th>2016 GDP</th>\n",
       "      <th>2017 GDP</th>\n",
       "      <th>2018 GDP</th>\n",
       "      <th>2019 GDP</th>\n",
       "    </tr>\n",
       "  </thead>\n",
       "  <tbody>\n",
       "    <tr>\n",
       "      <th>0</th>\n",
       "      <td>Aruba</td>\n",
       "      <td>High income</td>\n",
       "      <td>ABW</td>\n",
       "      <td>12.5167</td>\n",
       "      <td>-70.0167</td>\n",
       "      <td>Latin America &amp; Caribbean</td>\n",
       "      <td>2.919553e+09</td>\n",
       "      <td>2.965922e+09</td>\n",
       "      <td>3.056425e+09</td>\n",
       "      <td>0.000000e+00</td>\n",
       "      <td>0.000000e+00</td>\n",
       "    </tr>\n",
       "    <tr>\n",
       "      <th>1</th>\n",
       "      <td>Afghanistan</td>\n",
       "      <td>Low income</td>\n",
       "      <td>AFG</td>\n",
       "      <td>34.5228</td>\n",
       "      <td>69.1761</td>\n",
       "      <td>South Asia</td>\n",
       "      <td>1.990711e+10</td>\n",
       "      <td>1.801775e+10</td>\n",
       "      <td>1.886995e+10</td>\n",
       "      <td>1.835388e+10</td>\n",
       "      <td>1.929110e+10</td>\n",
       "    </tr>\n",
       "    <tr>\n",
       "      <th>3</th>\n",
       "      <td>Angola</td>\n",
       "      <td>Lower middle income</td>\n",
       "      <td>AGO</td>\n",
       "      <td>-8.81155</td>\n",
       "      <td>13.242</td>\n",
       "      <td>Sub-Saharan Africa</td>\n",
       "      <td>1.161936e+11</td>\n",
       "      <td>1.011239e+11</td>\n",
       "      <td>1.221238e+11</td>\n",
       "      <td>1.013532e+11</td>\n",
       "      <td>8.881570e+10</td>\n",
       "    </tr>\n",
       "    <tr>\n",
       "      <th>4</th>\n",
       "      <td>Albania</td>\n",
       "      <td>Upper middle income</td>\n",
       "      <td>ALB</td>\n",
       "      <td>41.3317</td>\n",
       "      <td>19.8172</td>\n",
       "      <td>Europe &amp; Central Asia</td>\n",
       "      <td>1.138685e+10</td>\n",
       "      <td>1.186120e+10</td>\n",
       "      <td>1.301969e+10</td>\n",
       "      <td>1.514702e+10</td>\n",
       "      <td>1.527918e+10</td>\n",
       "    </tr>\n",
       "    <tr>\n",
       "      <th>5</th>\n",
       "      <td>Andorra</td>\n",
       "      <td>High income</td>\n",
       "      <td>AND</td>\n",
       "      <td>42.5075</td>\n",
       "      <td>1.5218</td>\n",
       "      <td>Europe &amp; Central Asia</td>\n",
       "      <td>2.789870e+09</td>\n",
       "      <td>2.896679e+09</td>\n",
       "      <td>3.000181e+09</td>\n",
       "      <td>3.218316e+09</td>\n",
       "      <td>3.154058e+09</td>\n",
       "    </tr>\n",
       "  </tbody>\n",
       "</table>\n",
       "</div>"
      ],
      "text/plain": [
       "       Country           Income Lvl Country Code       Lat       Lng  \\\n",
       "0        Aruba          High income          ABW   12.5167  -70.0167   \n",
       "1  Afghanistan           Low income          AFG   34.5228   69.1761   \n",
       "3       Angola  Lower middle income          AGO  -8.81155    13.242   \n",
       "4      Albania  Upper middle income          ALB   41.3317   19.8172   \n",
       "5      Andorra          High income          AND   42.5075    1.5218   \n",
       "\n",
       "                       Region      2015 GDP      2016 GDP      2017 GDP  \\\n",
       "0  Latin America & Caribbean   2.919553e+09  2.965922e+09  3.056425e+09   \n",
       "1                  South Asia  1.990711e+10  1.801775e+10  1.886995e+10   \n",
       "3         Sub-Saharan Africa   1.161936e+11  1.011239e+11  1.221238e+11   \n",
       "4       Europe & Central Asia  1.138685e+10  1.186120e+10  1.301969e+10   \n",
       "5       Europe & Central Asia  2.789870e+09  2.896679e+09  3.000181e+09   \n",
       "\n",
       "       2018 GDP      2019 GDP  \n",
       "0  0.000000e+00  0.000000e+00  \n",
       "1  1.835388e+10  1.929110e+10  \n",
       "3  1.013532e+11  8.881570e+10  \n",
       "4  1.514702e+10  1.527918e+10  \n",
       "5  3.218316e+09  3.154058e+09  "
      ]
     },
     "execution_count": 16,
     "metadata": {},
     "output_type": "execute_result"
    }
   ],
   "source": [
    "clean_df.head()"
   ]
  },
  {
   "cell_type": "code",
   "execution_count": 17,
   "metadata": {},
   "outputs": [
    {
     "data": {
      "image/png": "[encoded data removed]",
      "text/plain": [
       "<Figure size 432x288 with 1 Axes>"
      ]
     },
     "metadata": {
      "needs_background": "light"
     },
     "output_type": "display_data"
    },
    {
     "data": {
      "image/png": "[encoded data removed]",
      "text/plain": [
       "<Figure size 432x288 with 1 Axes>"
      ]
     },
     "metadata": {
      "needs_background": "light"
     },
     "output_type": "display_data"
    },
    {
     "data": {
      "image/png": "[encoded data removed]",
      "text/plain": [
       "<Figure size 432x288 with 1 Axes>"
      ]
     },
     "metadata": {
      "needs_background": "light"
     },
     "output_type": "display_data"
    },
    {
     "data": {
      "image/png": "[encoded data removed]",
      "text/plain": [
       "<Figure size 432x288 with 1 Axes>"
      ]
     },
     "metadata": {
      "needs_background": "light"
     },
     "output_type": "display_data"
    },
    {
     "data": {
      "image/png": "[encoded data removed]",
      "text/plain": [
       "<Figure size 432x288 with 1 Axes>"
      ]
     },
     "metadata": {
      "needs_background": "light"
     },
     "output_type": "display_data"
    }
   ],
   "source": [
    "# Plotting box plots to visually see outliers, the IQR and median. \n",
    "\n",
    "for each_col in ['2015 GDP', '2016 GDP', '2017 GDP', '2018 GDP', '2019 GDP']: \n",
    "    clean_df[['Income Lvl', each_col]].boxplot(by='Income Lvl')\n",
    "    \n",
    "\n",
    "    plt.xlabel(\"Wold Bank Income Level\")\n",
    "    plt.ylabel(\" GDP ($) e13\")"
   ]
  },
  {
   "cell_type": "markdown",
   "metadata": {},
   "source": [
    "###  Below is our work to experiment with re-grouping the 2015 GDP to attempt to create more meaningful income groups. \n",
    "\n",
    "### We first decided to make a new bin based on the combined countries GDP from 2015 to 2019. We then combined the countries GDP Bin to their Income Level grouping. \n",
    "\n",
    "### Findings: A county's GDP does not equate to the country's income level. You will see that there are country's with high GDP but low income which would mean that there is a wealth disparity between money coming into a country and going back to their people. We also see that there are a great number of low GDP country's with high income. These are probably countries with smaller populations. \n",
    "\n",
    "### Next Steps: It would be better to now re-bin the county GDP based on GDP per capita in order to get a more accurate picture of l"
   ]
  },
  {
   "cell_type": "code",
   "execution_count": 18,
   "metadata": {},
   "outputs": [
    {
     "data": {
      "text/html": [
       "<div>\n",
       "<style scoped>\n",
       "    .dataframe tbody tr th:only-of-type {\n",
       "        vertical-align: middle;\n",
       "    }\n",
       "\n",
       "    .dataframe tbody tr th {\n",
       "        vertical-align: top;\n",
       "    }\n",
       "\n",
       "    .dataframe thead th {\n",
       "        text-align: right;\n",
       "    }\n",
       "</style>\n",
       "<table border=\"1\" class=\"dataframe\">\n",
       "  <thead>\n",
       "    <tr style=\"text-align: right;\">\n",
       "      <th></th>\n",
       "      <th>average_gdp</th>\n",
       "      <th>bins</th>\n",
       "      <th>old_bins</th>\n",
       "    </tr>\n",
       "  </thead>\n",
       "  <tbody>\n",
       "    <tr>\n",
       "      <th>0</th>\n",
       "      <td>1.788380e+09</td>\n",
       "      <td>Low GDP</td>\n",
       "      <td>High income</td>\n",
       "    </tr>\n",
       "    <tr>\n",
       "      <th>1</th>\n",
       "      <td>1.888796e+10</td>\n",
       "      <td>Lower GDP</td>\n",
       "      <td>Low income</td>\n",
       "    </tr>\n",
       "    <tr>\n",
       "      <th>3</th>\n",
       "      <td>1.059221e+11</td>\n",
       "      <td>Upper GDP</td>\n",
       "      <td>Lower middle income</td>\n",
       "    </tr>\n",
       "    <tr>\n",
       "      <th>4</th>\n",
       "      <td>1.333879e+10</td>\n",
       "      <td>Lower GDP</td>\n",
       "      <td>Upper middle income</td>\n",
       "    </tr>\n",
       "    <tr>\n",
       "      <th>5</th>\n",
       "      <td>3.011821e+09</td>\n",
       "      <td>Low GDP</td>\n",
       "      <td>High income</td>\n",
       "    </tr>\n",
       "  </tbody>\n",
       "</table>\n",
       "</div>"
      ],
      "text/plain": [
       "    average_gdp       bins             old_bins\n",
       "0  1.788380e+09    Low GDP          High income\n",
       "1  1.888796e+10  Lower GDP           Low income\n",
       "3  1.059221e+11  Upper GDP  Lower middle income\n",
       "4  1.333879e+10  Lower GDP  Upper middle income\n",
       "5  3.011821e+09    Low GDP          High income"
      ]
     },
     "metadata": {},
     "output_type": "display_data"
    },
    {
     "data": {
      "text/plain": [
       "old_bins             bins     \n",
       "High income          High GDP     32\n",
       "                     Upper GDP    17\n",
       "                     Low GDP      15\n",
       "                     Lower GDP    12\n",
       "Low income           Lower GDP    14\n",
       "                     Low GDP       7\n",
       "                     Upper GDP     5\n",
       "Lower middle income  Upper GDP    18\n",
       "                     Lower GDP    13\n",
       "                     Low GDP      11\n",
       "                     High GDP      8\n",
       "Upper middle income  High GDP     15\n",
       "                     Lower GDP    15\n",
       "                     Upper GDP    14\n",
       "                     Low GDP      11\n",
       "Name: bins, dtype: int64"
      ]
     },
     "execution_count": 18,
     "metadata": {},
     "output_type": "execute_result"
    }
   ],
   "source": [
    "average_per_country=clean_df[['2015 GDP', '2016 GDP', '2017 GDP', '2018 GDP', '2019 GDP']].mean(axis=1)#.plot(kind='box', showfliers=False)\n",
    "bin_labels={'Low GDP': average_per_country.describe()['25%'], \n",
    "            'Lower GDP': average_per_country.describe()['50%'], \n",
    "            'Upper GDP': average_per_country.describe()['75%'], \n",
    "            'High GDP': average_per_country.max()}\n",
    "bins=[0]+list(bin_labels.values())\n",
    "new_df=pd.DataFrame()\n",
    "new_df['average_gdp']=average_per_country\n",
    "new_df['bins']=pd.cut(average_per_country, bins=bins, labels=bin_labels.keys())\n",
    "new_df['old_bins']=clean_df['Income Lvl']\n",
    "display(new_df.head())\n",
    "# new_df.boxplot(by='bins')\n",
    "# new_df['agree']=new_df['old_bins']==new_df['bins']\n",
    "new_df.groupby('old_bins')['bins'].value_counts()"
   ]
  },
  {
   "cell_type": "code",
   "execution_count": 19,
   "metadata": {
    "scrolled": true
   },
   "outputs": [
    {
     "name": "stdout",
     "output_type": "stream",
     "text": [
      "0.0\n",
      "18224704440000.0\n"
     ]
    },
    {
     "data": {
      "text/plain": [
       "count    2.180000e+02\n",
       "mean     3.397066e+11\n",
       "std      1.522815e+12\n",
       "min      0.000000e+00\n",
       "25%      4.055489e+09\n",
       "50%      1.987476e+10\n",
       "75%      1.525735e+11\n",
       "max      1.822470e+13\n",
       "Name: 2015 GDP, dtype: float64"
      ]
     },
     "execution_count": 19,
     "metadata": {},
     "output_type": "execute_result"
    }
   ],
   "source": [
    "#Determining basic statical details of the 2015 GDP data.\n",
    "\n",
    "min_value = clean_df['2015 GDP'].min()\n",
    "max_value = clean_df['2015 GDP'].max()\n",
    "print(min_value)\n",
    "print(max_value)\n",
    "\n",
    "clean_df['2015 GDP'].describe()"
   ]
  },
  {
   "cell_type": "code",
   "execution_count": 20,
   "metadata": {},
   "outputs": [
    {
     "data": {
      "text/html": [
       "<div>\n",
       "<style scoped>\n",
       "    .dataframe tbody tr th:only-of-type {\n",
       "        vertical-align: middle;\n",
       "    }\n",
       "\n",
       "    .dataframe tbody tr th {\n",
       "        vertical-align: top;\n",
       "    }\n",
       "\n",
       "    .dataframe thead th {\n",
       "        text-align: right;\n",
       "    }\n",
       "</style>\n",
       "<table border=\"1\" class=\"dataframe\">\n",
       "  <thead>\n",
       "    <tr style=\"text-align: right;\">\n",
       "      <th></th>\n",
       "      <th>Country</th>\n",
       "      <th>Income Lvl</th>\n",
       "      <th>Country Code</th>\n",
       "      <th>Lat</th>\n",
       "      <th>Lng</th>\n",
       "      <th>Region</th>\n",
       "      <th>2015 GDP</th>\n",
       "      <th>2016 GDP</th>\n",
       "      <th>2017 GDP</th>\n",
       "      <th>2018 GDP</th>\n",
       "      <th>2019 GDP</th>\n",
       "      <th>2015 bins</th>\n",
       "    </tr>\n",
       "  </thead>\n",
       "  <tbody>\n",
       "    <tr>\n",
       "      <th>0</th>\n",
       "      <td>Aruba</td>\n",
       "      <td>High income</td>\n",
       "      <td>ABW</td>\n",
       "      <td>12.5167</td>\n",
       "      <td>-70.0167</td>\n",
       "      <td>Latin America &amp; Caribbean</td>\n",
       "      <td>2.919553e+09</td>\n",
       "      <td>2.965922e+09</td>\n",
       "      <td>3.056425e+09</td>\n",
       "      <td>0.000000e+00</td>\n",
       "      <td>0.000000e+00</td>\n",
       "      <td>Lowest Low</td>\n",
       "    </tr>\n",
       "    <tr>\n",
       "      <th>1</th>\n",
       "      <td>Afghanistan</td>\n",
       "      <td>Low income</td>\n",
       "      <td>AFG</td>\n",
       "      <td>34.5228</td>\n",
       "      <td>69.1761</td>\n",
       "      <td>South Asia</td>\n",
       "      <td>1.990711e+10</td>\n",
       "      <td>1.801775e+10</td>\n",
       "      <td>1.886995e+10</td>\n",
       "      <td>1.835388e+10</td>\n",
       "      <td>1.929110e+10</td>\n",
       "      <td>Middle</td>\n",
       "    </tr>\n",
       "    <tr>\n",
       "      <th>3</th>\n",
       "      <td>Angola</td>\n",
       "      <td>Lower middle income</td>\n",
       "      <td>AGO</td>\n",
       "      <td>-8.81155</td>\n",
       "      <td>13.242</td>\n",
       "      <td>Sub-Saharan Africa</td>\n",
       "      <td>1.161936e+11</td>\n",
       "      <td>1.011239e+11</td>\n",
       "      <td>1.221238e+11</td>\n",
       "      <td>1.013532e+11</td>\n",
       "      <td>8.881570e+10</td>\n",
       "      <td>Upper Middle</td>\n",
       "    </tr>\n",
       "    <tr>\n",
       "      <th>4</th>\n",
       "      <td>Albania</td>\n",
       "      <td>Upper middle income</td>\n",
       "      <td>ALB</td>\n",
       "      <td>41.3317</td>\n",
       "      <td>19.8172</td>\n",
       "      <td>Europe &amp; Central Asia</td>\n",
       "      <td>1.138685e+10</td>\n",
       "      <td>1.186120e+10</td>\n",
       "      <td>1.301969e+10</td>\n",
       "      <td>1.514702e+10</td>\n",
       "      <td>1.527918e+10</td>\n",
       "      <td>Middle</td>\n",
       "    </tr>\n",
       "    <tr>\n",
       "      <th>5</th>\n",
       "      <td>Andorra</td>\n",
       "      <td>High income</td>\n",
       "      <td>AND</td>\n",
       "      <td>42.5075</td>\n",
       "      <td>1.5218</td>\n",
       "      <td>Europe &amp; Central Asia</td>\n",
       "      <td>2.789870e+09</td>\n",
       "      <td>2.896679e+09</td>\n",
       "      <td>3.000181e+09</td>\n",
       "      <td>3.218316e+09</td>\n",
       "      <td>3.154058e+09</td>\n",
       "      <td>Lowest Low</td>\n",
       "    </tr>\n",
       "  </tbody>\n",
       "</table>\n",
       "</div>"
      ],
      "text/plain": [
       "       Country           Income Lvl Country Code       Lat       Lng  \\\n",
       "0        Aruba          High income          ABW   12.5167  -70.0167   \n",
       "1  Afghanistan           Low income          AFG   34.5228   69.1761   \n",
       "3       Angola  Lower middle income          AGO  -8.81155    13.242   \n",
       "4      Albania  Upper middle income          ALB   41.3317   19.8172   \n",
       "5      Andorra          High income          AND   42.5075    1.5218   \n",
       "\n",
       "                       Region      2015 GDP      2016 GDP      2017 GDP  \\\n",
       "0  Latin America & Caribbean   2.919553e+09  2.965922e+09  3.056425e+09   \n",
       "1                  South Asia  1.990711e+10  1.801775e+10  1.886995e+10   \n",
       "3         Sub-Saharan Africa   1.161936e+11  1.011239e+11  1.221238e+11   \n",
       "4       Europe & Central Asia  1.138685e+10  1.186120e+10  1.301969e+10   \n",
       "5       Europe & Central Asia  2.789870e+09  2.896679e+09  3.000181e+09   \n",
       "\n",
       "       2018 GDP      2019 GDP     2015 bins  \n",
       "0  0.000000e+00  0.000000e+00    Lowest Low  \n",
       "1  1.835388e+10  1.929110e+10        Middle  \n",
       "3  1.013532e+11  8.881570e+10  Upper Middle  \n",
       "4  1.514702e+10  1.527918e+10        Middle  \n",
       "5  3.218316e+09  3.154058e+09    Lowest Low  "
      ]
     },
     "execution_count": 20,
     "metadata": {},
     "output_type": "execute_result"
    }
   ],
   "source": [
    "#Attempting to re-bin the 2015 GDP into new catogories with less outliers utilizing the basic statiscal details. \n",
    "\n",
    "bins = (0, 4.074357e+09, 1.993512e+10, 1.525735e+11, 1.525735e+12, 1.822470e+13)\n",
    "bins\n",
    "\n",
    "labels = labels = ['Lowest Low', 'Middle', 'Upper Middle', 'High', 'Exterme High']\n",
    "\n",
    "clean_df['2015 bins'] = pd.cut(clean_df['2015 GDP'], bins=bins, labels=labels, include_lowest=True)\n",
    "\n",
    "clean_df.head()"
   ]
  },
  {
   "cell_type": "code",
   "execution_count": 21,
   "metadata": {},
   "outputs": [
    {
     "data": {
      "text/plain": [
       "<matplotlib.axes._subplots.AxesSubplot at 0x1dd658d49e8>"
      ]
     },
     "execution_count": 21,
     "metadata": {},
     "output_type": "execute_result"
    },
    {
     "data": {
      "image/png": "[encoded data removed]",
      "text/plain": [
       "<Figure size 432x288 with 1 Axes>"
      ]
     },
     "metadata": {
      "needs_background": "light"
     },
     "output_type": "display_data"
    }
   ],
   "source": [
    "# Plotting box plot to visually see if the new bins fit the data better\n",
    "\n",
    "clean_df[['2015 bins', each_col]].boxplot(by='2015 bins')"
   ]
  },
  {
   "cell_type": "markdown",
   "metadata": {},
   "source": [
    "### Below are scatter plots to explore the change in GDP per the World Bank's income levels. \n",
    "\n",
    "#### The scatter plots show that the rate of change between all the countries within the World Bank's income level \n",
    "\n",
    "### 2018 - 2019 GDP Rate of Change \n",
    "#### The scatter plots below show that all the countries within each of the World Bank's income level had about the same rate of change in GDP throughout 2018 and 2019. This is shown by the linear relationship seen when plotting previous years GDP and the 2019 GDP data. "
   ]
  },
  {
   "cell_type": "code",
   "execution_count": 23,
   "metadata": {},
   "outputs": [
    {
     "data": {
      "text/plain": [
       "Text(0, 0.5, '2019 GDP ($) e13')"
      ]
     },
     "execution_count": 23,
     "metadata": {},
     "output_type": "execute_result"
    },
    {
     "data": {
      "image/png": "[encoded data removed]",
      "text/plain": [
       "<Figure size 432x288 with 1 Axes>"
      ]
     },
     "metadata": {
      "needs_background": "light"
     },
     "output_type": "display_data"
    }
   ],
   "source": [
    "clean_df[clean_df['Income Lvl']=='High income'][['2018 GDP', '2019 GDP']].plot(kind='scatter', x='2018 GDP', y='2019 GDP')\n",
    "\n",
    "plt.title(\"High Income 2018 GDP vs 2019 GDP\")\n",
    "plt.xlabel(\"2018 GDP ($) e13 \")\n",
    "plt.ylabel(\"2019 GDP ($) e13\")"
   ]
  },
  {
   "cell_type": "code",
   "execution_count": 24,
   "metadata": {},
   "outputs": [
    {
     "data": {
      "text/plain": [
       "Text(0, 0.5, '2019 GDP ($) e10')"
      ]
     },
     "execution_count": 24,
     "metadata": {},
     "output_type": "execute_result"
    },
    {
     "data": {
      "image/png": "[encoded data removed]",
      "text/plain": [
       "<Figure size 432x288 with 1 Axes>"
      ]
     },
     "metadata": {
      "needs_background": "light"
     },
     "output_type": "display_data"
    }
   ],
   "source": [
    "clean_df[clean_df['Income Lvl']=='Low income'][['2018 GDP', '2019 GDP']].plot(kind='scatter', x='2018 GDP', y='2019 GDP')\n",
    "plt.title(\"Low Income 2018 GDP vs 2019 GDP\")\n",
    "plt.xlabel(\"2018 GDP ($) e11\")\n",
    "plt.ylabel(\"2019 GDP ($) e10\")"
   ]
  },
  {
   "cell_type": "markdown",
   "metadata": {},
   "source": [
    "### 2015 - 2019 GDP Rate of Change \n",
    "\n",
    "#### Below you can see that the rate of change for high income and low income has some difference. The countries within the high-income group all had about the same rate of change from 2015 to 2019 which can be seen by the relatively linear relationship. However, the low-income grouping had some variety in the GDP rate of change which can be seen with some countries plot not following the 1:1 linear relationship.\n"
   ]
  },
  {
   "cell_type": "code",
   "execution_count": 25,
   "metadata": {},
   "outputs": [
    {
     "data": {
      "text/plain": [
       "Text(0, 0.5, '2019 GDP ($) e13')"
      ]
     },
     "execution_count": 25,
     "metadata": {},
     "output_type": "execute_result"
    },
    {
     "data": {
      "image/png": "[encoded data removed]",
      "text/plain": [
       "<Figure size 432x288 with 1 Axes>"
      ]
     },
     "metadata": {
      "needs_background": "light"
     },
     "output_type": "display_data"
    }
   ],
   "source": [
    "clean_df[clean_df['Income Lvl']=='High income'][['2015 GDP', '2019 GDP']].plot(kind='scatter', x='2015 GDP', y='2019 GDP')\n",
    "plt.title(\"High Income 2015 GDP vs 2019 GDP\")\n",
    "plt.xlabel(\"2015 GDP ($)e13 \")\n",
    "plt.ylabel(\"2019 GDP ($) e13\")"
   ]
  },
  {
   "cell_type": "code",
   "execution_count": 26,
   "metadata": {},
   "outputs": [
    {
     "data": {
      "text/plain": [
       "Text(0, 0.5, '2019 GDP ($) e10')"
      ]
     },
     "execution_count": 26,
     "metadata": {},
     "output_type": "execute_result"
    },
    {
     "data": {
      "image/png": "[encoded data removed]",
      "text/plain": [
       "<Figure size 432x288 with 1 Axes>"
      ]
     },
     "metadata": {
      "needs_background": "light"
     },
     "output_type": "display_data"
    }
   ],
   "source": [
    "clean_df[clean_df['Income Lvl']=='Low income'][['2015 GDP', '2019 GDP']].plot(kind='scatter', x='2015 GDP', y='2019 GDP')\n",
    "plt.title(\"Low Income 2015 GDP vs 2019 GDP\")\n",
    "plt.xlabel(\"2015 GDP ($) e11\")\n",
    "plt.ylabel(\"2019 GDP ($) e10\")"
   ]
  },
  {
   "cell_type": "markdown",
   "metadata": {},
   "source": [
    "# Jonathan Section"
   ]
  },
  {
   "cell_type": "markdown",
   "metadata": {},
   "source": [
    "Use an API request to get all the possible indicators- searching for interesting topics"
   ]
  },
  {
   "cell_type": "code",
   "execution_count": 27,
   "metadata": {
    "scrolled": false
   },
   "outputs": [
    {
     "data": {
      "text/plain": [
       "['Poverty Headcount ($1.90 a day)',\n",
       " 'Poverty Headcount ($2.50 a day)',\n",
       " 'Middle Class ($10-50 a day) Headcount',\n",
       " 'Official Moderate Poverty Rate-National',\n",
       " 'Poverty Headcount ($4 a day)',\n",
       " 'Vulnerable ($4-10 a day) Headcount',\n",
       " 'Poverty Gap ($1.90 a day)',\n",
       " 'Poverty Gap ($2.50 a day)',\n",
       " 'Poverty Gap ($4 a day)',\n",
       " 'Poverty Severity ($1.90 a day)',\n",
       " 'Poverty Severity ($2.50 a day)',\n",
       " 'Poverty Severity ($4 a day)',\n",
       " 'Poverty Headcount ($1.90 a day)-Rural',\n",
       " 'Poverty Headcount ($2.50 a day)-Rural',\n",
       " 'Middle Class ($10-50 a day) Headcount-Rural',\n",
       " 'Official Moderate Poverty Rate- Rural',\n",
       " 'Poverty Headcount ($4 a day)-Rural',\n",
       " 'Vulnerable ($4-10 a day) Headcount-Rural',\n",
       " 'Poverty Gap ($1.90 a day)-Rural',\n",
       " 'Poverty Gap ($2.50 a day)-Rural',\n",
       " 'Poverty Gap ($4 a day)-Rural',\n",
       " 'Poverty Severity ($1.90 a day)-Rural',\n",
       " 'Poverty Severity ($2.50 a day)-Rural',\n",
       " 'Poverty Severity ($4 a day)-Rural',\n",
       " 'Access to electricity (% of total population)',\n",
       " 'Total final energy consumption (TFEC)',\n",
       " 'Literacy rate, youth total (% of people ages 15-24) ',\n",
       " 'Poverty Headcount ($1.90 a day)-Urban',\n",
       " 'Poverty Headcount ($2.50 a day)-Urban',\n",
       " 'Middle Class ($10-50 a day) Headcount-Urban',\n",
       " 'Official Moderate Poverty Rate-Urban',\n",
       " 'Poverty Headcount ($4 a day)-Urban',\n",
       " 'Vulnerable ($4-10 a day) Headcount-Urban',\n",
       " 'Poverty Gap ($1.90 a day)-Urban',\n",
       " 'Poverty Gap ($2.50 a day)-Urban',\n",
       " 'Poverty Gap ($4 a day)-Urban',\n",
       " 'Poverty Severity ($1.90 a day)-Urban',\n",
       " 'Poverty Severity ($2.50 a day)-Urban',\n",
       " 'Poverty Severity ($4 a day)-Urban',\n",
       " 'Access to electricity (% of rural population)',\n",
       " 'Access to electricity (% of urban population)',\n",
       " '100000:GROSS DOMESTIC PRODUCT',\n",
       " '1000000:GROSS DOMESTIC PRODUCT',\n",
       " '110000:INDIVIDUAL CONSUMPTION EXPENDITURE BY HOUSEHOLDS',\n",
       " '110100:FOOD AND NON-ALCOHOLIC BEVERAGES',\n",
       " '1101000:FOOD AND NON-ALCOHOLIC BEVERAGES',\n",
       " '110110:FOOD',\n",
       " '1101100:FOOD',\n",
       " '110111:Bread and cereals (Class)',\n",
       " '1101110:Bread and cereals']"
      ]
     },
     "execution_count": 27,
     "metadata": {},
     "output_type": "execute_result"
    }
   ],
   "source": [
    "# test commit\n",
    "j_url = \"http://api.worldbank.org/v2/indicator?format=json\"\n",
    "indicator_response = requests.get(j_url).json()\n",
    "indicator_names = []\n",
    "for x in range(50):\n",
    "    indicator_names.append(indicator_response[1][x]['name'])\n",
    "indicator_names"
   ]
  },
  {
   "cell_type": "markdown",
   "metadata": {},
   "source": [
    "# Search API using indicator code for Population, grab 2019 data \n",
    "    - located at response[1][1]['value']"
   ]
  },
  {
   "cell_type": "code",
   "execution_count": 28,
   "metadata": {},
   "outputs": [
    {
     "name": "stdout",
     "output_type": "stream",
     "text": [
      "ERI's Population Data was not found\n",
      "TWN's Population Data was not found\n"
     ]
    }
   ],
   "source": [
    "# define empty lists to append data to\n",
    "populations = []\n",
    "    \n",
    "# run for loop, looping throug hall the country (codes) in our Countries DataFrame (named clean_df)\n",
    "for code in clean_df[\"Country Code\"]:\n",
    "\n",
    "    #Build Query Url\n",
    "    try:\n",
    "        population_url = \"http://api.worldbank.org/v2/country/\" + code + \"/indicator/SP.POP.TOTL?format=json\" \n",
    "        pop_response = requests.get(population_url).json()\n",
    "          #import pdb; pdb.set_trace()\n",
    "            \n",
    "          # append population values to list\n",
    "        populations.append(int(pop_response[1][1]['value']))\n",
    "\n",
    "    except (KeyError, TypeError):\n",
    "        print(f\"{code}'s Population Data was not found\")\n",
    "        populations.append(0)\n",
    "        "
   ]
  },
  {
   "cell_type": "markdown",
   "metadata": {},
   "source": [
    "Create new data frame to add 2019 populations to"
   ]
  },
  {
   "cell_type": "code",
   "execution_count": 29,
   "metadata": {},
   "outputs": [
    {
     "data": {
      "text/plain": [
       "1397715000"
      ]
     },
     "execution_count": 29,
     "metadata": {},
     "output_type": "execute_result"
    }
   ],
   "source": [
    "# create new DataFrame to add populations\n",
    "population_df = clean_df.copy()\n",
    "\n",
    "# add population data to DataFrame\n",
    "population_df[\"2019 Population\"] = populations\n",
    "\n",
    "population_df.head()\n",
    "population_df[\"2019 Population\"].max()"
   ]
  },
  {
   "cell_type": "markdown",
   "metadata": {},
   "source": [
    "# Search API using indicator code for Electricity Access data, grab latest data\n",
    "    - located at response[1][0]['value']\n",
    "    - latests data is 2016"
   ]
  },
  {
   "cell_type": "code",
   "execution_count": 30,
   "metadata": {
    "scrolled": true
   },
   "outputs": [
    {
     "name": "stdout",
     "output_type": "stream",
     "text": [
      "ASM's Electricity-Access Data was not found\n",
      "TWN's Electricity-Access Data was not found\n",
      "VGB's Electricity-Access Data was not found\n"
     ]
    }
   ],
   "source": [
    "# GET ELECTRCIITY ACCESS DATA FROM 2016\n",
    "# define empty list to append data to \n",
    "elec_access = []\n",
    "\n",
    "# run for loop, looping throug hall the country (codes) in our Countries DataFrame (named clean_df)\n",
    "for code in clean_df[\"Country Code\"]:\n",
    "\n",
    "    #Build Query Url\n",
    "    try:\n",
    "        elec_url = \"http://api.worldbank.org/v2/country/\" + code + \"/indicator/1.1_ACCESS.ELECTRICITY.TOT?format=json\" \n",
    "        elec_response = requests.get(elec_url).json()\n",
    "          #import pdb; pdb.set_trace()\n",
    "            \n",
    "          # append population values to list\n",
    "        elec_access.append(int(elec_response[1][0]['value']))\n",
    "\n",
    "    except (KeyError, TypeError):\n",
    "        print(f\"{code}'s Electricity-Access Data was not found\")\n",
    "        elec_access.append(0)\n",
    "        \n"
   ]
  },
  {
   "cell_type": "markdown",
   "metadata": {},
   "source": [
    "# Grabbing 2016 Population Data to match 2016 Electricity Access Data"
   ]
  },
  {
   "cell_type": "code",
   "execution_count": 31,
   "metadata": {},
   "outputs": [
    {
     "name": "stdout",
     "output_type": "stream",
     "text": [
      "ERI's 2016 Population Data was not found\n",
      "TWN's 2016 Population Data was not found\n"
     ]
    },
    {
     "data": {
      "text/plain": [
       "218"
      ]
     },
     "execution_count": 31,
     "metadata": {},
     "output_type": "execute_result"
    }
   ],
   "source": [
    "# GET POPULATION DATA FROM 2016 (to match electricity access data year)\n",
    "# define empty lists to append data to\n",
    "populations_2016 = []\n",
    "    \n",
    "# run for loop, looping throug hall the country (codes) in our Countries DataFrame (named clean_df)\n",
    "for code in clean_df[\"Country Code\"]:\n",
    "\n",
    "    #Build Query Url\n",
    "    try:\n",
    "        population_url = \"http://api.worldbank.org/v2/country/\" + code + \"/indicator/SP.POP.TOTL?format=json\" \n",
    "        pop_response = requests.get(population_url).json()\n",
    "          #import pdb; pdb.set_trace()\n",
    "            \n",
    "          # append population values to list\n",
    "        populations_2016.append(int(pop_response[1][4]['value']))\n",
    "\n",
    "    except (KeyError, TypeError):\n",
    "        print(f\"{code}'s 2016 Population Data was not found\")\n",
    "        populations_2016.append(0)\n",
    "\n",
    "len(populations_2016)"
   ]
  },
  {
   "cell_type": "markdown",
   "metadata": {},
   "source": [
    "Add 2016 population and electricty access data to dataframe"
   ]
  },
  {
   "cell_type": "code",
   "execution_count": 32,
   "metadata": {
    "scrolled": true
   },
   "outputs": [
    {
     "data": {
      "text/html": [
       "<div>\n",
       "<style scoped>\n",
       "    .dataframe tbody tr th:only-of-type {\n",
       "        vertical-align: middle;\n",
       "    }\n",
       "\n",
       "    .dataframe tbody tr th {\n",
       "        vertical-align: top;\n",
       "    }\n",
       "\n",
       "    .dataframe thead th {\n",
       "        text-align: right;\n",
       "    }\n",
       "</style>\n",
       "<table border=\"1\" class=\"dataframe\">\n",
       "  <thead>\n",
       "    <tr style=\"text-align: right;\">\n",
       "      <th></th>\n",
       "      <th>Country</th>\n",
       "      <th>Income Lvl</th>\n",
       "      <th>Country Code</th>\n",
       "      <th>Lat</th>\n",
       "      <th>Lng</th>\n",
       "      <th>Region</th>\n",
       "      <th>2015 GDP</th>\n",
       "      <th>2016 GDP</th>\n",
       "      <th>2017 GDP</th>\n",
       "      <th>2018 GDP</th>\n",
       "      <th>2019 GDP</th>\n",
       "      <th>2015 bins</th>\n",
       "      <th>2019 Population</th>\n",
       "      <th>2016 Population</th>\n",
       "      <th>Access to Electricity (2016)</th>\n",
       "    </tr>\n",
       "  </thead>\n",
       "  <tbody>\n",
       "    <tr>\n",
       "      <th>0</th>\n",
       "      <td>Aruba</td>\n",
       "      <td>High income</td>\n",
       "      <td>ABW</td>\n",
       "      <td>12.5167</td>\n",
       "      <td>-70.0167</td>\n",
       "      <td>Latin America &amp; Caribbean</td>\n",
       "      <td>2.919553e+09</td>\n",
       "      <td>2.965922e+09</td>\n",
       "      <td>3.056425e+09</td>\n",
       "      <td>0.000000e+00</td>\n",
       "      <td>0.000000e+00</td>\n",
       "      <td>Lowest Low</td>\n",
       "      <td>106314</td>\n",
       "      <td>104872</td>\n",
       "      <td>95</td>\n",
       "    </tr>\n",
       "    <tr>\n",
       "      <th>1</th>\n",
       "      <td>Afghanistan</td>\n",
       "      <td>Low income</td>\n",
       "      <td>AFG</td>\n",
       "      <td>34.5228</td>\n",
       "      <td>69.1761</td>\n",
       "      <td>South Asia</td>\n",
       "      <td>1.990711e+10</td>\n",
       "      <td>1.801775e+10</td>\n",
       "      <td>1.886995e+10</td>\n",
       "      <td>1.835388e+10</td>\n",
       "      <td>1.929110e+10</td>\n",
       "      <td>Middle</td>\n",
       "      <td>38041754</td>\n",
       "      <td>35383128</td>\n",
       "      <td>84</td>\n",
       "    </tr>\n",
       "    <tr>\n",
       "      <th>3</th>\n",
       "      <td>Angola</td>\n",
       "      <td>Lower middle income</td>\n",
       "      <td>AGO</td>\n",
       "      <td>-8.81155</td>\n",
       "      <td>13.242</td>\n",
       "      <td>Sub-Saharan Africa</td>\n",
       "      <td>1.161936e+11</td>\n",
       "      <td>1.011239e+11</td>\n",
       "      <td>1.221238e+11</td>\n",
       "      <td>1.013532e+11</td>\n",
       "      <td>8.881570e+10</td>\n",
       "      <td>Upper Middle</td>\n",
       "      <td>31825295</td>\n",
       "      <td>28842484</td>\n",
       "      <td>40</td>\n",
       "    </tr>\n",
       "    <tr>\n",
       "      <th>4</th>\n",
       "      <td>Albania</td>\n",
       "      <td>Upper middle income</td>\n",
       "      <td>ALB</td>\n",
       "      <td>41.3317</td>\n",
       "      <td>19.8172</td>\n",
       "      <td>Europe &amp; Central Asia</td>\n",
       "      <td>1.138685e+10</td>\n",
       "      <td>1.186120e+10</td>\n",
       "      <td>1.301969e+10</td>\n",
       "      <td>1.514702e+10</td>\n",
       "      <td>1.527918e+10</td>\n",
       "      <td>Middle</td>\n",
       "      <td>2854191</td>\n",
       "      <td>2876101</td>\n",
       "      <td>100</td>\n",
       "    </tr>\n",
       "    <tr>\n",
       "      <th>5</th>\n",
       "      <td>Andorra</td>\n",
       "      <td>High income</td>\n",
       "      <td>AND</td>\n",
       "      <td>42.5075</td>\n",
       "      <td>1.5218</td>\n",
       "      <td>Europe &amp; Central Asia</td>\n",
       "      <td>2.789870e+09</td>\n",
       "      <td>2.896679e+09</td>\n",
       "      <td>3.000181e+09</td>\n",
       "      <td>3.218316e+09</td>\n",
       "      <td>3.154058e+09</td>\n",
       "      <td>Lowest Low</td>\n",
       "      <td>77142</td>\n",
       "      <td>77297</td>\n",
       "      <td>100</td>\n",
       "    </tr>\n",
       "  </tbody>\n",
       "</table>\n",
       "</div>"
      ],
      "text/plain": [
       "       Country           Income Lvl Country Code       Lat       Lng  \\\n",
       "0        Aruba          High income          ABW   12.5167  -70.0167   \n",
       "1  Afghanistan           Low income          AFG   34.5228   69.1761   \n",
       "3       Angola  Lower middle income          AGO  -8.81155    13.242   \n",
       "4      Albania  Upper middle income          ALB   41.3317   19.8172   \n",
       "5      Andorra          High income          AND   42.5075    1.5218   \n",
       "\n",
       "                       Region      2015 GDP      2016 GDP      2017 GDP  \\\n",
       "0  Latin America & Caribbean   2.919553e+09  2.965922e+09  3.056425e+09   \n",
       "1                  South Asia  1.990711e+10  1.801775e+10  1.886995e+10   \n",
       "3         Sub-Saharan Africa   1.161936e+11  1.011239e+11  1.221238e+11   \n",
       "4       Europe & Central Asia  1.138685e+10  1.186120e+10  1.301969e+10   \n",
       "5       Europe & Central Asia  2.789870e+09  2.896679e+09  3.000181e+09   \n",
       "\n",
       "       2018 GDP      2019 GDP     2015 bins  2019 Population  2016 Population  \\\n",
       "0  0.000000e+00  0.000000e+00    Lowest Low           106314           104872   \n",
       "1  1.835388e+10  1.929110e+10        Middle         38041754         35383128   \n",
       "3  1.013532e+11  8.881570e+10  Upper Middle         31825295         28842484   \n",
       "4  1.514702e+10  1.527918e+10        Middle          2854191          2876101   \n",
       "5  3.218316e+09  3.154058e+09    Lowest Low            77142            77297   \n",
       "\n",
       "   Access to Electricity (2016)  \n",
       "0                            95  \n",
       "1                            84  \n",
       "3                            40  \n",
       "4                           100  \n",
       "5                           100  "
      ]
     },
     "execution_count": 32,
     "metadata": {},
     "output_type": "execute_result"
    }
   ],
   "source": [
    "# add population data to DataFrame\n",
    "population_df[\"2016 Population\"] = populations_2016\n",
    "\n",
    "# add electricity access % to populations DataFrame\n",
    "population_df[\"Access to Electricity (2016)\"] = elec_access\n",
    "\n",
    "population_df.head()"
   ]
  },
  {
   "cell_type": "markdown",
   "metadata": {},
   "source": [
    "# Plot and analysis of 2019 Population v GDP"
   ]
  },
  {
   "cell_type": "code",
   "execution_count": 33,
   "metadata": {
    "scrolled": true
   },
   "outputs": [
    {
     "data": {
      "text/plain": [
       "Text(0, 0.5, 'GDP (10 trillions)')"
      ]
     },
     "execution_count": 33,
     "metadata": {},
     "output_type": "execute_result"
    },
    {
     "data": {
      "image/png": "[encoded data removed]",
      "text/plain": [
       "<Figure size 432x288 with 1 Axes>"
      ]
     },
     "metadata": {
      "needs_background": "light"
     },
     "output_type": "display_data"
    }
   ],
   "source": [
    "#import matplotlib\n",
    "from matplotlib import pyplot as plt\n",
    "\n",
    "# Remove Taiwan- no data\n",
    "clean_pop = population_df.loc[population_df[\"Country Code\"] != \"TWN\"]\n",
    "\n",
    "# replace empty strings\n",
    "clean_pop[\"2019 GDP\"].replace(\"\",np.nan)\n",
    "\n",
    "# plot 2019 gdp vs pop\n",
    "pop = clean_pop[\"2019 Population\"]\n",
    "gdp = clean_pop[\"2019 GDP\"]\n",
    "plt.scatter(pop, gdp)\n",
    "plt.title(\"2019 Population vs GDP\")\n",
    "plt.xlabel(\"Population (billions)\")\n",
    "plt.ylabel(\"GDP (10 trillions)\")"
   ]
  },
  {
   "cell_type": "markdown",
   "metadata": {},
   "source": [
    "Linear regression analysis of 2019 GDP v Pop, is there a relationship?"
   ]
  },
  {
   "cell_type": "code",
   "execution_count": 36,
   "metadata": {
    "scrolled": true
   },
   "outputs": [
    {
     "data": {
      "text/plain": [
       "1.098095876073272e-20"
      ]
     },
     "execution_count": 36,
     "metadata": {},
     "output_type": "execute_result"
    }
   ],
   "source": [
    "# import scipy\n",
    "from scipy import stats as st\n",
    "\n",
    "# Perform linear regression on 2019 Pop v GDP\n",
    "slope, inter, r, p, std_err = st.linregress(pop,gdp)\n",
    "\n",
    "# create equation line\n",
    "fit= slope * pop + inter\n",
    "\n",
    "plt.annotate(fit)"
   ]
  },
  {
   "cell_type": "markdown",
   "metadata": {},
   "source": [
    "# Plot and analysis of 2016 Population v GDP"
   ]
  },
  {
   "cell_type": "code",
   "execution_count": null,
   "metadata": {},
   "outputs": [],
   "source": [
    "# plot 2016 Population vs 2019 GDP with access to electricity % as weight\n",
    "pop = clean_pop[\"2016 Population\"]\n",
    "gdp = clean_pop[\"2016 GDP\"]\n",
    "elec_access = clean_pop[\"Access to Electricity (2016)\"]\n",
    "fig, ax = plt.subplots(figsize=(10, 6))\n",
    "ax.scatter(x = pop, y = gdp, s = elec_access)\n",
    "plt.title(\"2016 Population vs GDP\")\n",
    "plt.xlabel(\"Population (millions)\")\n",
    "plt.ylabel(\"GDP (billions)\")\n",
    "plt.xlim(-1,2000000)\n",
    "plt.ylim(-1,7500000000)\n",
    "print(f'----------------------------------------\\nGlobal mean access to electricity is {round(clean_pop[\"Access to Electricity (2016)\"].mean(),2)}%\\n----------------------------------------\\n')"
   ]
  },
  {
   "cell_type": "markdown",
   "metadata": {},
   "source": [
    "What is the tiny (low electricity access) data point?\n",
    "    \n",
    "    - found that its Guinea-Bissau, in Sub-Saharan Africa"
   ]
  },
  {
   "cell_type": "code",
   "execution_count": null,
   "metadata": {
    "scrolled": true
   },
   "outputs": [],
   "source": [
    "find_small = clean_pop.loc[clean_pop[\"2016 Population\"] > 1750000]\n",
    "find_small = find_small.loc[find_small[\"2016 Population\"] < 2000000]\n",
    "find_small"
   ]
  },
  {
   "cell_type": "markdown",
   "metadata": {},
   "source": [
    "Perform linear regression on 2016 Pop v GDP"
   ]
  },
  {
   "cell_type": "code",
   "execution_count": null,
   "metadata": {},
   "outputs": [],
   "source": [
    "#slope, inter, r, p, std_err = st.linregress(pop,gdp)"
   ]
  },
  {
   "cell_type": "markdown",
   "metadata": {},
   "source": [
    "# Formatting and printing the final data"
   ]
  },
  {
   "cell_type": "code",
   "execution_count": null,
   "metadata": {},
   "outputs": [],
   "source": [
    "# format electricy column to be percent\n",
    "#population_df[\"Access to Electricity (2016)\"] = population_df[\"Access to Electricity (2016)\"].map(\"{:}%\".format)\n",
    "\n",
    "# turn populations list into populations(millions) by dividing by a 1,000,000\n",
    "#divided_pops = [pop / 1000000 for pop in populations]\n",
    "# turn 2016 populations list into populations(100,000s) by dividing by a 100,000\n",
    "#divided_pops = [pop / 100000 for pop in populations_2016]"
   ]
  },
  {
   "cell_type": "code",
   "execution_count": null,
   "metadata": {},
   "outputs": [],
   "source": [
    "#import warnings\n",
    "#warnings.filterwarnings('ignore')"
   ]
  }
 ],
 "metadata": {
  "kernelspec": {
   "display_name": "Python [conda env:PythonData] *",
   "language": "python",
   "name": "conda-env-PythonData-py"
  },
  "language_info": {
   "codemirror_mode": {
    "name": "ipython",
    "version": 3
   },
   "file_extension": ".py",
   "mimetype": "text/x-python",
   "name": "python",
   "nbconvert_exporter": "python",
   "pygments_lexer": "ipython3",
   "version": "3.6.10"
  }
 },
 "nbformat": 4,
 "nbformat_minor": 4
}
