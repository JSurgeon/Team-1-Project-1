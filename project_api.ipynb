{
 "cells": [
  {
   "cell_type": "code",
   "execution_count": 1,
   "metadata": {},
   "outputs": [],
   "source": [
    "# API jupyter notebook file"
   ]
  },
  {
   "cell_type": "code",
   "execution_count": 2,
   "metadata": {},
   "outputs": [],
   "source": [
    "# Dependencies\n",
    "# Dependencies\n",
    "import requests\n",
    "import json\n",
    "import pandas as pd\n",
    "from pprint import pprint\n",
    "import numpy as np\n",
    "import gmaps\n",
    "import gmaps.datasets\n",
    "import matplotlib.pyplot as plt\n",
    "from config import (api_key)\n",
    "import warnings\n",
    "warnings.filterwarnings('ignore')\n",
    "from scipy import stats as st"
   ]
  },
  {
   "cell_type": "markdown",
   "metadata": {},
   "source": [
    "# Begin calls to API\n",
    "#### gather all country data API has and store relevant data into empty lists\n",
    "#### check that the lists are the same lenght- create DataFrame\n",
    "#### team noticed that amount of countries gathered is greater than what is recognized in the globe- found that \"Aggregate\" countries were the extras. We then removed those from the DataFrame\n",
    "#### save clean DataFrame as csv"
   ]
  },
  {
   "cell_type": "code",
   "execution_count": 3,
   "metadata": {
    "scrolled": true
   },
   "outputs": [
    {
     "name": "stdout",
     "output_type": "stream",
     "text": [
      "Length of countries: 297\n",
      "Length of income_levels: 297\n",
      "Length of country_code: 297\n",
      "Length of lats: 297\n",
      "Length of lngs: 297\n",
      "Length of lats: 297\n",
      "Length of lngs: 297\n",
      "Length of regions: 297\n"
     ]
    },
    {
     "data": {
      "text/plain": [
       "218"
      ]
     },
     "execution_count": 3,
     "metadata": {},
     "output_type": "execute_result"
    }
   ],
   "source": [
    "# World bank base url\n",
    "url = \"http://api.worldbank.org/v2/country/?format=json\"\n",
    "\n",
    "# create empty list to hold all countries\n",
    "all_countries = []\n",
    "income_levels = []\n",
    "country_codes = []\n",
    "lats = []\n",
    "lngs = []\n",
    "regions = []\n",
    "\n",
    "# loop through 6 pages of countries, adding countries to our empty list as we go\n",
    "for x in range(6):\n",
    "    countries_response = requests.get(f\"{url}&page={x+1}\").json() \n",
    "    #import pdb; pdb.set_trace()\n",
    "    countries = countries_response[1]\n",
    "    for country in countries:\n",
    "        all_countries.append(country[\"name\"])\n",
    "        income_levels.append(country[\"incomeLevel\"]['value'])\n",
    "        country_codes.append(country['id'])\n",
    "        lats.append(country['latitude'])\n",
    "        lngs.append(country['longitude'])\n",
    "        regions.append(country['region']['value'])\n",
    "\n",
    "# print lengths of lists to check validity\n",
    "print(f'Length of countries: {len(all_countries)}\\nLength of income_levels: {len(income_levels)}\\nLength of country_code: {len(country_codes)}')\n",
    "print(f'Length of lats: {len(lats)}\\nLength of lngs: {len(lngs)}\\nLength of lats: {len(lats)}\\nLength of lngs: {len(lngs)}')\n",
    "print(f'Length of regions: {len(regions)}')\n",
    "countries_df = pd.DataFrame({\n",
    "    \"Country\" : all_countries,\n",
    "    \"Income Lvl\" : income_levels,\n",
    "    \"Country Code\" : country_codes,\n",
    "    \"Lat\" : lats,\n",
    "    \"Lng\" : lngs,\n",
    "    \"Region\" : regions\n",
    "})\n",
    "\n",
    "clean_df = countries_df.loc[countries_df[\"Region\"] != \"Aggregates\", :]\n",
    "\n",
    "clean_df.to_csv(\"clean_countries.csv\", index=False)\n",
    "\n",
    "clean_df.head(5)\n",
    "\n",
    "len(clean_df)"
   ]
  },
  {
   "cell_type": "markdown",
   "metadata": {},
   "source": [
    "### Test calling country-specific API queries"
   ]
  },
  {
   "cell_type": "code",
   "execution_count": 4,
   "metadata": {
    "scrolled": true
   },
   "outputs": [
    {
     "name": "stdout",
     "output_type": "stream",
     "text": [
      "2015 ABW\n",
      "2015 AFG\n",
      "2015 AGO\n",
      "2015 ALB\n",
      "2016 ABW\n",
      "2016 AFG\n",
      "2016 AGO\n",
      "2016 ALB\n",
      "2017 ABW\n",
      "2017 AFG\n",
      "2017 AGO\n",
      "2017 ALB\n"
     ]
    }
   ],
   "source": [
    "years = [2015, 2016,2017]\n",
    "\n",
    "country_codes_test = clean_df['Country Code'][0:4]\n",
    "\n",
    "for year in years:\n",
    "    for code in country_codes_test:\n",
    "        print(year,code)\n",
    "        query_url = \"http://api.worldbank.org/v2/country/\" + code + \"/indicator/NY.GDP.MKTP.CD?format=json&date=\" + str(year)"
   ]
  },
  {
   "cell_type": "markdown",
   "metadata": {},
   "source": [
    "# Functionalize GDP calls by country\n",
    "#### function takes year as a parameter so we can gather multiple years"
   ]
  },
  {
   "cell_type": "code",
   "execution_count": 5,
   "metadata": {},
   "outputs": [],
   "source": [
    "# Practice some calls using specific countries... total population\n",
    "\n",
    "\n",
    "def yr_calls(year):\n",
    "    \"\"\"function changes year in request call\n",
    "    Args:\n",
    "        year(int):This is the year for api call \n",
    "    Returns:\n",
    "        gpds(list): This returns yearly gpd for each country code\n",
    "    \"\"\"\n",
    "#     final_countries = []\n",
    "#     final_codes = []\n",
    "    gdps = []\n",
    "\n",
    "    for code in clean_df[\"Country Code\"]:\n",
    "\n",
    "        #Build Query Url\n",
    "        try:\n",
    "            query_url = \"http://api.worldbank.org/v2/country/\" + code + \"/indicator/NY.GDP.MKTP.CD?format=json&date=\" + str(year) \n",
    "            response = requests.get(query_url).json()\n",
    "            #import pdb; pdb.set_trace()\n",
    "            gdps.append(response[1][0][\"value\"])\n",
    "#             final_countries.append(response[1][0]['country']['value'])\n",
    "#             final_codes.append(response[1][0]['countryiso3code'])\n",
    "\n",
    "\n",
    "        except:\n",
    "            print(f\"{code}'s GDP was not found\")\n",
    "            gdps.append(\"0\")\n",
    "#             final_countries.append(\"0\")\n",
    "#             final_codes.append(\"0\")\n",
    "\n",
    "\n",
    " #   print(json.dumps(response, indent=4))\n",
    "    \n",
    "    return gdps"
   ]
  },
  {
   "cell_type": "markdown",
   "metadata": {},
   "source": [
    "## Gather 2015 GDP data"
   ]
  },
  {
   "cell_type": "code",
   "execution_count": 6,
   "metadata": {},
   "outputs": [
    {
     "name": "stdout",
     "output_type": "stream",
     "text": [
      "TWN's GDP was not found\n"
     ]
    }
   ],
   "source": [
    "# Using yr_calls function to return 2015 GDP as gdp_2015(list)\n",
    "\n",
    "gdp_2015 = yr_calls(2015)"
   ]
  },
  {
   "cell_type": "markdown",
   "metadata": {},
   "source": [
    "### Add to DataFrame"
   ]
  },
  {
   "cell_type": "code",
   "execution_count": 7,
   "metadata": {
    "scrolled": true
   },
   "outputs": [
    {
     "data": {
      "text/html": [
       "<div>\n",
       "<style scoped>\n",
       "    .dataframe tbody tr th:only-of-type {\n",
       "        vertical-align: middle;\n",
       "    }\n",
       "\n",
       "    .dataframe tbody tr th {\n",
       "        vertical-align: top;\n",
       "    }\n",
       "\n",
       "    .dataframe thead th {\n",
       "        text-align: right;\n",
       "    }\n",
       "</style>\n",
       "<table border=\"1\" class=\"dataframe\">\n",
       "  <thead>\n",
       "    <tr style=\"text-align: right;\">\n",
       "      <th></th>\n",
       "      <th>Country</th>\n",
       "      <th>Income Lvl</th>\n",
       "      <th>Country Code</th>\n",
       "      <th>Lat</th>\n",
       "      <th>Lng</th>\n",
       "      <th>Region</th>\n",
       "      <th>2015 GDP</th>\n",
       "    </tr>\n",
       "  </thead>\n",
       "  <tbody>\n",
       "    <tr>\n",
       "      <th>0</th>\n",
       "      <td>Aruba</td>\n",
       "      <td>High income</td>\n",
       "      <td>ABW</td>\n",
       "      <td>12.5167</td>\n",
       "      <td>-70.0167</td>\n",
       "      <td>Latin America &amp; Caribbean</td>\n",
       "      <td>2.91955e+09</td>\n",
       "    </tr>\n",
       "    <tr>\n",
       "      <th>1</th>\n",
       "      <td>Afghanistan</td>\n",
       "      <td>Low income</td>\n",
       "      <td>AFG</td>\n",
       "      <td>34.5228</td>\n",
       "      <td>69.1761</td>\n",
       "      <td>South Asia</td>\n",
       "      <td>1.99071e+10</td>\n",
       "    </tr>\n",
       "    <tr>\n",
       "      <th>3</th>\n",
       "      <td>Angola</td>\n",
       "      <td>Lower middle income</td>\n",
       "      <td>AGO</td>\n",
       "      <td>-8.81155</td>\n",
       "      <td>13.242</td>\n",
       "      <td>Sub-Saharan Africa</td>\n",
       "      <td>1.16194e+11</td>\n",
       "    </tr>\n",
       "    <tr>\n",
       "      <th>4</th>\n",
       "      <td>Albania</td>\n",
       "      <td>Upper middle income</td>\n",
       "      <td>ALB</td>\n",
       "      <td>41.3317</td>\n",
       "      <td>19.8172</td>\n",
       "      <td>Europe &amp; Central Asia</td>\n",
       "      <td>1.13868e+10</td>\n",
       "    </tr>\n",
       "    <tr>\n",
       "      <th>5</th>\n",
       "      <td>Andorra</td>\n",
       "      <td>High income</td>\n",
       "      <td>AND</td>\n",
       "      <td>42.5075</td>\n",
       "      <td>1.5218</td>\n",
       "      <td>Europe &amp; Central Asia</td>\n",
       "      <td>2.78987e+09</td>\n",
       "    </tr>\n",
       "  </tbody>\n",
       "</table>\n",
       "</div>"
      ],
      "text/plain": [
       "       Country           Income Lvl Country Code       Lat       Lng  \\\n",
       "0        Aruba          High income          ABW   12.5167  -70.0167   \n",
       "1  Afghanistan           Low income          AFG   34.5228   69.1761   \n",
       "3       Angola  Lower middle income          AGO  -8.81155    13.242   \n",
       "4      Albania  Upper middle income          ALB   41.3317   19.8172   \n",
       "5      Andorra          High income          AND   42.5075    1.5218   \n",
       "\n",
       "                       Region     2015 GDP  \n",
       "0  Latin America & Caribbean   2.91955e+09  \n",
       "1                  South Asia  1.99071e+10  \n",
       "3         Sub-Saharan Africa   1.16194e+11  \n",
       "4       Europe & Central Asia  1.13868e+10  \n",
       "5       Europe & Central Asia  2.78987e+09  "
      ]
     },
     "execution_count": 7,
     "metadata": {},
     "output_type": "execute_result"
    }
   ],
   "source": [
    "#creating gdp dataframes\n",
    "            \n",
    "clean_df['2015 GDP'] = gdp_2015\n",
    "clean_df.head()\n"
   ]
  },
  {
   "cell_type": "markdown",
   "metadata": {},
   "source": [
    "## Gather 2016 GDP data"
   ]
  },
  {
   "cell_type": "code",
   "execution_count": 8,
   "metadata": {
    "scrolled": true
   },
   "outputs": [
    {
     "name": "stdout",
     "output_type": "stream",
     "text": [
      "TWN's GDP was not found\n"
     ]
    }
   ],
   "source": [
    "# Using yr_calls function to return 2018 GDP as gdp_2018(list)\n",
    "gdp_2016 = yr_calls(2016)"
   ]
  },
  {
   "cell_type": "markdown",
   "metadata": {},
   "source": [
    "### Add to DataFrame"
   ]
  },
  {
   "cell_type": "code",
   "execution_count": 9,
   "metadata": {
    "scrolled": false
   },
   "outputs": [
    {
     "data": {
      "text/html": [
       "<div>\n",
       "<style scoped>\n",
       "    .dataframe tbody tr th:only-of-type {\n",
       "        vertical-align: middle;\n",
       "    }\n",
       "\n",
       "    .dataframe tbody tr th {\n",
       "        vertical-align: top;\n",
       "    }\n",
       "\n",
       "    .dataframe thead th {\n",
       "        text-align: right;\n",
       "    }\n",
       "</style>\n",
       "<table border=\"1\" class=\"dataframe\">\n",
       "  <thead>\n",
       "    <tr style=\"text-align: right;\">\n",
       "      <th></th>\n",
       "      <th>Country</th>\n",
       "      <th>Income Lvl</th>\n",
       "      <th>Country Code</th>\n",
       "      <th>Lat</th>\n",
       "      <th>Lng</th>\n",
       "      <th>Region</th>\n",
       "      <th>2015 GDP</th>\n",
       "      <th>2016 GDP</th>\n",
       "    </tr>\n",
       "  </thead>\n",
       "  <tbody>\n",
       "    <tr>\n",
       "      <th>0</th>\n",
       "      <td>Aruba</td>\n",
       "      <td>High income</td>\n",
       "      <td>ABW</td>\n",
       "      <td>12.5167</td>\n",
       "      <td>-70.0167</td>\n",
       "      <td>Latin America &amp; Caribbean</td>\n",
       "      <td>2.91955e+09</td>\n",
       "      <td>2.96592e+09</td>\n",
       "    </tr>\n",
       "    <tr>\n",
       "      <th>1</th>\n",
       "      <td>Afghanistan</td>\n",
       "      <td>Low income</td>\n",
       "      <td>AFG</td>\n",
       "      <td>34.5228</td>\n",
       "      <td>69.1761</td>\n",
       "      <td>South Asia</td>\n",
       "      <td>1.99071e+10</td>\n",
       "      <td>1.80177e+10</td>\n",
       "    </tr>\n",
       "    <tr>\n",
       "      <th>3</th>\n",
       "      <td>Angola</td>\n",
       "      <td>Lower middle income</td>\n",
       "      <td>AGO</td>\n",
       "      <td>-8.81155</td>\n",
       "      <td>13.242</td>\n",
       "      <td>Sub-Saharan Africa</td>\n",
       "      <td>1.16194e+11</td>\n",
       "      <td>1.01124e+11</td>\n",
       "    </tr>\n",
       "    <tr>\n",
       "      <th>4</th>\n",
       "      <td>Albania</td>\n",
       "      <td>Upper middle income</td>\n",
       "      <td>ALB</td>\n",
       "      <td>41.3317</td>\n",
       "      <td>19.8172</td>\n",
       "      <td>Europe &amp; Central Asia</td>\n",
       "      <td>1.13868e+10</td>\n",
       "      <td>1.18612e+10</td>\n",
       "    </tr>\n",
       "    <tr>\n",
       "      <th>5</th>\n",
       "      <td>Andorra</td>\n",
       "      <td>High income</td>\n",
       "      <td>AND</td>\n",
       "      <td>42.5075</td>\n",
       "      <td>1.5218</td>\n",
       "      <td>Europe &amp; Central Asia</td>\n",
       "      <td>2.78987e+09</td>\n",
       "      <td>2.89668e+09</td>\n",
       "    </tr>\n",
       "  </tbody>\n",
       "</table>\n",
       "</div>"
      ],
      "text/plain": [
       "       Country           Income Lvl Country Code       Lat       Lng  \\\n",
       "0        Aruba          High income          ABW   12.5167  -70.0167   \n",
       "1  Afghanistan           Low income          AFG   34.5228   69.1761   \n",
       "3       Angola  Lower middle income          AGO  -8.81155    13.242   \n",
       "4      Albania  Upper middle income          ALB   41.3317   19.8172   \n",
       "5      Andorra          High income          AND   42.5075    1.5218   \n",
       "\n",
       "                       Region     2015 GDP     2016 GDP  \n",
       "0  Latin America & Caribbean   2.91955e+09  2.96592e+09  \n",
       "1                  South Asia  1.99071e+10  1.80177e+10  \n",
       "3         Sub-Saharan Africa   1.16194e+11  1.01124e+11  \n",
       "4       Europe & Central Asia  1.13868e+10  1.18612e+10  \n",
       "5       Europe & Central Asia  2.78987e+09  2.89668e+09  "
      ]
     },
     "execution_count": 9,
     "metadata": {},
     "output_type": "execute_result"
    }
   ],
   "source": [
    "# Adding gdp_YR(list) to clean_df \n",
    "clean_df['2016 GDP'] = gdp_2016\n",
    "clean_df.head()"
   ]
  },
  {
   "cell_type": "markdown",
   "metadata": {},
   "source": [
    "## Gather 2017 GDP data"
   ]
  },
  {
   "cell_type": "code",
   "execution_count": 10,
   "metadata": {},
   "outputs": [
    {
     "name": "stdout",
     "output_type": "stream",
     "text": [
      "TWN's GDP was not found\n"
     ]
    }
   ],
   "source": [
    "# Using yr_calls function to return 2017 GDP as gdp_2017(list)\n",
    "gdp_2017 = yr_calls(2017)"
   ]
  },
  {
   "cell_type": "markdown",
   "metadata": {},
   "source": [
    "### Add to DataFrame"
   ]
  },
  {
   "cell_type": "code",
   "execution_count": 11,
   "metadata": {
    "scrolled": false
   },
   "outputs": [
    {
     "data": {
      "text/html": [
       "<div>\n",
       "<style scoped>\n",
       "    .dataframe tbody tr th:only-of-type {\n",
       "        vertical-align: middle;\n",
       "    }\n",
       "\n",
       "    .dataframe tbody tr th {\n",
       "        vertical-align: top;\n",
       "    }\n",
       "\n",
       "    .dataframe thead th {\n",
       "        text-align: right;\n",
       "    }\n",
       "</style>\n",
       "<table border=\"1\" class=\"dataframe\">\n",
       "  <thead>\n",
       "    <tr style=\"text-align: right;\">\n",
       "      <th></th>\n",
       "      <th>Country</th>\n",
       "      <th>Income Lvl</th>\n",
       "      <th>Country Code</th>\n",
       "      <th>Lat</th>\n",
       "      <th>Lng</th>\n",
       "      <th>Region</th>\n",
       "      <th>2015 GDP</th>\n",
       "      <th>2016 GDP</th>\n",
       "      <th>2017 GDP</th>\n",
       "    </tr>\n",
       "  </thead>\n",
       "  <tbody>\n",
       "    <tr>\n",
       "      <th>0</th>\n",
       "      <td>Aruba</td>\n",
       "      <td>High income</td>\n",
       "      <td>ABW</td>\n",
       "      <td>12.5167</td>\n",
       "      <td>-70.0167</td>\n",
       "      <td>Latin America &amp; Caribbean</td>\n",
       "      <td>2.91955e+09</td>\n",
       "      <td>2.96592e+09</td>\n",
       "      <td>3.05642e+09</td>\n",
       "    </tr>\n",
       "    <tr>\n",
       "      <th>1</th>\n",
       "      <td>Afghanistan</td>\n",
       "      <td>Low income</td>\n",
       "      <td>AFG</td>\n",
       "      <td>34.5228</td>\n",
       "      <td>69.1761</td>\n",
       "      <td>South Asia</td>\n",
       "      <td>1.99071e+10</td>\n",
       "      <td>1.80177e+10</td>\n",
       "      <td>1.88699e+10</td>\n",
       "    </tr>\n",
       "    <tr>\n",
       "      <th>3</th>\n",
       "      <td>Angola</td>\n",
       "      <td>Lower middle income</td>\n",
       "      <td>AGO</td>\n",
       "      <td>-8.81155</td>\n",
       "      <td>13.242</td>\n",
       "      <td>Sub-Saharan Africa</td>\n",
       "      <td>1.16194e+11</td>\n",
       "      <td>1.01124e+11</td>\n",
       "      <td>1.22124e+11</td>\n",
       "    </tr>\n",
       "    <tr>\n",
       "      <th>4</th>\n",
       "      <td>Albania</td>\n",
       "      <td>Upper middle income</td>\n",
       "      <td>ALB</td>\n",
       "      <td>41.3317</td>\n",
       "      <td>19.8172</td>\n",
       "      <td>Europe &amp; Central Asia</td>\n",
       "      <td>1.13868e+10</td>\n",
       "      <td>1.18612e+10</td>\n",
       "      <td>1.30197e+10</td>\n",
       "    </tr>\n",
       "    <tr>\n",
       "      <th>5</th>\n",
       "      <td>Andorra</td>\n",
       "      <td>High income</td>\n",
       "      <td>AND</td>\n",
       "      <td>42.5075</td>\n",
       "      <td>1.5218</td>\n",
       "      <td>Europe &amp; Central Asia</td>\n",
       "      <td>2.78987e+09</td>\n",
       "      <td>2.89668e+09</td>\n",
       "      <td>3.00018e+09</td>\n",
       "    </tr>\n",
       "  </tbody>\n",
       "</table>\n",
       "</div>"
      ],
      "text/plain": [
       "       Country           Income Lvl Country Code       Lat       Lng  \\\n",
       "0        Aruba          High income          ABW   12.5167  -70.0167   \n",
       "1  Afghanistan           Low income          AFG   34.5228   69.1761   \n",
       "3       Angola  Lower middle income          AGO  -8.81155    13.242   \n",
       "4      Albania  Upper middle income          ALB   41.3317   19.8172   \n",
       "5      Andorra          High income          AND   42.5075    1.5218   \n",
       "\n",
       "                       Region     2015 GDP     2016 GDP     2017 GDP  \n",
       "0  Latin America & Caribbean   2.91955e+09  2.96592e+09  3.05642e+09  \n",
       "1                  South Asia  1.99071e+10  1.80177e+10  1.88699e+10  \n",
       "3         Sub-Saharan Africa   1.16194e+11  1.01124e+11  1.22124e+11  \n",
       "4       Europe & Central Asia  1.13868e+10  1.18612e+10  1.30197e+10  \n",
       "5       Europe & Central Asia  2.78987e+09  2.89668e+09  3.00018e+09  "
      ]
     },
     "execution_count": 11,
     "metadata": {},
     "output_type": "execute_result"
    }
   ],
   "source": [
    "# Adding gdp_YR(list) to clean_df \n",
    "clean_df['2017 GDP'] = gdp_2017\n",
    "clean_df.head()"
   ]
  },
  {
   "cell_type": "markdown",
   "metadata": {},
   "source": [
    "## Gather 2018 GDP data"
   ]
  },
  {
   "cell_type": "code",
   "execution_count": 12,
   "metadata": {},
   "outputs": [
    {
     "name": "stdout",
     "output_type": "stream",
     "text": [
      "TWN's GDP was not found\n"
     ]
    }
   ],
   "source": [
    "# Using yr_calls function to return 2018 GDP as gdp_2018(list)\n",
    "gdp_2018 = yr_calls(2018)"
   ]
  },
  {
   "cell_type": "markdown",
   "metadata": {},
   "source": [
    "### Add to DataFrame"
   ]
  },
  {
   "cell_type": "code",
   "execution_count": 13,
   "metadata": {
    "scrolled": false
   },
   "outputs": [
    {
     "data": {
      "text/html": [
       "<div>\n",
       "<style scoped>\n",
       "    .dataframe tbody tr th:only-of-type {\n",
       "        vertical-align: middle;\n",
       "    }\n",
       "\n",
       "    .dataframe tbody tr th {\n",
       "        vertical-align: top;\n",
       "    }\n",
       "\n",
       "    .dataframe thead th {\n",
       "        text-align: right;\n",
       "    }\n",
       "</style>\n",
       "<table border=\"1\" class=\"dataframe\">\n",
       "  <thead>\n",
       "    <tr style=\"text-align: right;\">\n",
       "      <th></th>\n",
       "      <th>Country</th>\n",
       "      <th>Income Lvl</th>\n",
       "      <th>Country Code</th>\n",
       "      <th>Lat</th>\n",
       "      <th>Lng</th>\n",
       "      <th>Region</th>\n",
       "      <th>2015 GDP</th>\n",
       "      <th>2016 GDP</th>\n",
       "      <th>2017 GDP</th>\n",
       "      <th>2018 GDP</th>\n",
       "    </tr>\n",
       "  </thead>\n",
       "  <tbody>\n",
       "    <tr>\n",
       "      <th>0</th>\n",
       "      <td>Aruba</td>\n",
       "      <td>High income</td>\n",
       "      <td>ABW</td>\n",
       "      <td>12.5167</td>\n",
       "      <td>-70.0167</td>\n",
       "      <td>Latin America &amp; Caribbean</td>\n",
       "      <td>2.91955e+09</td>\n",
       "      <td>2.96592e+09</td>\n",
       "      <td>3.05642e+09</td>\n",
       "      <td>None</td>\n",
       "    </tr>\n",
       "    <tr>\n",
       "      <th>1</th>\n",
       "      <td>Afghanistan</td>\n",
       "      <td>Low income</td>\n",
       "      <td>AFG</td>\n",
       "      <td>34.5228</td>\n",
       "      <td>69.1761</td>\n",
       "      <td>South Asia</td>\n",
       "      <td>1.99071e+10</td>\n",
       "      <td>1.80177e+10</td>\n",
       "      <td>1.88699e+10</td>\n",
       "      <td>1.83539e+10</td>\n",
       "    </tr>\n",
       "    <tr>\n",
       "      <th>3</th>\n",
       "      <td>Angola</td>\n",
       "      <td>Lower middle income</td>\n",
       "      <td>AGO</td>\n",
       "      <td>-8.81155</td>\n",
       "      <td>13.242</td>\n",
       "      <td>Sub-Saharan Africa</td>\n",
       "      <td>1.16194e+11</td>\n",
       "      <td>1.01124e+11</td>\n",
       "      <td>1.22124e+11</td>\n",
       "      <td>1.01353e+11</td>\n",
       "    </tr>\n",
       "    <tr>\n",
       "      <th>4</th>\n",
       "      <td>Albania</td>\n",
       "      <td>Upper middle income</td>\n",
       "      <td>ALB</td>\n",
       "      <td>41.3317</td>\n",
       "      <td>19.8172</td>\n",
       "      <td>Europe &amp; Central Asia</td>\n",
       "      <td>1.13868e+10</td>\n",
       "      <td>1.18612e+10</td>\n",
       "      <td>1.30197e+10</td>\n",
       "      <td>1.5147e+10</td>\n",
       "    </tr>\n",
       "    <tr>\n",
       "      <th>5</th>\n",
       "      <td>Andorra</td>\n",
       "      <td>High income</td>\n",
       "      <td>AND</td>\n",
       "      <td>42.5075</td>\n",
       "      <td>1.5218</td>\n",
       "      <td>Europe &amp; Central Asia</td>\n",
       "      <td>2.78987e+09</td>\n",
       "      <td>2.89668e+09</td>\n",
       "      <td>3.00018e+09</td>\n",
       "      <td>3.21832e+09</td>\n",
       "    </tr>\n",
       "  </tbody>\n",
       "</table>\n",
       "</div>"
      ],
      "text/plain": [
       "       Country           Income Lvl Country Code       Lat       Lng  \\\n",
       "0        Aruba          High income          ABW   12.5167  -70.0167   \n",
       "1  Afghanistan           Low income          AFG   34.5228   69.1761   \n",
       "3       Angola  Lower middle income          AGO  -8.81155    13.242   \n",
       "4      Albania  Upper middle income          ALB   41.3317   19.8172   \n",
       "5      Andorra          High income          AND   42.5075    1.5218   \n",
       "\n",
       "                       Region     2015 GDP     2016 GDP     2017 GDP  \\\n",
       "0  Latin America & Caribbean   2.91955e+09  2.96592e+09  3.05642e+09   \n",
       "1                  South Asia  1.99071e+10  1.80177e+10  1.88699e+10   \n",
       "3         Sub-Saharan Africa   1.16194e+11  1.01124e+11  1.22124e+11   \n",
       "4       Europe & Central Asia  1.13868e+10  1.18612e+10  1.30197e+10   \n",
       "5       Europe & Central Asia  2.78987e+09  2.89668e+09  3.00018e+09   \n",
       "\n",
       "      2018 GDP  \n",
       "0         None  \n",
       "1  1.83539e+10  \n",
       "3  1.01353e+11  \n",
       "4   1.5147e+10  \n",
       "5  3.21832e+09  "
      ]
     },
     "execution_count": 13,
     "metadata": {},
     "output_type": "execute_result"
    }
   ],
   "source": [
    "# Adding gdp_YR(list) to clean_df \n",
    "clean_df['2018 GDP'] = gdp_2018\n",
    "clean_df.head()"
   ]
  },
  {
   "cell_type": "markdown",
   "metadata": {},
   "source": [
    "## Gather 2019 GDP data"
   ]
  },
  {
   "cell_type": "code",
   "execution_count": 14,
   "metadata": {},
   "outputs": [
    {
     "name": "stdout",
     "output_type": "stream",
     "text": [
      "TWN's GDP was not found\n"
     ]
    }
   ],
   "source": [
    "# Using yr_calls function to return 2019 GDP as gdp_2019(list)\n",
    "gdp_2019 = yr_calls(2019)"
   ]
  },
  {
   "cell_type": "markdown",
   "metadata": {},
   "source": [
    "### Add to DataFrame"
   ]
  },
  {
   "cell_type": "code",
   "execution_count": 15,
   "metadata": {
    "scrolled": true
   },
   "outputs": [
    {
     "data": {
      "text/html": [
       "<div>\n",
       "<style scoped>\n",
       "    .dataframe tbody tr th:only-of-type {\n",
       "        vertical-align: middle;\n",
       "    }\n",
       "\n",
       "    .dataframe tbody tr th {\n",
       "        vertical-align: top;\n",
       "    }\n",
       "\n",
       "    .dataframe thead th {\n",
       "        text-align: right;\n",
       "    }\n",
       "</style>\n",
       "<table border=\"1\" class=\"dataframe\">\n",
       "  <thead>\n",
       "    <tr style=\"text-align: right;\">\n",
       "      <th></th>\n",
       "      <th>Country</th>\n",
       "      <th>Income Lvl</th>\n",
       "      <th>Country Code</th>\n",
       "      <th>Lat</th>\n",
       "      <th>Lng</th>\n",
       "      <th>Region</th>\n",
       "      <th>2015 GDP</th>\n",
       "      <th>2016 GDP</th>\n",
       "      <th>2017 GDP</th>\n",
       "      <th>2018 GDP</th>\n",
       "      <th>2019 GDP</th>\n",
       "    </tr>\n",
       "  </thead>\n",
       "  <tbody>\n",
       "    <tr>\n",
       "      <th>0</th>\n",
       "      <td>Aruba</td>\n",
       "      <td>High income</td>\n",
       "      <td>ABW</td>\n",
       "      <td>12.5167</td>\n",
       "      <td>-70.0167</td>\n",
       "      <td>Latin America &amp; Caribbean</td>\n",
       "      <td>2.91955e+09</td>\n",
       "      <td>2.96592e+09</td>\n",
       "      <td>3.05642e+09</td>\n",
       "      <td>0</td>\n",
       "      <td>0</td>\n",
       "    </tr>\n",
       "    <tr>\n",
       "      <th>1</th>\n",
       "      <td>Afghanistan</td>\n",
       "      <td>Low income</td>\n",
       "      <td>AFG</td>\n",
       "      <td>34.5228</td>\n",
       "      <td>69.1761</td>\n",
       "      <td>South Asia</td>\n",
       "      <td>1.99071e+10</td>\n",
       "      <td>1.80177e+10</td>\n",
       "      <td>1.88699e+10</td>\n",
       "      <td>1.83539e+10</td>\n",
       "      <td>1.92911e+10</td>\n",
       "    </tr>\n",
       "    <tr>\n",
       "      <th>3</th>\n",
       "      <td>Angola</td>\n",
       "      <td>Lower middle income</td>\n",
       "      <td>AGO</td>\n",
       "      <td>-8.81155</td>\n",
       "      <td>13.242</td>\n",
       "      <td>Sub-Saharan Africa</td>\n",
       "      <td>1.16194e+11</td>\n",
       "      <td>1.01124e+11</td>\n",
       "      <td>1.22124e+11</td>\n",
       "      <td>1.01353e+11</td>\n",
       "      <td>8.88157e+10</td>\n",
       "    </tr>\n",
       "    <tr>\n",
       "      <th>4</th>\n",
       "      <td>Albania</td>\n",
       "      <td>Upper middle income</td>\n",
       "      <td>ALB</td>\n",
       "      <td>41.3317</td>\n",
       "      <td>19.8172</td>\n",
       "      <td>Europe &amp; Central Asia</td>\n",
       "      <td>1.13868e+10</td>\n",
       "      <td>1.18612e+10</td>\n",
       "      <td>1.30197e+10</td>\n",
       "      <td>1.5147e+10</td>\n",
       "      <td>1.52792e+10</td>\n",
       "    </tr>\n",
       "    <tr>\n",
       "      <th>5</th>\n",
       "      <td>Andorra</td>\n",
       "      <td>High income</td>\n",
       "      <td>AND</td>\n",
       "      <td>42.5075</td>\n",
       "      <td>1.5218</td>\n",
       "      <td>Europe &amp; Central Asia</td>\n",
       "      <td>2.78987e+09</td>\n",
       "      <td>2.89668e+09</td>\n",
       "      <td>3.00018e+09</td>\n",
       "      <td>3.21832e+09</td>\n",
       "      <td>3.15406e+09</td>\n",
       "    </tr>\n",
       "  </tbody>\n",
       "</table>\n",
       "</div>"
      ],
      "text/plain": [
       "       Country           Income Lvl Country Code       Lat       Lng  \\\n",
       "0        Aruba          High income          ABW   12.5167  -70.0167   \n",
       "1  Afghanistan           Low income          AFG   34.5228   69.1761   \n",
       "3       Angola  Lower middle income          AGO  -8.81155    13.242   \n",
       "4      Albania  Upper middle income          ALB   41.3317   19.8172   \n",
       "5      Andorra          High income          AND   42.5075    1.5218   \n",
       "\n",
       "                       Region     2015 GDP     2016 GDP     2017 GDP  \\\n",
       "0  Latin America & Caribbean   2.91955e+09  2.96592e+09  3.05642e+09   \n",
       "1                  South Asia  1.99071e+10  1.80177e+10  1.88699e+10   \n",
       "3         Sub-Saharan Africa   1.16194e+11  1.01124e+11  1.22124e+11   \n",
       "4       Europe & Central Asia  1.13868e+10  1.18612e+10  1.30197e+10   \n",
       "5       Europe & Central Asia  2.78987e+09  2.89668e+09  3.00018e+09   \n",
       "\n",
       "      2018 GDP     2019 GDP  \n",
       "0            0            0  \n",
       "1  1.83539e+10  1.92911e+10  \n",
       "3  1.01353e+11  8.88157e+10  \n",
       "4   1.5147e+10  1.52792e+10  \n",
       "5  3.21832e+09  3.15406e+09  "
      ]
     },
     "execution_count": 15,
     "metadata": {},
     "output_type": "execute_result"
    }
   ],
   "source": [
    "# Adding gdp_YR(list) to clean_df \n",
    "clean_df['2019 GDP'] = gdp_2019\n",
    "clean_df = clean_df.fillna(0)\n",
    "clean_df.head()"
   ]
  },
  {
   "cell_type": "markdown",
   "metadata": {},
   "source": [
    "# Adam's Section"
   ]
  },
  {
   "cell_type": "code",
   "execution_count": 16,
   "metadata": {},
   "outputs": [
    {
     "data": {
      "text/html": [
       "<div>\n",
       "<style scoped>\n",
       "    .dataframe tbody tr th:only-of-type {\n",
       "        vertical-align: middle;\n",
       "    }\n",
       "\n",
       "    .dataframe tbody tr th {\n",
       "        vertical-align: top;\n",
       "    }\n",
       "\n",
       "    .dataframe thead th {\n",
       "        text-align: right;\n",
       "    }\n",
       "</style>\n",
       "<table border=\"1\" class=\"dataframe\">\n",
       "  <thead>\n",
       "    <tr style=\"text-align: right;\">\n",
       "      <th></th>\n",
       "      <th>Country</th>\n",
       "      <th>Income Lvl</th>\n",
       "      <th>Country Code</th>\n",
       "      <th>Lat</th>\n",
       "      <th>Lng</th>\n",
       "      <th>2015 GDP</th>\n",
       "      <th>2016 GDP</th>\n",
       "      <th>2017 GDP</th>\n",
       "      <th>2018 GDP</th>\n",
       "      <th>2019 GDP</th>\n",
       "    </tr>\n",
       "    <tr>\n",
       "      <th>Region</th>\n",
       "      <th></th>\n",
       "      <th></th>\n",
       "      <th></th>\n",
       "      <th></th>\n",
       "      <th></th>\n",
       "      <th></th>\n",
       "      <th></th>\n",
       "      <th></th>\n",
       "      <th></th>\n",
       "      <th></th>\n",
       "    </tr>\n",
       "  </thead>\n",
       "  <tbody>\n",
       "    <tr>\n",
       "      <th>East Asia &amp; Pacific</th>\n",
       "      <td>38</td>\n",
       "      <td>38</td>\n",
       "      <td>38</td>\n",
       "      <td>38</td>\n",
       "      <td>38</td>\n",
       "      <td>38</td>\n",
       "      <td>38</td>\n",
       "      <td>38</td>\n",
       "      <td>38</td>\n",
       "      <td>38</td>\n",
       "    </tr>\n",
       "    <tr>\n",
       "      <th>Europe &amp; Central Asia</th>\n",
       "      <td>58</td>\n",
       "      <td>58</td>\n",
       "      <td>58</td>\n",
       "      <td>58</td>\n",
       "      <td>58</td>\n",
       "      <td>58</td>\n",
       "      <td>58</td>\n",
       "      <td>58</td>\n",
       "      <td>58</td>\n",
       "      <td>58</td>\n",
       "    </tr>\n",
       "    <tr>\n",
       "      <th>Latin America &amp; Caribbean</th>\n",
       "      <td>42</td>\n",
       "      <td>42</td>\n",
       "      <td>42</td>\n",
       "      <td>42</td>\n",
       "      <td>42</td>\n",
       "      <td>42</td>\n",
       "      <td>42</td>\n",
       "      <td>42</td>\n",
       "      <td>42</td>\n",
       "      <td>42</td>\n",
       "    </tr>\n",
       "    <tr>\n",
       "      <th>Middle East &amp; North Africa</th>\n",
       "      <td>21</td>\n",
       "      <td>21</td>\n",
       "      <td>21</td>\n",
       "      <td>21</td>\n",
       "      <td>21</td>\n",
       "      <td>21</td>\n",
       "      <td>21</td>\n",
       "      <td>21</td>\n",
       "      <td>21</td>\n",
       "      <td>21</td>\n",
       "    </tr>\n",
       "    <tr>\n",
       "      <th>North America</th>\n",
       "      <td>3</td>\n",
       "      <td>3</td>\n",
       "      <td>3</td>\n",
       "      <td>3</td>\n",
       "      <td>3</td>\n",
       "      <td>3</td>\n",
       "      <td>3</td>\n",
       "      <td>3</td>\n",
       "      <td>3</td>\n",
       "      <td>3</td>\n",
       "    </tr>\n",
       "    <tr>\n",
       "      <th>South Asia</th>\n",
       "      <td>8</td>\n",
       "      <td>8</td>\n",
       "      <td>8</td>\n",
       "      <td>8</td>\n",
       "      <td>8</td>\n",
       "      <td>8</td>\n",
       "      <td>8</td>\n",
       "      <td>8</td>\n",
       "      <td>8</td>\n",
       "      <td>8</td>\n",
       "    </tr>\n",
       "    <tr>\n",
       "      <th>Sub-Saharan Africa</th>\n",
       "      <td>48</td>\n",
       "      <td>48</td>\n",
       "      <td>48</td>\n",
       "      <td>48</td>\n",
       "      <td>48</td>\n",
       "      <td>48</td>\n",
       "      <td>48</td>\n",
       "      <td>48</td>\n",
       "      <td>48</td>\n",
       "      <td>48</td>\n",
       "    </tr>\n",
       "  </tbody>\n",
       "</table>\n",
       "</div>"
      ],
      "text/plain": [
       "                            Country  Income Lvl  Country Code  Lat  Lng  \\\n",
       "Region                                                                    \n",
       "East Asia & Pacific              38          38            38   38   38   \n",
       "Europe & Central Asia            58          58            58   58   58   \n",
       "Latin America & Caribbean        42          42            42   42   42   \n",
       "Middle East & North Africa       21          21            21   21   21   \n",
       "North America                     3           3             3    3    3   \n",
       "South Asia                        8           8             8    8    8   \n",
       "Sub-Saharan Africa               48          48            48   48   48   \n",
       "\n",
       "                            2015 GDP  2016 GDP  2017 GDP  2018 GDP  2019 GDP  \n",
       "Region                                                                        \n",
       "East Asia & Pacific               38        38        38        38        38  \n",
       "Europe & Central Asia             58        58        58        58        58  \n",
       "Latin America & Caribbean         42        42        42        42        42  \n",
       "Middle East & North Africa        21        21        21        21        21  \n",
       "North America                      3         3         3         3         3  \n",
       "South Asia                         8         8         8         8         8  \n",
       "Sub-Saharan Africa                48        48        48        48        48  "
      ]
     },
     "execution_count": 16,
     "metadata": {},
     "output_type": "execute_result"
    }
   ],
   "source": [
    "#find the counts of region\n",
    "region_total = clean_df.groupby(['Region'])\n",
    "region_total.count()"
   ]
  },
  {
   "cell_type": "code",
   "execution_count": 17,
   "metadata": {},
   "outputs": [
    {
     "data": {
      "text/html": [
       "<div>\n",
       "<style scoped>\n",
       "    .dataframe tbody tr th:only-of-type {\n",
       "        vertical-align: middle;\n",
       "    }\n",
       "\n",
       "    .dataframe tbody tr th {\n",
       "        vertical-align: top;\n",
       "    }\n",
       "\n",
       "    .dataframe thead th {\n",
       "        text-align: right;\n",
       "    }\n",
       "</style>\n",
       "<table border=\"1\" class=\"dataframe\">\n",
       "  <thead>\n",
       "    <tr style=\"text-align: right;\">\n",
       "      <th></th>\n",
       "      <th>Country</th>\n",
       "      <th>Country Code</th>\n",
       "      <th>Lat</th>\n",
       "      <th>Lng</th>\n",
       "      <th>Region</th>\n",
       "      <th>2015 GDP</th>\n",
       "      <th>2016 GDP</th>\n",
       "      <th>2017 GDP</th>\n",
       "      <th>2018 GDP</th>\n",
       "      <th>2019 GDP</th>\n",
       "    </tr>\n",
       "    <tr>\n",
       "      <th>Income Lvl</th>\n",
       "      <th></th>\n",
       "      <th></th>\n",
       "      <th></th>\n",
       "      <th></th>\n",
       "      <th></th>\n",
       "      <th></th>\n",
       "      <th></th>\n",
       "      <th></th>\n",
       "      <th></th>\n",
       "      <th></th>\n",
       "    </tr>\n",
       "  </thead>\n",
       "  <tbody>\n",
       "    <tr>\n",
       "      <th>High income</th>\n",
       "      <td>83</td>\n",
       "      <td>83</td>\n",
       "      <td>83</td>\n",
       "      <td>83</td>\n",
       "      <td>83</td>\n",
       "      <td>83</td>\n",
       "      <td>83</td>\n",
       "      <td>83</td>\n",
       "      <td>83</td>\n",
       "      <td>83</td>\n",
       "    </tr>\n",
       "    <tr>\n",
       "      <th>Low income</th>\n",
       "      <td>29</td>\n",
       "      <td>29</td>\n",
       "      <td>29</td>\n",
       "      <td>29</td>\n",
       "      <td>29</td>\n",
       "      <td>29</td>\n",
       "      <td>29</td>\n",
       "      <td>29</td>\n",
       "      <td>29</td>\n",
       "      <td>29</td>\n",
       "    </tr>\n",
       "    <tr>\n",
       "      <th>Lower middle income</th>\n",
       "      <td>50</td>\n",
       "      <td>50</td>\n",
       "      <td>50</td>\n",
       "      <td>50</td>\n",
       "      <td>50</td>\n",
       "      <td>50</td>\n",
       "      <td>50</td>\n",
       "      <td>50</td>\n",
       "      <td>50</td>\n",
       "      <td>50</td>\n",
       "    </tr>\n",
       "    <tr>\n",
       "      <th>Upper middle income</th>\n",
       "      <td>56</td>\n",
       "      <td>56</td>\n",
       "      <td>56</td>\n",
       "      <td>56</td>\n",
       "      <td>56</td>\n",
       "      <td>56</td>\n",
       "      <td>56</td>\n",
       "      <td>56</td>\n",
       "      <td>56</td>\n",
       "      <td>56</td>\n",
       "    </tr>\n",
       "  </tbody>\n",
       "</table>\n",
       "</div>"
      ],
      "text/plain": [
       "                     Country  Country Code  Lat  Lng  Region  2015 GDP  \\\n",
       "Income Lvl                                                               \n",
       "High income               83            83   83   83      83        83   \n",
       "Low income                29            29   29   29      29        29   \n",
       "Lower middle income       50            50   50   50      50        50   \n",
       "Upper middle income       56            56   56   56      56        56   \n",
       "\n",
       "                     2016 GDP  2017 GDP  2018 GDP  2019 GDP  \n",
       "Income Lvl                                                   \n",
       "High income                83        83        83        83  \n",
       "Low income                 29        29        29        29  \n",
       "Lower middle income        50        50        50        50  \n",
       "Upper middle income        56        56        56        56  "
      ]
     },
     "execution_count": 17,
     "metadata": {},
     "output_type": "execute_result"
    }
   ],
   "source": [
    "income_level = clean_df.groupby(['Income Lvl'])\n",
    "income_level.count()"
   ]
  },
  {
   "cell_type": "code",
   "execution_count": 18,
   "metadata": {},
   "outputs": [
    {
     "data": {
      "text/plain": [
       "Europe & Central Asia         58\n",
       "Sub-Saharan Africa            48\n",
       "Latin America & Caribbean     42\n",
       "East Asia & Pacific           38\n",
       "Middle East & North Africa    21\n",
       "Name: Region, dtype: int64"
      ]
     },
     "execution_count": 18,
     "metadata": {},
     "output_type": "execute_result"
    }
   ],
   "source": [
    "total_region = clean_df['Region'].value_counts()\n",
    "total_region.head()"
   ]
  },
  {
   "cell_type": "code",
   "execution_count": 19,
   "metadata": {},
   "outputs": [
    {
     "data": {
      "text/html": [
       "<div>\n",
       "<style scoped>\n",
       "    .dataframe tbody tr th:only-of-type {\n",
       "        vertical-align: middle;\n",
       "    }\n",
       "\n",
       "    .dataframe tbody tr th {\n",
       "        vertical-align: top;\n",
       "    }\n",
       "\n",
       "    .dataframe thead th {\n",
       "        text-align: right;\n",
       "    }\n",
       "</style>\n",
       "<table border=\"1\" class=\"dataframe\">\n",
       "  <thead>\n",
       "    <tr style=\"text-align: right;\">\n",
       "      <th></th>\n",
       "      <th>count</th>\n",
       "      <th>unique</th>\n",
       "      <th>top</th>\n",
       "      <th>freq</th>\n",
       "    </tr>\n",
       "    <tr>\n",
       "      <th>Region</th>\n",
       "      <th></th>\n",
       "      <th></th>\n",
       "      <th></th>\n",
       "      <th></th>\n",
       "    </tr>\n",
       "  </thead>\n",
       "  <tbody>\n",
       "    <tr>\n",
       "      <th>East Asia &amp; Pacific</th>\n",
       "      <td>38.0</td>\n",
       "      <td>31.0</td>\n",
       "      <td>0.000000e+00</td>\n",
       "      <td>8.0</td>\n",
       "    </tr>\n",
       "    <tr>\n",
       "      <th>Europe &amp; Central Asia</th>\n",
       "      <td>58.0</td>\n",
       "      <td>50.0</td>\n",
       "      <td>0.000000e+00</td>\n",
       "      <td>9.0</td>\n",
       "    </tr>\n",
       "    <tr>\n",
       "      <th>Latin America &amp; Caribbean</th>\n",
       "      <td>42.0</td>\n",
       "      <td>35.0</td>\n",
       "      <td>0.000000e+00</td>\n",
       "      <td>8.0</td>\n",
       "    </tr>\n",
       "    <tr>\n",
       "      <th>Middle East &amp; North Africa</th>\n",
       "      <td>21.0</td>\n",
       "      <td>19.0</td>\n",
       "      <td>0.000000e+00</td>\n",
       "      <td>3.0</td>\n",
       "    </tr>\n",
       "    <tr>\n",
       "      <th>North America</th>\n",
       "      <td>3.0</td>\n",
       "      <td>3.0</td>\n",
       "      <td>1.736426e+12</td>\n",
       "      <td>1.0</td>\n",
       "    </tr>\n",
       "    <tr>\n",
       "      <th>South Asia</th>\n",
       "      <td>8.0</td>\n",
       "      <td>8.0</td>\n",
       "      <td>8.400878e+10</td>\n",
       "      <td>1.0</td>\n",
       "    </tr>\n",
       "    <tr>\n",
       "      <th>Sub-Saharan Africa</th>\n",
       "      <td>48.0</td>\n",
       "      <td>47.0</td>\n",
       "      <td>0.000000e+00</td>\n",
       "      <td>2.0</td>\n",
       "    </tr>\n",
       "  </tbody>\n",
       "</table>\n",
       "</div>"
      ],
      "text/plain": [
       "                            count  unique           top  freq\n",
       "Region                                                       \n",
       "East Asia & Pacific          38.0    31.0  0.000000e+00   8.0\n",
       "Europe & Central Asia        58.0    50.0  0.000000e+00   9.0\n",
       "Latin America & Caribbean    42.0    35.0  0.000000e+00   8.0\n",
       "Middle East & North Africa   21.0    19.0  0.000000e+00   3.0\n",
       "North America                 3.0     3.0  1.736426e+12   1.0\n",
       "South Asia                    8.0     8.0  8.400878e+10   1.0\n",
       "Sub-Saharan Africa           48.0    47.0  0.000000e+00   2.0"
      ]
     },
     "execution_count": 19,
     "metadata": {},
     "output_type": "execute_result"
    }
   ],
   "source": [
    "region_total['2019 GDP'].describe()"
   ]
  },
  {
   "cell_type": "code",
   "execution_count": 20,
   "metadata": {},
   "outputs": [
    {
     "data": {
      "image/png": "[encoded data removed]",
      "text/plain": [
       "<Figure size 432x288 with 1 Axes>"
      ]
     },
     "metadata": {
      "needs_background": "light"
     },
     "output_type": "display_data"
    }
   ],
   "source": [
    "# Configure plot and ticks\n",
    "total_region.plot(kind='bar', facecolor='r')\n",
    "plt.ylabel('Count of Countries')\n",
    "plt.title(\"Region Count of Countries\")\n",
    "plt.show()"
   ]
  },
  {
   "cell_type": "code",
   "execution_count": 21,
   "metadata": {},
   "outputs": [],
   "source": [
    "income_lvl = clean_df['Income Lvl'].value_counts()"
   ]
  },
  {
   "cell_type": "code",
   "execution_count": 22,
   "metadata": {},
   "outputs": [
    {
     "data": {
      "text/plain": [
       "Text(0.5, 1.0, 'Percent of Income Countries - World Bank')"
      ]
     },
     "execution_count": 22,
     "metadata": {},
     "output_type": "execute_result"
    },
    {
     "data": {
      "image/png": "[encoded data removed]",
      "text/plain": [
       "<Figure size 432x288 with 1 Axes>"
      ]
     },
     "metadata": {},
     "output_type": "display_data"
    }
   ],
   "source": [
    "# configure\n",
    "income_lvl.plot(kind='pie', shadow=True, autopct='%1.1f%%', startangle=140 )\n",
    "plt.axis(\"equal\")\n",
    "plt.title(\"Percent of Income Countries - World Bank\")"
   ]
  },
  {
   "cell_type": "code",
   "execution_count": null,
   "metadata": {},
   "outputs": [],
   "source": []
  },
  {
   "cell_type": "markdown",
   "metadata": {},
   "source": [
    "# Adam's Comments\n",
    "\n",
    "Data Discovery Journey\n",
    "\n",
    "As a group we decided to look at the World Bank API to analyze if Population Size and Income Level were closely correlated.  While doing this analysis, we realized that the World Bank API didn't have Population, meaning that we had to identify another source for that infomration.  While looking at the World Bank API, we also realized that the information was rolling up in an interesting way.  We had almost 300 entries for each year, but realized there were a little more than 200 countires in the world.  We realized that a lot of sub regions were rolling up into the data (groups of countries close in geography) as entires into the data.  The group noticed that these groups were labeled \"Aggragets\" in the data so we wrote code to take those rolled up entries out of the data.  \n",
    "\n",
    "This lead to another discovery.  We found that some recognized countires show up in the data but didn't have World Bank information.  An example of this is Taiwan.  Taiwan shows up in the line item data, but didn't have a GDP.  Upon additional research, the team realized that Taiwan is rolled into China's number (perhaps due to geo political reasons).  The team also noticed that North Korea didn't show up in the data (perhaps the World Bank doesn't recognize them in this way). \n",
    "\n",
    "This lead to another discovery.  Not every country was in every year of the data.  We noticed that many of these countries were small and perhaps had some political/transition complication that didn't allow for the World Bank to gather information on or recognize them as a country that year.\n",
    "\n",
    "Lastly, we noticed that not every country had GDP information for every year.  Aruba being one country when looking at the head() of the data that jumped off the page.  They had GDP inforamtion for 2015, 2016 & 2017 all of which were increasing.  But noticed that they didn't have GDP reported on 2018 and 2019.  \n"
   ]
  },
  {
   "cell_type": "code",
   "execution_count": null,
   "metadata": {},
   "outputs": [],
   "source": []
  },
  {
   "cell_type": "markdown",
   "metadata": {},
   "source": [
    "# Cheyenne Section"
   ]
  },
  {
   "cell_type": "code",
   "execution_count": 23,
   "metadata": {},
   "outputs": [],
   "source": [
    "gkey = api_key # define gkey as API key\n",
    "gmaps.configure(api_key=gkey) # configure API key"
   ]
  },
  {
   "cell_type": "code",
   "execution_count": 24,
   "metadata": {},
   "outputs": [],
   "source": [
    "clean_df = clean_df.replace(\"\", np.nan) # clean out any null data and replace with 0\n",
    "clean_df = clean_df.dropna() # drop any NA data\n",
    "\n",
    "clean_df_lat = clean_df[\"Lat\"]\n",
    "clean_df_lng = clean_df[\"Lng\"]\n",
    "\n",
    "lats = [float(lat) for lat in clean_df_lat] # set strings to float\n",
    "lngs = [float(lng) for lng in clean_df_lng] # set strings to float\n",
    "\n",
    "# Store 'Lat' and 'Lng' into locations\n",
    "locations = clean_df[[\"Lat\",\"Lng\"]].astype(float) # set locations to float with astype function\n",
    "\n",
    "# Convert income level to float and store\n",
    "\n",
    "gdp_2019 = clean_df[\"2019 GDP\"].astype(float)"
   ]
  },
  {
   "cell_type": "code",
   "execution_count": 25,
   "metadata": {},
   "outputs": [
    {
     "data": {
      "text/html": [
       "<div>\n",
       "<style scoped>\n",
       "    .dataframe tbody tr th:only-of-type {\n",
       "        vertical-align: middle;\n",
       "    }\n",
       "\n",
       "    .dataframe tbody tr th {\n",
       "        vertical-align: top;\n",
       "    }\n",
       "\n",
       "    .dataframe thead th {\n",
       "        text-align: right;\n",
       "    }\n",
       "</style>\n",
       "<table border=\"1\" class=\"dataframe\">\n",
       "  <thead>\n",
       "    <tr style=\"text-align: right;\">\n",
       "      <th></th>\n",
       "      <th>Country</th>\n",
       "      <th>Income Lvl</th>\n",
       "      <th>Country Code</th>\n",
       "      <th>Lat</th>\n",
       "      <th>Lng</th>\n",
       "      <th>Region</th>\n",
       "      <th>2015 GDP</th>\n",
       "      <th>2016 GDP</th>\n",
       "      <th>2017 GDP</th>\n",
       "      <th>2018 GDP</th>\n",
       "      <th>2019 GDP</th>\n",
       "    </tr>\n",
       "  </thead>\n",
       "  <tbody>\n",
       "    <tr>\n",
       "      <th>281</th>\n",
       "      <td>United States</td>\n",
       "      <td>High income</td>\n",
       "      <td>USA</td>\n",
       "      <td>38.8895</td>\n",
       "      <td>-77.032</td>\n",
       "      <td>North America</td>\n",
       "      <td>18224704440000</td>\n",
       "      <td>18714960538000</td>\n",
       "      <td>19519353692000</td>\n",
       "      <td>20580159776000</td>\n",
       "      <td>21433226000000</td>\n",
       "    </tr>\n",
       "  </tbody>\n",
       "</table>\n",
       "</div>"
      ],
      "text/plain": [
       "           Country   Income Lvl Country Code      Lat      Lng         Region  \\\n",
       "281  United States  High income          USA  38.8895  -77.032  North America   \n",
       "\n",
       "           2015 GDP        2016 GDP        2017 GDP        2018 GDP  \\\n",
       "281  18224704440000  18714960538000  19519353692000  20580159776000   \n",
       "\n",
       "           2019 GDP  \n",
       "281  21433226000000  "
      ]
     },
     "execution_count": 25,
     "metadata": {},
     "output_type": "execute_result"
    }
   ],
   "source": [
    "max_2019 = clean_df[\"2019 GDP\"].max() # find the max income\n",
    "#max_2019\n",
    "max_country_2019 = clean_df.loc[clean_df[\"2019 GDP\"] == max_2019, :]\n",
    "max_country_2019"
   ]
  },
  {
   "cell_type": "code",
   "execution_count": 26,
   "metadata": {
    "scrolled": false
   },
   "outputs": [
    {
     "data": {
      "text/html": [
       "<div>\n",
       "<style scoped>\n",
       "    .dataframe tbody tr th:only-of-type {\n",
       "        vertical-align: middle;\n",
       "    }\n",
       "\n",
       "    .dataframe tbody tr th {\n",
       "        vertical-align: top;\n",
       "    }\n",
       "\n",
       "    .dataframe thead th {\n",
       "        text-align: right;\n",
       "    }\n",
       "</style>\n",
       "<table border=\"1\" class=\"dataframe\">\n",
       "  <thead>\n",
       "    <tr style=\"text-align: right;\">\n",
       "      <th></th>\n",
       "      <th>Country</th>\n",
       "      <th>Income Lvl</th>\n",
       "      <th>Country Code</th>\n",
       "      <th>Lat</th>\n",
       "      <th>Lng</th>\n",
       "      <th>Region</th>\n",
       "      <th>2015 GDP</th>\n",
       "      <th>2016 GDP</th>\n",
       "      <th>2017 GDP</th>\n",
       "      <th>2018 GDP</th>\n",
       "      <th>2019 GDP</th>\n",
       "    </tr>\n",
       "  </thead>\n",
       "  <tbody>\n",
       "    <tr>\n",
       "      <th>0</th>\n",
       "      <td>Aruba</td>\n",
       "      <td>High income</td>\n",
       "      <td>ABW</td>\n",
       "      <td>12.5167</td>\n",
       "      <td>-70.0167</td>\n",
       "      <td>Latin America &amp; Caribbean</td>\n",
       "      <td>2.91955e+09</td>\n",
       "      <td>2.96592e+09</td>\n",
       "      <td>3.05642e+09</td>\n",
       "      <td>0</td>\n",
       "      <td>0</td>\n",
       "    </tr>\n",
       "    <tr>\n",
       "      <th>10</th>\n",
       "      <td>American Samoa</td>\n",
       "      <td>Upper middle income</td>\n",
       "      <td>ASM</td>\n",
       "      <td>-14.2846</td>\n",
       "      <td>-170.691</td>\n",
       "      <td>East Asia &amp; Pacific</td>\n",
       "      <td>661000000</td>\n",
       "      <td>652000000</td>\n",
       "      <td>602000000</td>\n",
       "      <td>636000000</td>\n",
       "      <td>0</td>\n",
       "    </tr>\n",
       "    <tr>\n",
       "      <th>61</th>\n",
       "      <td>Cuba</td>\n",
       "      <td>Upper middle income</td>\n",
       "      <td>CUB</td>\n",
       "      <td>23.1333</td>\n",
       "      <td>-82.3667</td>\n",
       "      <td>Latin America &amp; Caribbean</td>\n",
       "      <td>87133000000</td>\n",
       "      <td>91370000000</td>\n",
       "      <td>96851000000</td>\n",
       "      <td>100023000000</td>\n",
       "      <td>0</td>\n",
       "    </tr>\n",
       "    <tr>\n",
       "      <th>63</th>\n",
       "      <td>Cayman Islands</td>\n",
       "      <td>High income</td>\n",
       "      <td>CYM</td>\n",
       "      <td>19.3022</td>\n",
       "      <td>-81.3857</td>\n",
       "      <td>Latin America &amp; Caribbean</td>\n",
       "      <td>4.70834e+09</td>\n",
       "      <td>4.9095e+09</td>\n",
       "      <td>5.15309e+09</td>\n",
       "      <td>5.51736e+09</td>\n",
       "      <td>0</td>\n",
       "    </tr>\n",
       "    <tr>\n",
       "      <th>90</th>\n",
       "      <td>Eritrea</td>\n",
       "      <td>Low income</td>\n",
       "      <td>ERI</td>\n",
       "      <td>15.3315</td>\n",
       "      <td>38.9183</td>\n",
       "      <td>Sub-Saharan Africa</td>\n",
       "      <td>0</td>\n",
       "      <td>0</td>\n",
       "      <td>0</td>\n",
       "      <td>0</td>\n",
       "      <td>0</td>\n",
       "    </tr>\n",
       "  </tbody>\n",
       "</table>\n",
       "</div>"
      ],
      "text/plain": [
       "           Country           Income Lvl Country Code       Lat       Lng  \\\n",
       "0            Aruba          High income          ABW   12.5167  -70.0167   \n",
       "10  American Samoa  Upper middle income          ASM  -14.2846  -170.691   \n",
       "61            Cuba  Upper middle income          CUB   23.1333  -82.3667   \n",
       "63  Cayman Islands          High income          CYM   19.3022  -81.3857   \n",
       "90         Eritrea           Low income          ERI   15.3315   38.9183   \n",
       "\n",
       "                        Region     2015 GDP     2016 GDP     2017 GDP  \\\n",
       "0   Latin America & Caribbean   2.91955e+09  2.96592e+09  3.05642e+09   \n",
       "10         East Asia & Pacific    661000000    652000000    602000000   \n",
       "61  Latin America & Caribbean   87133000000  91370000000  96851000000   \n",
       "63  Latin America & Caribbean   4.70834e+09   4.9095e+09  5.15309e+09   \n",
       "90         Sub-Saharan Africa             0            0            0   \n",
       "\n",
       "        2018 GDP 2019 GDP  \n",
       "0              0        0  \n",
       "10     636000000        0  \n",
       "61  100023000000        0  \n",
       "63   5.51736e+09        0  \n",
       "90             0        0  "
      ]
     },
     "execution_count": 26,
     "metadata": {},
     "output_type": "execute_result"
    }
   ],
   "source": [
    "min_2019 = clean_df[\"2019 GDP\"].min() # find the min income\n",
    "# min_2019\n",
    "min_country_2019 = clean_df.loc[clean_df[\"2019 GDP\"] == min_2019, :]\n",
    "min_country_2019.head()"
   ]
  },
  {
   "cell_type": "markdown",
   "metadata": {},
   "source": [
    "### HEATMAP BLOCK NOT FUNCTIONING PROPERLY"
   ]
  },
  {
   "cell_type": "code",
   "execution_count": 50,
   "metadata": {},
   "outputs": [
    {
     "ename": "TypeError",
     "evalue": "tuple indices must be integers or slices, not str",
     "output_type": "error",
     "traceback": [
      "\u001b[1;31m---------------------------------------------------------------------------\u001b[0m",
      "\u001b[1;31mTypeError\u001b[0m                                 Traceback (most recent call last)",
      "\u001b[1;32m<ipython-input-50-f3d2a6d64aba>\u001b[0m in \u001b[0;36m<module>\u001b[1;34m\u001b[0m\n\u001b[0;32m     26\u001b[0m ]\n\u001b[0;32m     27\u001b[0m \u001b[1;33m\u001b[0m\u001b[0m\n\u001b[1;32m---> 28\u001b[1;33m \u001b[0mincome_locations\u001b[0m \u001b[1;33m=\u001b[0m \u001b[1;33m[\u001b[0m\u001b[0mincome\u001b[0m\u001b[1;33m[\u001b[0m\u001b[1;34m'location'\u001b[0m\u001b[1;33m]\u001b[0m \u001b[1;32mfor\u001b[0m \u001b[0mincome\u001b[0m \u001b[1;32min\u001b[0m \u001b[0mincome_level\u001b[0m\u001b[1;33m]\u001b[0m\u001b[1;33m\u001b[0m\u001b[1;33m\u001b[0m\u001b[0m\n\u001b[0m\u001b[0;32m     29\u001b[0m info_box_template = \"\"\"\n\u001b[0;32m     30\u001b[0m \u001b[1;33m<\u001b[0m\u001b[0mdl\u001b[0m\u001b[1;33m>\u001b[0m\u001b[1;33m\u001b[0m\u001b[1;33m\u001b[0m\u001b[0m\n",
      "\u001b[1;32m<ipython-input-50-f3d2a6d64aba>\u001b[0m in \u001b[0;36m<listcomp>\u001b[1;34m(.0)\u001b[0m\n\u001b[0;32m     26\u001b[0m ]\n\u001b[0;32m     27\u001b[0m \u001b[1;33m\u001b[0m\u001b[0m\n\u001b[1;32m---> 28\u001b[1;33m \u001b[0mincome_locations\u001b[0m \u001b[1;33m=\u001b[0m \u001b[1;33m[\u001b[0m\u001b[0mincome\u001b[0m\u001b[1;33m[\u001b[0m\u001b[1;34m'location'\u001b[0m\u001b[1;33m]\u001b[0m \u001b[1;32mfor\u001b[0m \u001b[0mincome\u001b[0m \u001b[1;32min\u001b[0m \u001b[0mincome_level\u001b[0m\u001b[1;33m]\u001b[0m\u001b[1;33m\u001b[0m\u001b[1;33m\u001b[0m\u001b[0m\n\u001b[0m\u001b[0;32m     29\u001b[0m info_box_template = \"\"\"\n\u001b[0;32m     30\u001b[0m \u001b[1;33m<\u001b[0m\u001b[0mdl\u001b[0m\u001b[1;33m>\u001b[0m\u001b[1;33m\u001b[0m\u001b[1;33m\u001b[0m\u001b[0m\n",
      "\u001b[1;31mTypeError\u001b[0m: tuple indices must be integers or slices, not str"
     ]
    }
   ],
   "source": [
    "fig = gmaps.figure()\n",
    "heatmap_data = {\"Counts\": gdp_2019,\n",
    "               \"latitude\": lats,\n",
    "               \"longitude\": lngs,\n",
    "               }\n",
    "\n",
    "weights = heatmap_data[\"Counts\"]\n",
    "heatmap_layer = gmaps.heatmap_layer(locations)\n",
    "\n",
    "marker_locations = [\n",
    "    (38.8895, -77.032), # United States\n",
    "    (12.5167, -170.691), # Aruba\n",
    "    (-14.2846, -170.691), # American Samoa\n",
    "    (23.1333, -82.3667), # Cuba\n",
    "    (19.3022, -81.3857) # Cayman Islands\n",
    "]\n",
    "\n",
    "markers = gmaps.marker_layer(marker_locations)\n",
    "\n",
    "gdp_level = [\n",
    "    {'name': 'United States', 'location': (38.8895, -77.032), 'Income_Lvl': 2.143323e+13},\n",
    "    {'name': 'Aruba', 'location': (12.5167, -170.691), 'Income_Lvl': 0},\n",
    "    {'name': 'American Samoa', 'location': (-14.2846, -170.691), 'Income_Lvl': 0},\n",
    "    {'name': 'Cuba', 'location': (23.1333, -82.3667), 'Income_Lvl': 0},\n",
    "    {'name': 'Cayman Islands', 'location': (19.3022, -81.3857), 'Income_Lvl': 0},\n",
    "]\n",
    "\n",
    "income_locations = [income['location'] for income in income_level]\n",
    "info_box_template = \"\"\"\n",
    "<dl>\n",
    "<dt>Name</dt><dd>{name}</dd>\n",
    "<dt>2019 GDP Amount</dt><dd>{Income_Lvl}</dd>\n",
    "</dl>\n",
    "\"\"\"\n",
    "income_info = [info_box_template.format(**income) for income in income_level]\n",
    "\n",
    "marker_layer = gmaps.marker_layer(income_locations, info_box_content=income_info)\n",
    "fig.add_layer(marker_layer)\n",
    "fig.add_layer(markers)\n",
    "fig.add_layer(heatmap_layer)\n",
    "fig"
   ]
  },
  {
   "cell_type": "markdown",
   "metadata": {},
   "source": [
    "# Nathan Section"
   ]
  },
  {
   "cell_type": "markdown",
   "metadata": {},
   "source": [
    "## In this section we compared the World Banks Income Levels and GDP for 2015, 2016, 2017, 2018 and 2019. 2020 GDP data was not available in the World Bank API.  "
   ]
  },
  {
   "cell_type": "markdown",
   "metadata": {},
   "source": [
    "#### Below we plotted histograms to visually see the distrubution of GDP. The histrogram visually shows that the data must have some significant outliers in the data set due to the poor distubution plotted. This visual check confrimed that some more data mining is required before we make assumptions or plot the data using statistical tools like the mean. "
   ]
  },
  {
   "cell_type": "code",
   "execution_count": 27,
   "metadata": {
    "scrolled": true
   },
   "outputs": [
    {
     "data": {
      "text/plain": [
       "array([[<matplotlib.axes._subplots.AxesSubplot object at 0x000001B4AC2CC7F0>,\n",
       "        <matplotlib.axes._subplots.AxesSubplot object at 0x000001B4AC2FBA90>],\n",
       "       [<matplotlib.axes._subplots.AxesSubplot object at 0x000001B4AC32CCF8>,\n",
       "        <matplotlib.axes._subplots.AxesSubplot object at 0x000001B4AC362F60>]],\n",
       "      dtype=object)"
      ]
     },
     "execution_count": 27,
     "metadata": {},
     "output_type": "execute_result"
    },
    {
     "data": {
      "image/png": "[encoded data removed]",
      "text/plain": [
       "<Figure size 432x288 with 4 Axes>"
      ]
     },
     "metadata": {
      "needs_background": "light"
     },
     "output_type": "display_data"
    }
   ],
   "source": [
    "# Creating Histograms for a quick visual check of that data spread\n",
    "\n",
    "import numpy as np\n",
    "import matplotlib.pyplot as plt\n",
    "\n",
    "for each_col in ['2015 GDP', '2016 GDP', '2017 GDP', '2018 GDP', '2019 GDP']: \n",
    "    clean_df[each_col]=pd.to_numeric(clean_df[each_col], errors='coerce')\n",
    "# clean_df.head()\n",
    "# low_income=clean_df[clean_df['Income Lvl'] == 'Low income']\n",
    "clean_df[['2015 GDP', '2016 GDP', '2017 GDP', '2018 GDP']].hist()"
   ]
  },
  {
   "cell_type": "markdown",
   "metadata": {},
   "source": [
    "#### From the histograms above we knew that the World Bank income grouping would have outliers and other statistical issues for meaningful plotting. This also helps us conclude that a countries GDP may not correlate to the income of individuals.\n",
    "\n",
    "#### Looking at the box plots below we can confirm that the World Bank income levels have a significant number of outliers and narrow IQR per group. Since each value in the data set is a true value representing a country’s GDP we are not able to throw out outliers from the dataset and still have an accurate represented data set of the world. Instead of throwing out outliers it would be better to regroup or re-bin the income levels into additional groups to compress the spread of GDP.  \n"
   ]
  },
  {
   "cell_type": "code",
   "execution_count": 28,
   "metadata": {},
   "outputs": [
    {
     "data": {
      "text/html": [
       "<div>\n",
       "<style scoped>\n",
       "    .dataframe tbody tr th:only-of-type {\n",
       "        vertical-align: middle;\n",
       "    }\n",
       "\n",
       "    .dataframe tbody tr th {\n",
       "        vertical-align: top;\n",
       "    }\n",
       "\n",
       "    .dataframe thead th {\n",
       "        text-align: right;\n",
       "    }\n",
       "</style>\n",
       "<table border=\"1\" class=\"dataframe\">\n",
       "  <thead>\n",
       "    <tr style=\"text-align: right;\">\n",
       "      <th></th>\n",
       "      <th>Country</th>\n",
       "      <th>Income Lvl</th>\n",
       "      <th>Country Code</th>\n",
       "      <th>Lat</th>\n",
       "      <th>Lng</th>\n",
       "      <th>Region</th>\n",
       "      <th>2015 GDP</th>\n",
       "      <th>2016 GDP</th>\n",
       "      <th>2017 GDP</th>\n",
       "      <th>2018 GDP</th>\n",
       "      <th>2019 GDP</th>\n",
       "    </tr>\n",
       "  </thead>\n",
       "  <tbody>\n",
       "    <tr>\n",
       "      <th>0</th>\n",
       "      <td>Aruba</td>\n",
       "      <td>High income</td>\n",
       "      <td>ABW</td>\n",
       "      <td>12.5167</td>\n",
       "      <td>-70.0167</td>\n",
       "      <td>Latin America &amp; Caribbean</td>\n",
       "      <td>2.919553e+09</td>\n",
       "      <td>2.965922e+09</td>\n",
       "      <td>3.056425e+09</td>\n",
       "      <td>0.000000e+00</td>\n",
       "      <td>0.000000e+00</td>\n",
       "    </tr>\n",
       "    <tr>\n",
       "      <th>1</th>\n",
       "      <td>Afghanistan</td>\n",
       "      <td>Low income</td>\n",
       "      <td>AFG</td>\n",
       "      <td>34.5228</td>\n",
       "      <td>69.1761</td>\n",
       "      <td>South Asia</td>\n",
       "      <td>1.990711e+10</td>\n",
       "      <td>1.801775e+10</td>\n",
       "      <td>1.886995e+10</td>\n",
       "      <td>1.835388e+10</td>\n",
       "      <td>1.929110e+10</td>\n",
       "    </tr>\n",
       "    <tr>\n",
       "      <th>3</th>\n",
       "      <td>Angola</td>\n",
       "      <td>Lower middle income</td>\n",
       "      <td>AGO</td>\n",
       "      <td>-8.81155</td>\n",
       "      <td>13.242</td>\n",
       "      <td>Sub-Saharan Africa</td>\n",
       "      <td>1.161936e+11</td>\n",
       "      <td>1.011239e+11</td>\n",
       "      <td>1.221238e+11</td>\n",
       "      <td>1.013532e+11</td>\n",
       "      <td>8.881570e+10</td>\n",
       "    </tr>\n",
       "    <tr>\n",
       "      <th>4</th>\n",
       "      <td>Albania</td>\n",
       "      <td>Upper middle income</td>\n",
       "      <td>ALB</td>\n",
       "      <td>41.3317</td>\n",
       "      <td>19.8172</td>\n",
       "      <td>Europe &amp; Central Asia</td>\n",
       "      <td>1.138685e+10</td>\n",
       "      <td>1.186120e+10</td>\n",
       "      <td>1.301969e+10</td>\n",
       "      <td>1.514702e+10</td>\n",
       "      <td>1.527918e+10</td>\n",
       "    </tr>\n",
       "    <tr>\n",
       "      <th>5</th>\n",
       "      <td>Andorra</td>\n",
       "      <td>High income</td>\n",
       "      <td>AND</td>\n",
       "      <td>42.5075</td>\n",
       "      <td>1.5218</td>\n",
       "      <td>Europe &amp; Central Asia</td>\n",
       "      <td>2.789870e+09</td>\n",
       "      <td>2.896679e+09</td>\n",
       "      <td>3.000181e+09</td>\n",
       "      <td>3.218316e+09</td>\n",
       "      <td>3.154058e+09</td>\n",
       "    </tr>\n",
       "  </tbody>\n",
       "</table>\n",
       "</div>"
      ],
      "text/plain": [
       "       Country           Income Lvl Country Code       Lat       Lng  \\\n",
       "0        Aruba          High income          ABW   12.5167  -70.0167   \n",
       "1  Afghanistan           Low income          AFG   34.5228   69.1761   \n",
       "3       Angola  Lower middle income          AGO  -8.81155    13.242   \n",
       "4      Albania  Upper middle income          ALB   41.3317   19.8172   \n",
       "5      Andorra          High income          AND   42.5075    1.5218   \n",
       "\n",
       "                       Region      2015 GDP      2016 GDP      2017 GDP  \\\n",
       "0  Latin America & Caribbean   2.919553e+09  2.965922e+09  3.056425e+09   \n",
       "1                  South Asia  1.990711e+10  1.801775e+10  1.886995e+10   \n",
       "3         Sub-Saharan Africa   1.161936e+11  1.011239e+11  1.221238e+11   \n",
       "4       Europe & Central Asia  1.138685e+10  1.186120e+10  1.301969e+10   \n",
       "5       Europe & Central Asia  2.789870e+09  2.896679e+09  3.000181e+09   \n",
       "\n",
       "       2018 GDP      2019 GDP  \n",
       "0  0.000000e+00  0.000000e+00  \n",
       "1  1.835388e+10  1.929110e+10  \n",
       "3  1.013532e+11  8.881570e+10  \n",
       "4  1.514702e+10  1.527918e+10  \n",
       "5  3.218316e+09  3.154058e+09  "
      ]
     },
     "execution_count": 28,
     "metadata": {},
     "output_type": "execute_result"
    }
   ],
   "source": [
    "clean_df.head()"
   ]
  },
  {
   "cell_type": "code",
   "execution_count": 29,
   "metadata": {},
   "outputs": [
    {
     "data": {
      "image/png": "[encoded data removed]",
      "text/plain": [
       "<Figure size 432x288 with 1 Axes>"
      ]
     },
     "metadata": {
      "needs_background": "light"
     },
     "output_type": "display_data"
    },
    {
     "data": {
      "image/png": "[encoded data removed]",
      "text/plain": [
       "<Figure size 432x288 with 1 Axes>"
      ]
     },
     "metadata": {
      "needs_background": "light"
     },
     "output_type": "display_data"
    },
    {
     "data": {
      "image/png": "[encoded data removed]",
      "text/plain": [
       "<Figure size 432x288 with 1 Axes>"
      ]
     },
     "metadata": {
      "needs_background": "light"
     },
     "output_type": "display_data"
    },
    {
     "data": {
      "image/png": "[encoded data removed]",
      "text/plain": [
       "<Figure size 432x288 with 1 Axes>"
      ]
     },
     "metadata": {
      "needs_background": "light"
     },
     "output_type": "display_data"
    },
    {
     "data": {
      "image/png": "[encoded data removed]",
      "text/plain": [
       "<Figure size 432x288 with 1 Axes>"
      ]
     },
     "metadata": {
      "needs_background": "light"
     },
     "output_type": "display_data"
    }
   ],
   "source": [
    "# Plotting box plots to visually see outliers, the IQR and median. \n",
    "\n",
    "for each_col in ['2015 GDP', '2016 GDP', '2017 GDP', '2018 GDP', '2019 GDP']: \n",
    "    clean_df[['Income Lvl', each_col]].boxplot(by='Income Lvl')\n",
    "    \n",
    "\n",
    "    plt.xlabel(\"Wold Bank Income Level\")\n",
    "    plt.ylabel(\" GDP ($) e13\")"
   ]
  },
  {
   "cell_type": "markdown",
   "metadata": {},
   "source": [
    "###  Below is our work to experiment with re-grouping the 2015 GDP to attempt to create more meaningful income groups. \n",
    "\n",
    "### We first decided to make a new bin based on the combined countries GDP from 2015 to 2019. We then combined the countries GDP Bin to their Income Level grouping. \n",
    "\n",
    "### Findings: A county's GDP does not equate to the country's income level. You will see that there are country's with high GDP but low income which would mean that there is a wealth disparity between money coming into a country and going back to their people. We also see that there are a great number of low GDP country's with high income. These are probably countries with smaller populations. \n",
    "\n",
    "### Next Steps: It would be better to now re-bin the county GDP based on GDP per capita in order to get a more accurate picture of l"
   ]
  },
  {
   "cell_type": "code",
   "execution_count": 30,
   "metadata": {},
   "outputs": [
    {
     "data": {
      "text/html": [
       "<div>\n",
       "<style scoped>\n",
       "    .dataframe tbody tr th:only-of-type {\n",
       "        vertical-align: middle;\n",
       "    }\n",
       "\n",
       "    .dataframe tbody tr th {\n",
       "        vertical-align: top;\n",
       "    }\n",
       "\n",
       "    .dataframe thead th {\n",
       "        text-align: right;\n",
       "    }\n",
       "</style>\n",
       "<table border=\"1\" class=\"dataframe\">\n",
       "  <thead>\n",
       "    <tr style=\"text-align: right;\">\n",
       "      <th></th>\n",
       "      <th>average_gdp</th>\n",
       "      <th>bins</th>\n",
       "      <th>old_bins</th>\n",
       "    </tr>\n",
       "  </thead>\n",
       "  <tbody>\n",
       "    <tr>\n",
       "      <th>0</th>\n",
       "      <td>1.788380e+09</td>\n",
       "      <td>Low GDP</td>\n",
       "      <td>High income</td>\n",
       "    </tr>\n",
       "    <tr>\n",
       "      <th>1</th>\n",
       "      <td>1.888796e+10</td>\n",
       "      <td>Lower GDP</td>\n",
       "      <td>Low income</td>\n",
       "    </tr>\n",
       "    <tr>\n",
       "      <th>3</th>\n",
       "      <td>1.059221e+11</td>\n",
       "      <td>Upper GDP</td>\n",
       "      <td>Lower middle income</td>\n",
       "    </tr>\n",
       "    <tr>\n",
       "      <th>4</th>\n",
       "      <td>1.333879e+10</td>\n",
       "      <td>Lower GDP</td>\n",
       "      <td>Upper middle income</td>\n",
       "    </tr>\n",
       "    <tr>\n",
       "      <th>5</th>\n",
       "      <td>3.011821e+09</td>\n",
       "      <td>Low GDP</td>\n",
       "      <td>High income</td>\n",
       "    </tr>\n",
       "  </tbody>\n",
       "</table>\n",
       "</div>"
      ],
      "text/plain": [
       "    average_gdp       bins             old_bins\n",
       "0  1.788380e+09    Low GDP          High income\n",
       "1  1.888796e+10  Lower GDP           Low income\n",
       "3  1.059221e+11  Upper GDP  Lower middle income\n",
       "4  1.333879e+10  Lower GDP  Upper middle income\n",
       "5  3.011821e+09    Low GDP          High income"
      ]
     },
     "metadata": {},
     "output_type": "display_data"
    },
    {
     "data": {
      "text/plain": [
       "old_bins             bins     \n",
       "High income          High GDP     31\n",
       "                     Upper GDP    17\n",
       "                     Low GDP      15\n",
       "                     Lower GDP    11\n",
       "Low income           Lower GDP    13\n",
       "                     Low GDP       8\n",
       "                     Upper GDP     5\n",
       "Lower middle income  Upper GDP    16\n",
       "                     Lower GDP    14\n",
       "                     Low GDP      12\n",
       "                     High GDP      7\n",
       "Upper middle income  High GDP     15\n",
       "                     Lower GDP    15\n",
       "                     Upper GDP    14\n",
       "                     Low GDP      11\n",
       "Name: bins, dtype: int64"
      ]
     },
     "execution_count": 30,
     "metadata": {},
     "output_type": "execute_result"
    }
   ],
   "source": [
    "average_per_country=clean_df[['2015 GDP', '2016 GDP', '2017 GDP', '2018 GDP', '2019 GDP']].mean(axis=1)#.plot(kind='box', showfliers=False)\n",
    "bin_labels={'Low GDP': average_per_country.describe()['25%'], \n",
    "            'Lower GDP': average_per_country.describe()['50%'], \n",
    "            'Upper GDP': average_per_country.describe()['75%'], \n",
    "            'High GDP': average_per_country.max()}\n",
    "bins=[0]+list(bin_labels.values())\n",
    "new_df=pd.DataFrame()\n",
    "new_df['average_gdp']=average_per_country\n",
    "new_df['bins']=pd.cut(average_per_country, bins=bins, labels=bin_labels.keys())\n",
    "new_df['old_bins']=clean_df['Income Lvl']\n",
    "display(new_df.head())\n",
    "# new_df.boxplot(by='bins')\n",
    "# new_df['agree']=new_df['old_bins']==new_df['bins']\n",
    "new_df.groupby('old_bins')['bins'].value_counts()"
   ]
  },
  {
   "cell_type": "code",
   "execution_count": 31,
   "metadata": {
    "scrolled": true
   },
   "outputs": [
    {
     "name": "stdout",
     "output_type": "stream",
     "text": [
      "0.0\n",
      "18224704440000.0\n"
     ]
    },
    {
     "data": {
      "text/plain": [
       "count    2.110000e+02\n",
       "mean     3.511570e+11\n",
       "std      1.546667e+12\n",
       "min      0.000000e+00\n",
       "25%      4.481194e+09\n",
       "50%      2.141084e+10\n",
       "75%      1.719145e+11\n",
       "max      1.822470e+13\n",
       "Name: 2015 GDP, dtype: float64"
      ]
     },
     "execution_count": 31,
     "metadata": {},
     "output_type": "execute_result"
    }
   ],
   "source": [
    "#Determining basic statical details of the 2015 GDP data.\n",
    "\n",
    "min_value = clean_df['2015 GDP'].min()\n",
    "max_value = clean_df['2015 GDP'].max()\n",
    "print(min_value)\n",
    "print(max_value)\n",
    "\n",
    "clean_df['2015 GDP'].describe()"
   ]
  },
  {
   "cell_type": "code",
   "execution_count": 32,
   "metadata": {},
   "outputs": [
    {
     "data": {
      "text/html": [
       "<div>\n",
       "<style scoped>\n",
       "    .dataframe tbody tr th:only-of-type {\n",
       "        vertical-align: middle;\n",
       "    }\n",
       "\n",
       "    .dataframe tbody tr th {\n",
       "        vertical-align: top;\n",
       "    }\n",
       "\n",
       "    .dataframe thead th {\n",
       "        text-align: right;\n",
       "    }\n",
       "</style>\n",
       "<table border=\"1\" class=\"dataframe\">\n",
       "  <thead>\n",
       "    <tr style=\"text-align: right;\">\n",
       "      <th></th>\n",
       "      <th>Country</th>\n",
       "      <th>Income Lvl</th>\n",
       "      <th>Country Code</th>\n",
       "      <th>Lat</th>\n",
       "      <th>Lng</th>\n",
       "      <th>Region</th>\n",
       "      <th>2015 GDP</th>\n",
       "      <th>2016 GDP</th>\n",
       "      <th>2017 GDP</th>\n",
       "      <th>2018 GDP</th>\n",
       "      <th>2019 GDP</th>\n",
       "      <th>2015 bins</th>\n",
       "    </tr>\n",
       "  </thead>\n",
       "  <tbody>\n",
       "    <tr>\n",
       "      <th>0</th>\n",
       "      <td>Aruba</td>\n",
       "      <td>High income</td>\n",
       "      <td>ABW</td>\n",
       "      <td>12.5167</td>\n",
       "      <td>-70.0167</td>\n",
       "      <td>Latin America &amp; Caribbean</td>\n",
       "      <td>2.919553e+09</td>\n",
       "      <td>2.965922e+09</td>\n",
       "      <td>3.056425e+09</td>\n",
       "      <td>0.000000e+00</td>\n",
       "      <td>0.000000e+00</td>\n",
       "      <td>Lowest Low</td>\n",
       "    </tr>\n",
       "    <tr>\n",
       "      <th>1</th>\n",
       "      <td>Afghanistan</td>\n",
       "      <td>Low income</td>\n",
       "      <td>AFG</td>\n",
       "      <td>34.5228</td>\n",
       "      <td>69.1761</td>\n",
       "      <td>South Asia</td>\n",
       "      <td>1.990711e+10</td>\n",
       "      <td>1.801775e+10</td>\n",
       "      <td>1.886995e+10</td>\n",
       "      <td>1.835388e+10</td>\n",
       "      <td>1.929110e+10</td>\n",
       "      <td>Middle</td>\n",
       "    </tr>\n",
       "    <tr>\n",
       "      <th>3</th>\n",
       "      <td>Angola</td>\n",
       "      <td>Lower middle income</td>\n",
       "      <td>AGO</td>\n",
       "      <td>-8.81155</td>\n",
       "      <td>13.242</td>\n",
       "      <td>Sub-Saharan Africa</td>\n",
       "      <td>1.161936e+11</td>\n",
       "      <td>1.011239e+11</td>\n",
       "      <td>1.221238e+11</td>\n",
       "      <td>1.013532e+11</td>\n",
       "      <td>8.881570e+10</td>\n",
       "      <td>Upper Middle</td>\n",
       "    </tr>\n",
       "    <tr>\n",
       "      <th>4</th>\n",
       "      <td>Albania</td>\n",
       "      <td>Upper middle income</td>\n",
       "      <td>ALB</td>\n",
       "      <td>41.3317</td>\n",
       "      <td>19.8172</td>\n",
       "      <td>Europe &amp; Central Asia</td>\n",
       "      <td>1.138685e+10</td>\n",
       "      <td>1.186120e+10</td>\n",
       "      <td>1.301969e+10</td>\n",
       "      <td>1.514702e+10</td>\n",
       "      <td>1.527918e+10</td>\n",
       "      <td>Middle</td>\n",
       "    </tr>\n",
       "    <tr>\n",
       "      <th>5</th>\n",
       "      <td>Andorra</td>\n",
       "      <td>High income</td>\n",
       "      <td>AND</td>\n",
       "      <td>42.5075</td>\n",
       "      <td>1.5218</td>\n",
       "      <td>Europe &amp; Central Asia</td>\n",
       "      <td>2.789870e+09</td>\n",
       "      <td>2.896679e+09</td>\n",
       "      <td>3.000181e+09</td>\n",
       "      <td>3.218316e+09</td>\n",
       "      <td>3.154058e+09</td>\n",
       "      <td>Lowest Low</td>\n",
       "    </tr>\n",
       "  </tbody>\n",
       "</table>\n",
       "</div>"
      ],
      "text/plain": [
       "       Country           Income Lvl Country Code       Lat       Lng  \\\n",
       "0        Aruba          High income          ABW   12.5167  -70.0167   \n",
       "1  Afghanistan           Low income          AFG   34.5228   69.1761   \n",
       "3       Angola  Lower middle income          AGO  -8.81155    13.242   \n",
       "4      Albania  Upper middle income          ALB   41.3317   19.8172   \n",
       "5      Andorra          High income          AND   42.5075    1.5218   \n",
       "\n",
       "                       Region      2015 GDP      2016 GDP      2017 GDP  \\\n",
       "0  Latin America & Caribbean   2.919553e+09  2.965922e+09  3.056425e+09   \n",
       "1                  South Asia  1.990711e+10  1.801775e+10  1.886995e+10   \n",
       "3         Sub-Saharan Africa   1.161936e+11  1.011239e+11  1.221238e+11   \n",
       "4       Europe & Central Asia  1.138685e+10  1.186120e+10  1.301969e+10   \n",
       "5       Europe & Central Asia  2.789870e+09  2.896679e+09  3.000181e+09   \n",
       "\n",
       "       2018 GDP      2019 GDP     2015 bins  \n",
       "0  0.000000e+00  0.000000e+00    Lowest Low  \n",
       "1  1.835388e+10  1.929110e+10        Middle  \n",
       "3  1.013532e+11  8.881570e+10  Upper Middle  \n",
       "4  1.514702e+10  1.527918e+10        Middle  \n",
       "5  3.218316e+09  3.154058e+09    Lowest Low  "
      ]
     },
     "execution_count": 32,
     "metadata": {},
     "output_type": "execute_result"
    }
   ],
   "source": [
    "#Attempting to re-bin the 2015 GDP into new catogories with less outliers utilizing the basic statiscal details. \n",
    "\n",
    "bins = (0, 4.074357e+09, 1.993512e+10, 1.525735e+11, 1.525735e+12, 1.822470e+13)\n",
    "bins\n",
    "\n",
    "labels = labels = ['Lowest Low', 'Middle', 'Upper Middle', 'High', 'Exterme High']\n",
    "\n",
    "clean_df['2015 bins'] = pd.cut(clean_df['2015 GDP'], bins=bins, labels=labels, include_lowest=True)\n",
    "\n",
    "clean_df.head()"
   ]
  },
  {
   "cell_type": "code",
   "execution_count": 33,
   "metadata": {},
   "outputs": [
    {
     "data": {
      "text/plain": [
       "<matplotlib.axes._subplots.AxesSubplot at 0x1b4ac51beb8>"
      ]
     },
     "execution_count": 33,
     "metadata": {},
     "output_type": "execute_result"
    },
    {
     "data": {
      "image/png": "[encoded data removed]",
      "text/plain": [
       "<Figure size 432x288 with 1 Axes>"
      ]
     },
     "metadata": {
      "needs_background": "light"
     },
     "output_type": "display_data"
    }
   ],
   "source": [
    "# Plotting box plot to visually see if the new bins fit the data better\n",
    "\n",
    "clean_df[['2015 bins', each_col]].boxplot(by='2015 bins')"
   ]
  },
  {
   "cell_type": "markdown",
   "metadata": {},
   "source": [
    "### Below are scatter plots to explore the change in GDP per the World Bank's income levels. \n",
    "\n",
    "#### The scatter plots show that the rate of change between all the countries within the World Bank's income level \n",
    "\n",
    "### 2018 - 2019 GDP Rate of Change \n",
    "#### The scatter plots below show that all the countries within each of the World Bank's income level had about the same rate of change in GDP throughout 2018 and 2019. This is shown by the linear relationship seen when plotting previous years GDP and the 2019 GDP data. "
   ]
  },
  {
   "cell_type": "code",
   "execution_count": 34,
   "metadata": {},
   "outputs": [
    {
     "data": {
      "text/plain": [
       "Text(0, 0.5, '2019 GDP ($) e13')"
      ]
     },
     "execution_count": 34,
     "metadata": {},
     "output_type": "execute_result"
    },
    {
     "data": {
      "image/png": "[encoded data removed]",
      "text/plain": [
       "<Figure size 432x288 with 1 Axes>"
      ]
     },
     "metadata": {
      "needs_background": "light"
     },
     "output_type": "display_data"
    }
   ],
   "source": [
    "clean_df[clean_df['Income Lvl']=='High income'][['2018 GDP', '2019 GDP']].plot(kind='scatter', x='2018 GDP', y='2019 GDP')\n",
    "\n",
    "plt.title(\"High Income 2018 GDP vs 2019 GDP\")\n",
    "plt.xlabel(\"2018 GDP ($) e13 \")\n",
    "plt.ylabel(\"2019 GDP ($) e13\")"
   ]
  },
  {
   "cell_type": "code",
   "execution_count": 35,
   "metadata": {},
   "outputs": [
    {
     "data": {
      "text/plain": [
       "Text(0, 0.5, '2019 GDP ($) e10')"
      ]
     },
     "execution_count": 35,
     "metadata": {},
     "output_type": "execute_result"
    },
    {
     "data": {
      "image/png": "[encoded data removed]",
      "text/plain": [
       "<Figure size 432x288 with 1 Axes>"
      ]
     },
     "metadata": {
      "needs_background": "light"
     },
     "output_type": "display_data"
    }
   ],
   "source": [
    "clean_df[clean_df['Income Lvl']=='Low income'][['2018 GDP', '2019 GDP']].plot(kind='scatter', x='2018 GDP', y='2019 GDP')\n",
    "plt.title(\"Low Income 2018 GDP vs 2019 GDP\")\n",
    "plt.xlabel(\"2018 GDP ($) e11\")\n",
    "plt.ylabel(\"2019 GDP ($) e10\")"
   ]
  },
  {
   "cell_type": "markdown",
   "metadata": {},
   "source": [
    "### 2015 - 2019 GDP Rate of Change \n",
    "\n",
    "#### Below you can see that the rate of change for high income and low income has some difference. The countries within the high-income group all had about the same rate of change from 2015 to 2019 which can be seen by the relatively linear relationship. However, the low-income grouping had some variety in the GDP rate of change which can be seen with some countries plot not following the 1:1 linear relationship.\n"
   ]
  },
  {
   "cell_type": "code",
   "execution_count": 36,
   "metadata": {},
   "outputs": [
    {
     "data": {
      "text/plain": [
       "Text(0, 0.5, '2019 GDP ($) e13')"
      ]
     },
     "execution_count": 36,
     "metadata": {},
     "output_type": "execute_result"
    },
    {
     "data": {
      "image/png": "[encoded data removed]",
      "text/plain": [
       "<Figure size 432x288 with 1 Axes>"
      ]
     },
     "metadata": {
      "needs_background": "light"
     },
     "output_type": "display_data"
    }
   ],
   "source": [
    "clean_df[clean_df['Income Lvl']=='High income'][['2015 GDP', '2019 GDP']].plot(kind='scatter', x='2015 GDP', y='2019 GDP')\n",
    "plt.title(\"High Income 2015 GDP vs 2019 GDP\")\n",
    "plt.xlabel(\"2015 GDP ($)e13 \")\n",
    "plt.ylabel(\"2019 GDP ($) e13\")"
   ]
  },
  {
   "cell_type": "code",
   "execution_count": 37,
   "metadata": {},
   "outputs": [
    {
     "data": {
      "text/plain": [
       "Text(0, 0.5, '2019 GDP ($) e10')"
      ]
     },
     "execution_count": 37,
     "metadata": {},
     "output_type": "execute_result"
    },
    {
     "data": {
      "image/png": "[encoded data removed]",
      "text/plain": [
       "<Figure size 432x288 with 1 Axes>"
      ]
     },
     "metadata": {
      "needs_background": "light"
     },
     "output_type": "display_data"
    }
   ],
   "source": [
    "clean_df[clean_df['Income Lvl']=='Low income'][['2015 GDP', '2019 GDP']].plot(kind='scatter', x='2015 GDP', y='2019 GDP')\n",
    "plt.title(\"Low Income 2015 GDP vs 2019 GDP\")\n",
    "plt.xlabel(\"2015 GDP ($) e11\")\n",
    "plt.ylabel(\"2019 GDP ($) e10\")"
   ]
  },
  {
   "cell_type": "markdown",
   "metadata": {},
   "source": [
    "# Jonathan Section"
   ]
  },
  {
   "cell_type": "markdown",
   "metadata": {},
   "source": [
    "### Use an API request to get all the possible indicators- searching for interesting topics.\n",
    "##### this is how i attempted to find the Population indicator necessary for the API response call. Unfortunately (and oddly), it didn't exist in this list. Fortunately, I found it in the documentation, and used this list to find another topic of interest- Access to Electricity %"
   ]
  },
  {
   "cell_type": "code",
   "execution_count": 38,
   "metadata": {
    "scrolled": false
   },
   "outputs": [
    {
     "data": {
      "text/plain": [
       "['Poverty Headcount ($1.90 a day)',\n",
       " 'Poverty Headcount ($2.50 a day)',\n",
       " 'Middle Class ($10-50 a day) Headcount',\n",
       " 'Official Moderate Poverty Rate-National',\n",
       " 'Poverty Headcount ($4 a day)',\n",
       " 'Vulnerable ($4-10 a day) Headcount',\n",
       " 'Poverty Gap ($1.90 a day)',\n",
       " 'Poverty Gap ($2.50 a day)',\n",
       " 'Poverty Gap ($4 a day)',\n",
       " 'Poverty Severity ($1.90 a day)',\n",
       " 'Poverty Severity ($2.50 a day)',\n",
       " 'Poverty Severity ($4 a day)',\n",
       " 'Poverty Headcount ($1.90 a day)-Rural',\n",
       " 'Poverty Headcount ($2.50 a day)-Rural',\n",
       " 'Middle Class ($10-50 a day) Headcount-Rural',\n",
       " 'Official Moderate Poverty Rate- Rural',\n",
       " 'Poverty Headcount ($4 a day)-Rural',\n",
       " 'Vulnerable ($4-10 a day) Headcount-Rural',\n",
       " 'Poverty Gap ($1.90 a day)-Rural',\n",
       " 'Poverty Gap ($2.50 a day)-Rural',\n",
       " 'Poverty Gap ($4 a day)-Rural',\n",
       " 'Poverty Severity ($1.90 a day)-Rural',\n",
       " 'Poverty Severity ($2.50 a day)-Rural',\n",
       " 'Poverty Severity ($4 a day)-Rural',\n",
       " 'Access to electricity (% of total population)',\n",
       " 'Total final energy consumption (TFEC)',\n",
       " 'Literacy rate, youth total (% of people ages 15-24) ',\n",
       " 'Poverty Headcount ($1.90 a day)-Urban',\n",
       " 'Poverty Headcount ($2.50 a day)-Urban',\n",
       " 'Middle Class ($10-50 a day) Headcount-Urban',\n",
       " 'Official Moderate Poverty Rate-Urban',\n",
       " 'Poverty Headcount ($4 a day)-Urban',\n",
       " 'Vulnerable ($4-10 a day) Headcount-Urban',\n",
       " 'Poverty Gap ($1.90 a day)-Urban',\n",
       " 'Poverty Gap ($2.50 a day)-Urban',\n",
       " 'Poverty Gap ($4 a day)-Urban',\n",
       " 'Poverty Severity ($1.90 a day)-Urban',\n",
       " 'Poverty Severity ($2.50 a day)-Urban',\n",
       " 'Poverty Severity ($4 a day)-Urban',\n",
       " 'Access to electricity (% of rural population)',\n",
       " 'Access to electricity (% of urban population)',\n",
       " '100000:GROSS DOMESTIC PRODUCT',\n",
       " '1000000:GROSS DOMESTIC PRODUCT',\n",
       " '110000:INDIVIDUAL CONSUMPTION EXPENDITURE BY HOUSEHOLDS',\n",
       " '110100:FOOD AND NON-ALCOHOLIC BEVERAGES',\n",
       " '1101000:FOOD AND NON-ALCOHOLIC BEVERAGES',\n",
       " '110110:FOOD',\n",
       " '1101100:FOOD',\n",
       " '110111:Bread and cereals (Class)',\n",
       " '1101110:Bread and cereals']"
      ]
     },
     "execution_count": 38,
     "metadata": {},
     "output_type": "execute_result"
    }
   ],
   "source": [
    "# test commit\n",
    "j_url = \"http://api.worldbank.org/v2/indicator?format=json\"\n",
    "indicator_response = requests.get(j_url).json()\n",
    "indicator_names = []\n",
    "for x in range(50):\n",
    "    indicator_names.append(indicator_response[1][x]['name'])\n",
    "indicator_names"
   ]
  },
  {
   "cell_type": "markdown",
   "metadata": {},
   "source": [
    "# Search API using indicator code for Population, grab 2019 data \n",
    " ####   - located at response[1][1]['value']"
   ]
  },
  {
   "cell_type": "code",
   "execution_count": 39,
   "metadata": {},
   "outputs": [
    {
     "name": "stdout",
     "output_type": "stream",
     "text": [
      "ERI's Population Data was not found\n"
     ]
    }
   ],
   "source": [
    "# define empty lists to append data to\n",
    "populations = []\n",
    "    \n",
    "# run for loop, looping throug hall the country (codes) in our Countries DataFrame (named clean_df)\n",
    "for code in clean_df[\"Country Code\"]:\n",
    "\n",
    "    #Build Query Url\n",
    "    try:\n",
    "        population_url = \"http://api.worldbank.org/v2/country/\" + code + \"/indicator/SP.POP.TOTL?format=json\" \n",
    "        pop_response = requests.get(population_url).json()\n",
    "          #import pdb; pdb.set_trace()\n",
    "            \n",
    "          # append population values to list\n",
    "        populations.append(int(pop_response[1][1]['value']))\n",
    "\n",
    "    except (KeyError, TypeError):\n",
    "        print(f\"{code}'s Population Data was not found\")\n",
    "        populations.append(0)\n",
    "        "
   ]
  },
  {
   "cell_type": "markdown",
   "metadata": {},
   "source": [
    "### Create new data frame to add 2019 populations to"
   ]
  },
  {
   "cell_type": "code",
   "execution_count": 40,
   "metadata": {},
   "outputs": [
    {
     "data": {
      "text/plain": [
       "1397715000"
      ]
     },
     "execution_count": 40,
     "metadata": {},
     "output_type": "execute_result"
    }
   ],
   "source": [
    "# create new DataFrame to add populations\n",
    "population_df = clean_df.copy()\n",
    "\n",
    "# add population data to DataFrame\n",
    "population_df[\"2019 Population\"] = populations\n",
    "\n",
    "population_df.head()\n",
    "population_df[\"2019 Population\"].max()\n"
   ]
  },
  {
   "cell_type": "markdown",
   "metadata": {},
   "source": [
    "# Search API using indicator code for Electricity Access data, grab latest data\n",
    "   #### - located at response[1][0]['value']\n",
    "   #### - latests data is 2016"
   ]
  },
  {
   "cell_type": "code",
   "execution_count": 41,
   "metadata": {
    "scrolled": true
   },
   "outputs": [
    {
     "name": "stdout",
     "output_type": "stream",
     "text": [
      "ASM's Electricity-Access Data was not found\n",
      "VGB's Electricity-Access Data was not found\n"
     ]
    }
   ],
   "source": [
    "# GET ELECTRCIITY ACCESS DATA FROM 2016\n",
    "# define empty list to append data to \n",
    "elec_access = []\n",
    "\n",
    "# run for loop, looping throug hall the country (codes) in our Countries DataFrame (named clean_df)\n",
    "for code in clean_df[\"Country Code\"]:\n",
    "\n",
    "    #Build Query Url\n",
    "    try:\n",
    "        elec_url = \"http://api.worldbank.org/v2/country/\" + code + \"/indicator/1.1_ACCESS.ELECTRICITY.TOT?format=json\" \n",
    "        elec_response = requests.get(elec_url).json()\n",
    "          #import pdb; pdb.set_trace()\n",
    "            \n",
    "          # append population values to list\n",
    "        elec_access.append(int(elec_response[1][0]['value']))\n",
    "\n",
    "    except (KeyError, TypeError):\n",
    "        print(f\"{code}'s Electricity-Access Data was not found\")\n",
    "        elec_access.append(0)\n",
    "        \n"
   ]
  },
  {
   "cell_type": "markdown",
   "metadata": {},
   "source": [
    "# Grabbing 2016 Population Data to match 2016 Electricity Access Data"
   ]
  },
  {
   "cell_type": "code",
   "execution_count": 42,
   "metadata": {},
   "outputs": [
    {
     "name": "stdout",
     "output_type": "stream",
     "text": [
      "ERI's 2016 Population Data was not found\n"
     ]
    },
    {
     "data": {
      "text/plain": [
       "211"
      ]
     },
     "execution_count": 42,
     "metadata": {},
     "output_type": "execute_result"
    }
   ],
   "source": [
    "# GET POPULATION DATA FROM 2016 (to match electricity access data year)\n",
    "# define empty lists to append data to\n",
    "populations_2016 = []\n",
    "    \n",
    "# run for loop, looping throug hall the country (codes) in our Countries DataFrame (named clean_df)\n",
    "for code in clean_df[\"Country Code\"]:\n",
    "\n",
    "    #Build Query Url\n",
    "    try:\n",
    "        population_url = \"http://api.worldbank.org/v2/country/\" + code + \"/indicator/SP.POP.TOTL?format=json\" \n",
    "        pop_response = requests.get(population_url).json()\n",
    "          #import pdb; pdb.set_trace()\n",
    "            \n",
    "          # append population values to list\n",
    "        populations_2016.append(int(pop_response[1][4]['value']))\n",
    "\n",
    "    except (KeyError, TypeError):\n",
    "        print(f\"{code}'s 2016 Population Data was not found\")\n",
    "        populations_2016.append(0)\n",
    "\n",
    "len(populations_2016)"
   ]
  },
  {
   "cell_type": "markdown",
   "metadata": {},
   "source": [
    "### Add 2016 population and electricty access data to dataframe"
   ]
  },
  {
   "cell_type": "code",
   "execution_count": 43,
   "metadata": {
    "scrolled": true
   },
   "outputs": [
    {
     "data": {
      "text/html": [
       "<div>\n",
       "<style scoped>\n",
       "    .dataframe tbody tr th:only-of-type {\n",
       "        vertical-align: middle;\n",
       "    }\n",
       "\n",
       "    .dataframe tbody tr th {\n",
       "        vertical-align: top;\n",
       "    }\n",
       "\n",
       "    .dataframe thead th {\n",
       "        text-align: right;\n",
       "    }\n",
       "</style>\n",
       "<table border=\"1\" class=\"dataframe\">\n",
       "  <thead>\n",
       "    <tr style=\"text-align: right;\">\n",
       "      <th></th>\n",
       "      <th>Country</th>\n",
       "      <th>Income Lvl</th>\n",
       "      <th>Country Code</th>\n",
       "      <th>Lat</th>\n",
       "      <th>Lng</th>\n",
       "      <th>Region</th>\n",
       "      <th>2015 GDP</th>\n",
       "      <th>2016 GDP</th>\n",
       "      <th>2017 GDP</th>\n",
       "      <th>2018 GDP</th>\n",
       "      <th>2019 GDP</th>\n",
       "      <th>2015 bins</th>\n",
       "      <th>2019 Population</th>\n",
       "      <th>2016 Population</th>\n",
       "      <th>Access to Electricity (2016)</th>\n",
       "    </tr>\n",
       "  </thead>\n",
       "  <tbody>\n",
       "    <tr>\n",
       "      <th>0</th>\n",
       "      <td>Aruba</td>\n",
       "      <td>High income</td>\n",
       "      <td>ABW</td>\n",
       "      <td>12.5167</td>\n",
       "      <td>-70.0167</td>\n",
       "      <td>Latin America &amp; Caribbean</td>\n",
       "      <td>2.919553e+09</td>\n",
       "      <td>2.965922e+09</td>\n",
       "      <td>3.056425e+09</td>\n",
       "      <td>0.000000e+00</td>\n",
       "      <td>0.000000e+00</td>\n",
       "      <td>Lowest Low</td>\n",
       "      <td>106314</td>\n",
       "      <td>104872</td>\n",
       "      <td>95</td>\n",
       "    </tr>\n",
       "    <tr>\n",
       "      <th>1</th>\n",
       "      <td>Afghanistan</td>\n",
       "      <td>Low income</td>\n",
       "      <td>AFG</td>\n",
       "      <td>34.5228</td>\n",
       "      <td>69.1761</td>\n",
       "      <td>South Asia</td>\n",
       "      <td>1.990711e+10</td>\n",
       "      <td>1.801775e+10</td>\n",
       "      <td>1.886995e+10</td>\n",
       "      <td>1.835388e+10</td>\n",
       "      <td>1.929110e+10</td>\n",
       "      <td>Middle</td>\n",
       "      <td>38041754</td>\n",
       "      <td>35383128</td>\n",
       "      <td>84</td>\n",
       "    </tr>\n",
       "    <tr>\n",
       "      <th>3</th>\n",
       "      <td>Angola</td>\n",
       "      <td>Lower middle income</td>\n",
       "      <td>AGO</td>\n",
       "      <td>-8.81155</td>\n",
       "      <td>13.242</td>\n",
       "      <td>Sub-Saharan Africa</td>\n",
       "      <td>1.161936e+11</td>\n",
       "      <td>1.011239e+11</td>\n",
       "      <td>1.221238e+11</td>\n",
       "      <td>1.013532e+11</td>\n",
       "      <td>8.881570e+10</td>\n",
       "      <td>Upper Middle</td>\n",
       "      <td>31825295</td>\n",
       "      <td>28842484</td>\n",
       "      <td>40</td>\n",
       "    </tr>\n",
       "    <tr>\n",
       "      <th>4</th>\n",
       "      <td>Albania</td>\n",
       "      <td>Upper middle income</td>\n",
       "      <td>ALB</td>\n",
       "      <td>41.3317</td>\n",
       "      <td>19.8172</td>\n",
       "      <td>Europe &amp; Central Asia</td>\n",
       "      <td>1.138685e+10</td>\n",
       "      <td>1.186120e+10</td>\n",
       "      <td>1.301969e+10</td>\n",
       "      <td>1.514702e+10</td>\n",
       "      <td>1.527918e+10</td>\n",
       "      <td>Middle</td>\n",
       "      <td>2854191</td>\n",
       "      <td>2876101</td>\n",
       "      <td>100</td>\n",
       "    </tr>\n",
       "    <tr>\n",
       "      <th>5</th>\n",
       "      <td>Andorra</td>\n",
       "      <td>High income</td>\n",
       "      <td>AND</td>\n",
       "      <td>42.5075</td>\n",
       "      <td>1.5218</td>\n",
       "      <td>Europe &amp; Central Asia</td>\n",
       "      <td>2.789870e+09</td>\n",
       "      <td>2.896679e+09</td>\n",
       "      <td>3.000181e+09</td>\n",
       "      <td>3.218316e+09</td>\n",
       "      <td>3.154058e+09</td>\n",
       "      <td>Lowest Low</td>\n",
       "      <td>77142</td>\n",
       "      <td>77297</td>\n",
       "      <td>100</td>\n",
       "    </tr>\n",
       "  </tbody>\n",
       "</table>\n",
       "</div>"
      ],
      "text/plain": [
       "       Country           Income Lvl Country Code       Lat       Lng  \\\n",
       "0        Aruba          High income          ABW   12.5167  -70.0167   \n",
       "1  Afghanistan           Low income          AFG   34.5228   69.1761   \n",
       "3       Angola  Lower middle income          AGO  -8.81155    13.242   \n",
       "4      Albania  Upper middle income          ALB   41.3317   19.8172   \n",
       "5      Andorra          High income          AND   42.5075    1.5218   \n",
       "\n",
       "                       Region      2015 GDP      2016 GDP      2017 GDP  \\\n",
       "0  Latin America & Caribbean   2.919553e+09  2.965922e+09  3.056425e+09   \n",
       "1                  South Asia  1.990711e+10  1.801775e+10  1.886995e+10   \n",
       "3         Sub-Saharan Africa   1.161936e+11  1.011239e+11  1.221238e+11   \n",
       "4       Europe & Central Asia  1.138685e+10  1.186120e+10  1.301969e+10   \n",
       "5       Europe & Central Asia  2.789870e+09  2.896679e+09  3.000181e+09   \n",
       "\n",
       "       2018 GDP      2019 GDP     2015 bins  2019 Population  2016 Population  \\\n",
       "0  0.000000e+00  0.000000e+00    Lowest Low           106314           104872   \n",
       "1  1.835388e+10  1.929110e+10        Middle         38041754         35383128   \n",
       "3  1.013532e+11  8.881570e+10  Upper Middle         31825295         28842484   \n",
       "4  1.514702e+10  1.527918e+10        Middle          2854191          2876101   \n",
       "5  3.218316e+09  3.154058e+09    Lowest Low            77142            77297   \n",
       "\n",
       "   Access to Electricity (2016)  \n",
       "0                            95  \n",
       "1                            84  \n",
       "3                            40  \n",
       "4                           100  \n",
       "5                           100  "
      ]
     },
     "execution_count": 43,
     "metadata": {},
     "output_type": "execute_result"
    }
   ],
   "source": [
    "# add population data to DataFrame\n",
    "population_df[\"2016 Population\"] = populations_2016\n",
    "\n",
    "# add electricity access % to populations DataFrame\n",
    "population_df[\"Access to Electricity (2016)\"] = elec_access\n",
    "\n",
    "population_df.head()"
   ]
  },
  {
   "cell_type": "markdown",
   "metadata": {},
   "source": [
    "# Plot and analysis of 2019 Population v GDP"
   ]
  },
  {
   "cell_type": "code",
   "execution_count": 44,
   "metadata": {
    "scrolled": true
   },
   "outputs": [
    {
     "name": "stdout",
     "output_type": "stream",
     "text": [
      "r-squared is: 0.33197843713090486\n",
      "p-value is: 4.6488918824475476e-20\n"
     ]
    },
    {
     "data": {
      "image/png": "[encoded data removed]",
      "text/plain": [
       "<Figure size 432x288 with 1 Axes>"
      ]
     },
     "metadata": {
      "needs_background": "light"
     },
     "output_type": "display_data"
    }
   ],
   "source": [
    "# Remove Taiwan- no data\n",
    "clean_pop = population_df.loc[population_df[\"Country Code\"] != \"TWN\"]\n",
    "\n",
    "# replace empty strings\n",
    "clean_pop[\"2019 GDP\"].replace(\"\",np.nan)\n",
    "\n",
    "# plot 2019 gdp vs pop\n",
    "pop = clean_pop[\"2019 Population\"]\n",
    "gdp = clean_pop[\"2019 GDP\"]\n",
    "plt.scatter(pop, gdp)\n",
    "plt.title(\"2019 Population vs GDP\")\n",
    "plt.xlabel(\"Population (billions)\")\n",
    "plt.ylabel(\"GDP (10 trillions)\")\n",
    "\n",
    "# Perform linear regression on 2019 Pop v GDP\n",
    "slope, intercept, r, p, std_err = st.linregress(pop,gdp)\n",
    "\n",
    "# create equation line\n",
    "fit= slope * pop + intercept\n",
    "line_eq = \"y = \" + str(round(slope,2)) + \"x + \" + str(round(intercept,2))\n",
    "plt.annotate(line_eq,(600000000,10000),fontsize=10,color='red')\n",
    "plt.plot(pop,fit,\"r-\")\n",
    "print(f'r-squared is: {r**2}\\np-value is: {p}')"
   ]
  },
  {
   "cell_type": "markdown",
   "metadata": {},
   "source": [
    "#### incredibly small p-value in the 10^-20 range shows there is an issue with the Data, and the answer arises when reflecting on Nathan's work: the GDP is not normally distributed data and thus doing this sort of statistical analysis would possibly require a much more in-depth job of rebinning data in to more sensible groups, and analyzing according to those groups. It's clear here with the odd p-value that something is amiss, and that true analysis would require further work"
   ]
  },
  {
   "cell_type": "markdown",
   "metadata": {},
   "source": [
    "# Plot and analysis of 2016 Population v GDP\n",
    "\n",
    "#### used Access to Electricity for kicks- i had done the work to retrieve it, why not use it?"
   ]
  },
  {
   "cell_type": "code",
   "execution_count": 45,
   "metadata": {
    "scrolled": false
   },
   "outputs": [
    {
     "name": "stdout",
     "output_type": "stream",
     "text": [
      "----------------------------------------\n",
      "Global mean access to electricity is 82.42%\n",
      "----------------------------------------\n",
      "\n",
      "r-squared is: 0.30520291606482935\n",
      "p-value is: 2.9420223316620802e-18\n"
     ]
    },
    {
     "data": {
      "image/png": "[encoded data removed]",
      "text/plain": [
       "<Figure size 720x432 with 1 Axes>"
      ]
     },
     "metadata": {
      "needs_background": "light"
     },
     "output_type": "display_data"
    }
   ],
   "source": [
    "# plot 2016 Population vs 2019 GDP with access to electricity % as weight\n",
    "pop = clean_pop[\"2016 Population\"]\n",
    "gdp = clean_pop[\"2016 GDP\"]\n",
    "elec_access = clean_pop[\"Access to Electricity (2016)\"]\n",
    "fig, ax = plt.subplots(figsize=(10, 6))\n",
    "ax.scatter(x = pop, y = gdp, s = elec_access)\n",
    "plt.title(\"2016 Population vs GDP\")\n",
    "plt.xlabel(\"Population (millions)\")\n",
    "plt.ylabel(\"GDP (billions)\")\n",
    "plt.xlim(-1,2000000)\n",
    "plt.ylim(-1,7500000000)\n",
    "print(f'----------------------------------------\\nGlobal mean access to electricity is {round(clean_pop[\"Access to Electricity (2016)\"].mean(),2)}%\\n----------------------------------------\\n')\n",
    "# Perform linear regression on 2019 Pop v GDP\n",
    "slope, intercept, r, p, std_err = st.linregress(pop,gdp)\n",
    "\n",
    "# create equation line\n",
    "fit= slope * pop + intercept\n",
    "line_eq = \"y = \" + str(round(slope,2)) + \"x + \" + str(round(intercept,2))\n",
    "plt.annotate(line_eq,(600000,10000),fontsize=12,color='red')\n",
    "plt.plot(pop,fit,\"r-\")\n",
    "print(f'r-squared is: {r**2}\\np-value is: {p}')"
   ]
  },
  {
   "cell_type": "markdown",
   "metadata": {},
   "source": [
    "### same goes as above: the odd p value shows something is up. Data probably needs to be reconsidered/reavaluated"
   ]
  },
  {
   "cell_type": "markdown",
   "metadata": {},
   "source": [
    "### What is the tiny (low electricity access) data point?\n",
    "    \n",
    "   #### - found that its Guinea-Bissau, in Sub-Saharan Africa"
   ]
  },
  {
   "cell_type": "code",
   "execution_count": 46,
   "metadata": {
    "scrolled": true
   },
   "outputs": [
    {
     "data": {
      "text/html": [
       "<div>\n",
       "<style scoped>\n",
       "    .dataframe tbody tr th:only-of-type {\n",
       "        vertical-align: middle;\n",
       "    }\n",
       "\n",
       "    .dataframe tbody tr th {\n",
       "        vertical-align: top;\n",
       "    }\n",
       "\n",
       "    .dataframe thead th {\n",
       "        text-align: right;\n",
       "    }\n",
       "</style>\n",
       "<table border=\"1\" class=\"dataframe\">\n",
       "  <thead>\n",
       "    <tr style=\"text-align: right;\">\n",
       "      <th></th>\n",
       "      <th>Country</th>\n",
       "      <th>Income Lvl</th>\n",
       "      <th>Country Code</th>\n",
       "      <th>Lat</th>\n",
       "      <th>Lng</th>\n",
       "      <th>Region</th>\n",
       "      <th>2015 GDP</th>\n",
       "      <th>2016 GDP</th>\n",
       "      <th>2017 GDP</th>\n",
       "      <th>2018 GDP</th>\n",
       "      <th>2019 GDP</th>\n",
       "      <th>2015 bins</th>\n",
       "      <th>2019 Population</th>\n",
       "      <th>2016 Population</th>\n",
       "      <th>Access to Electricity (2016)</th>\n",
       "    </tr>\n",
       "  </thead>\n",
       "  <tbody>\n",
       "    <tr>\n",
       "      <th>109</th>\n",
       "      <td>Guinea-Bissau</td>\n",
       "      <td>Low income</td>\n",
       "      <td>GNB</td>\n",
       "      <td>11.8037</td>\n",
       "      <td>-15.1804</td>\n",
       "      <td>Sub-Saharan Africa</td>\n",
       "      <td>1.048230e+09</td>\n",
       "      <td>1.179005e+09</td>\n",
       "      <td>1.350177e+09</td>\n",
       "      <td>1.458868e+09</td>\n",
       "      <td>1.339449e+09</td>\n",
       "      <td>Lowest Low</td>\n",
       "      <td>1920922</td>\n",
       "      <td>1782437</td>\n",
       "      <td>14</td>\n",
       "    </tr>\n",
       "    <tr>\n",
       "      <th>168</th>\n",
       "      <td>Latvia</td>\n",
       "      <td>High income</td>\n",
       "      <td>LVA</td>\n",
       "      <td>56.9465</td>\n",
       "      <td>24.1048</td>\n",
       "      <td>Europe &amp; Central Asia</td>\n",
       "      <td>2.723965e+10</td>\n",
       "      <td>2.805233e+10</td>\n",
       "      <td>3.045876e+10</td>\n",
       "      <td>3.441601e+10</td>\n",
       "      <td>3.410291e+10</td>\n",
       "      <td>Upper Middle</td>\n",
       "      <td>1913822</td>\n",
       "      <td>1959537</td>\n",
       "      <td>100</td>\n",
       "    </tr>\n",
       "    <tr>\n",
       "      <th>291</th>\n",
       "      <td>Kosovo</td>\n",
       "      <td>Upper middle income</td>\n",
       "      <td>XKX</td>\n",
       "      <td>42.565</td>\n",
       "      <td>20.926</td>\n",
       "      <td>Europe &amp; Central Asia</td>\n",
       "      <td>6.442916e+09</td>\n",
       "      <td>6.719172e+09</td>\n",
       "      <td>7.245707e+09</td>\n",
       "      <td>7.942962e+09</td>\n",
       "      <td>7.926134e+09</td>\n",
       "      <td>Middle</td>\n",
       "      <td>1788878</td>\n",
       "      <td>1777557</td>\n",
       "      <td>100</td>\n",
       "    </tr>\n",
       "  </tbody>\n",
       "</table>\n",
       "</div>"
      ],
      "text/plain": [
       "           Country           Income Lvl Country Code      Lat       Lng  \\\n",
       "109  Guinea-Bissau           Low income          GNB  11.8037  -15.1804   \n",
       "168         Latvia          High income          LVA  56.9465   24.1048   \n",
       "291         Kosovo  Upper middle income          XKX   42.565    20.926   \n",
       "\n",
       "                    Region      2015 GDP      2016 GDP      2017 GDP  \\\n",
       "109    Sub-Saharan Africa   1.048230e+09  1.179005e+09  1.350177e+09   \n",
       "168  Europe & Central Asia  2.723965e+10  2.805233e+10  3.045876e+10   \n",
       "291  Europe & Central Asia  6.442916e+09  6.719172e+09  7.245707e+09   \n",
       "\n",
       "         2018 GDP      2019 GDP     2015 bins  2019 Population  \\\n",
       "109  1.458868e+09  1.339449e+09    Lowest Low          1920922   \n",
       "168  3.441601e+10  3.410291e+10  Upper Middle          1913822   \n",
       "291  7.942962e+09  7.926134e+09        Middle          1788878   \n",
       "\n",
       "     2016 Population  Access to Electricity (2016)  \n",
       "109          1782437                            14  \n",
       "168          1959537                           100  \n",
       "291          1777557                           100  "
      ]
     },
     "execution_count": 46,
     "metadata": {},
     "output_type": "execute_result"
    }
   ],
   "source": [
    "find_small = clean_pop.loc[clean_pop[\"2016 Population\"] > 1750000]\n",
    "find_small = find_small.loc[find_small[\"2016 Population\"] < 2000000]\n",
    "find_small"
   ]
  },
  {
   "cell_type": "markdown",
   "metadata": {},
   "source": [
    "# Formatting and printing the final data"
   ]
  },
  {
   "cell_type": "code",
   "execution_count": 49,
   "metadata": {
    "scrolled": true
   },
   "outputs": [
    {
     "data": {
      "text/html": [
       "<div>\n",
       "<style scoped>\n",
       "    .dataframe tbody tr th:only-of-type {\n",
       "        vertical-align: middle;\n",
       "    }\n",
       "\n",
       "    .dataframe tbody tr th {\n",
       "        vertical-align: top;\n",
       "    }\n",
       "\n",
       "    .dataframe thead th {\n",
       "        text-align: right;\n",
       "    }\n",
       "</style>\n",
       "<table border=\"1\" class=\"dataframe\">\n",
       "  <thead>\n",
       "    <tr style=\"text-align: right;\">\n",
       "      <th></th>\n",
       "      <th>Country</th>\n",
       "      <th>Income Lvl</th>\n",
       "      <th>Country Code</th>\n",
       "      <th>Lat</th>\n",
       "      <th>Lng</th>\n",
       "      <th>Region</th>\n",
       "      <th>2015 GDP (millions)</th>\n",
       "      <th>2016 GDP (millions)</th>\n",
       "      <th>2017 GDP (millions)</th>\n",
       "      <th>2018 GDP (millions)</th>\n",
       "      <th>2019 GDP (millions)</th>\n",
       "      <th>2015 Bins</th>\n",
       "      <th>2019 Population</th>\n",
       "      <th>2016 Population</th>\n",
       "      <th>Access to Electricity (2016)</th>\n",
       "    </tr>\n",
       "  </thead>\n",
       "  <tbody>\n",
       "    <tr>\n",
       "      <th>0</th>\n",
       "      <td>Aruba</td>\n",
       "      <td>High income</td>\n",
       "      <td>ABW</td>\n",
       "      <td>12.5167</td>\n",
       "      <td>-70.0167</td>\n",
       "      <td>Latin America &amp; Caribbean</td>\n",
       "      <td>2919.553</td>\n",
       "      <td>2965.922</td>\n",
       "      <td>3056.425</td>\n",
       "      <td>0.000</td>\n",
       "      <td>0.000</td>\n",
       "      <td>Lowest Low</td>\n",
       "      <td>106314</td>\n",
       "      <td>104872</td>\n",
       "      <td>95%</td>\n",
       "    </tr>\n",
       "    <tr>\n",
       "      <th>1</th>\n",
       "      <td>Afghanistan</td>\n",
       "      <td>Low income</td>\n",
       "      <td>AFG</td>\n",
       "      <td>34.5228</td>\n",
       "      <td>69.1761</td>\n",
       "      <td>South Asia</td>\n",
       "      <td>19907.111</td>\n",
       "      <td>18017.749</td>\n",
       "      <td>18869.946</td>\n",
       "      <td>18353.881</td>\n",
       "      <td>19291.104</td>\n",
       "      <td>Middle</td>\n",
       "      <td>38041754</td>\n",
       "      <td>35383128</td>\n",
       "      <td>84%</td>\n",
       "    </tr>\n",
       "    <tr>\n",
       "      <th>3</th>\n",
       "      <td>Angola</td>\n",
       "      <td>Lower middle income</td>\n",
       "      <td>AGO</td>\n",
       "      <td>-8.81155</td>\n",
       "      <td>13.242</td>\n",
       "      <td>Sub-Saharan Africa</td>\n",
       "      <td>116193.649</td>\n",
       "      <td>101123.851</td>\n",
       "      <td>122123.822</td>\n",
       "      <td>101353.231</td>\n",
       "      <td>88815.698</td>\n",
       "      <td>Upper Middle</td>\n",
       "      <td>31825295</td>\n",
       "      <td>28842484</td>\n",
       "      <td>40%</td>\n",
       "    </tr>\n",
       "    <tr>\n",
       "      <th>4</th>\n",
       "      <td>Albania</td>\n",
       "      <td>Upper middle income</td>\n",
       "      <td>ALB</td>\n",
       "      <td>41.3317</td>\n",
       "      <td>19.8172</td>\n",
       "      <td>Europe &amp; Central Asia</td>\n",
       "      <td>11386.846</td>\n",
       "      <td>11861.201</td>\n",
       "      <td>13019.693</td>\n",
       "      <td>15147.021</td>\n",
       "      <td>15279.183</td>\n",
       "      <td>Middle</td>\n",
       "      <td>2854191</td>\n",
       "      <td>2876101</td>\n",
       "      <td>100%</td>\n",
       "    </tr>\n",
       "    <tr>\n",
       "      <th>5</th>\n",
       "      <td>Andorra</td>\n",
       "      <td>High income</td>\n",
       "      <td>AND</td>\n",
       "      <td>42.5075</td>\n",
       "      <td>1.5218</td>\n",
       "      <td>Europe &amp; Central Asia</td>\n",
       "      <td>2789.870</td>\n",
       "      <td>2896.679</td>\n",
       "      <td>3000.181</td>\n",
       "      <td>3218.316</td>\n",
       "      <td>3154.058</td>\n",
       "      <td>Lowest Low</td>\n",
       "      <td>77142</td>\n",
       "      <td>77297</td>\n",
       "      <td>100%</td>\n",
       "    </tr>\n",
       "    <tr>\n",
       "      <th>...</th>\n",
       "      <td>...</td>\n",
       "      <td>...</td>\n",
       "      <td>...</td>\n",
       "      <td>...</td>\n",
       "      <td>...</td>\n",
       "      <td>...</td>\n",
       "      <td>...</td>\n",
       "      <td>...</td>\n",
       "      <td>...</td>\n",
       "      <td>...</td>\n",
       "      <td>...</td>\n",
       "      <td>...</td>\n",
       "      <td>...</td>\n",
       "      <td>...</td>\n",
       "      <td>...</td>\n",
       "    </tr>\n",
       "    <tr>\n",
       "      <th>291</th>\n",
       "      <td>Kosovo</td>\n",
       "      <td>Upper middle income</td>\n",
       "      <td>XKX</td>\n",
       "      <td>42.565</td>\n",
       "      <td>20.926</td>\n",
       "      <td>Europe &amp; Central Asia</td>\n",
       "      <td>6442.916</td>\n",
       "      <td>6719.172</td>\n",
       "      <td>7245.707</td>\n",
       "      <td>7942.962</td>\n",
       "      <td>7926.134</td>\n",
       "      <td>Middle</td>\n",
       "      <td>1788878</td>\n",
       "      <td>1777557</td>\n",
       "      <td>100%</td>\n",
       "    </tr>\n",
       "    <tr>\n",
       "      <th>293</th>\n",
       "      <td>Yemen, Rep.</td>\n",
       "      <td>Low income</td>\n",
       "      <td>YEM</td>\n",
       "      <td>15.352</td>\n",
       "      <td>44.2075</td>\n",
       "      <td>Middle East &amp; North Africa</td>\n",
       "      <td>42450.621</td>\n",
       "      <td>30935.979</td>\n",
       "      <td>26736.140</td>\n",
       "      <td>23486.270</td>\n",
       "      <td>22581.082</td>\n",
       "      <td>Upper Middle</td>\n",
       "      <td>29161922</td>\n",
       "      <td>27168210</td>\n",
       "      <td>71%</td>\n",
       "    </tr>\n",
       "    <tr>\n",
       "      <th>294</th>\n",
       "      <td>South Africa</td>\n",
       "      <td>Upper middle income</td>\n",
       "      <td>ZAF</td>\n",
       "      <td>-25.746</td>\n",
       "      <td>28.1871</td>\n",
       "      <td>Sub-Saharan Africa</td>\n",
       "      <td>317620.523</td>\n",
       "      <td>296357.283</td>\n",
       "      <td>349554.117</td>\n",
       "      <td>368288.940</td>\n",
       "      <td>351431.649</td>\n",
       "      <td>High</td>\n",
       "      <td>58558267</td>\n",
       "      <td>56207649</td>\n",
       "      <td>84%</td>\n",
       "    </tr>\n",
       "    <tr>\n",
       "      <th>295</th>\n",
       "      <td>Zambia</td>\n",
       "      <td>Lower middle income</td>\n",
       "      <td>ZMB</td>\n",
       "      <td>-15.3982</td>\n",
       "      <td>28.2937</td>\n",
       "      <td>Sub-Saharan Africa</td>\n",
       "      <td>21243.339</td>\n",
       "      <td>20954.754</td>\n",
       "      <td>25868.165</td>\n",
       "      <td>26312.141</td>\n",
       "      <td>23309.774</td>\n",
       "      <td>Upper Middle</td>\n",
       "      <td>17861030</td>\n",
       "      <td>16363507</td>\n",
       "      <td>27%</td>\n",
       "    </tr>\n",
       "    <tr>\n",
       "      <th>296</th>\n",
       "      <td>Zimbabwe</td>\n",
       "      <td>Lower middle income</td>\n",
       "      <td>ZWE</td>\n",
       "      <td>-17.8312</td>\n",
       "      <td>31.0672</td>\n",
       "      <td>Sub-Saharan Africa</td>\n",
       "      <td>19963.121</td>\n",
       "      <td>20548.678</td>\n",
       "      <td>22040.902</td>\n",
       "      <td>24311.560</td>\n",
       "      <td>21440.759</td>\n",
       "      <td>Upper Middle</td>\n",
       "      <td>14645468</td>\n",
       "      <td>14030390</td>\n",
       "      <td>38%</td>\n",
       "    </tr>\n",
       "  </tbody>\n",
       "</table>\n",
       "<p>211 rows × 15 columns</p>\n",
       "</div>"
      ],
      "text/plain": [
       "          Country           Income Lvl Country Code       Lat       Lng  \\\n",
       "0           Aruba          High income          ABW   12.5167  -70.0167   \n",
       "1     Afghanistan           Low income          AFG   34.5228   69.1761   \n",
       "3          Angola  Lower middle income          AGO  -8.81155    13.242   \n",
       "4         Albania  Upper middle income          ALB   41.3317   19.8172   \n",
       "5         Andorra          High income          AND   42.5075    1.5218   \n",
       "..            ...                  ...          ...       ...       ...   \n",
       "291        Kosovo  Upper middle income          XKX    42.565    20.926   \n",
       "293   Yemen, Rep.           Low income          YEM    15.352   44.2075   \n",
       "294  South Africa  Upper middle income          ZAF   -25.746   28.1871   \n",
       "295        Zambia  Lower middle income          ZMB  -15.3982   28.2937   \n",
       "296      Zimbabwe  Lower middle income          ZWE  -17.8312   31.0672   \n",
       "\n",
       "                         Region  2015 GDP (millions)  2016 GDP (millions)  \\\n",
       "0    Latin America & Caribbean              2919.553             2965.922   \n",
       "1                    South Asia            19907.111            18017.749   \n",
       "3           Sub-Saharan Africa            116193.649           101123.851   \n",
       "4         Europe & Central Asia            11386.846            11861.201   \n",
       "5         Europe & Central Asia             2789.870             2896.679   \n",
       "..                          ...                  ...                  ...   \n",
       "291       Europe & Central Asia             6442.916             6719.172   \n",
       "293  Middle East & North Africa            42450.621            30935.979   \n",
       "294         Sub-Saharan Africa            317620.523           296357.283   \n",
       "295         Sub-Saharan Africa             21243.339            20954.754   \n",
       "296         Sub-Saharan Africa             19963.121            20548.678   \n",
       "\n",
       "     2017 GDP (millions)  2018 GDP (millions)  2019 GDP (millions)  \\\n",
       "0               3056.425                0.000                0.000   \n",
       "1              18869.946            18353.881            19291.104   \n",
       "3             122123.822           101353.231            88815.698   \n",
       "4              13019.693            15147.021            15279.183   \n",
       "5               3000.181             3218.316             3154.058   \n",
       "..                   ...                  ...                  ...   \n",
       "291             7245.707             7942.962             7926.134   \n",
       "293            26736.140            23486.270            22581.082   \n",
       "294           349554.117           368288.940           351431.649   \n",
       "295            25868.165            26312.141            23309.774   \n",
       "296            22040.902            24311.560            21440.759   \n",
       "\n",
       "        2015 Bins  2019 Population  2016 Population  \\\n",
       "0      Lowest Low           106314           104872   \n",
       "1          Middle         38041754         35383128   \n",
       "3    Upper Middle         31825295         28842484   \n",
       "4          Middle          2854191          2876101   \n",
       "5      Lowest Low            77142            77297   \n",
       "..            ...              ...              ...   \n",
       "291        Middle          1788878          1777557   \n",
       "293  Upper Middle         29161922         27168210   \n",
       "294          High         58558267         56207649   \n",
       "295  Upper Middle         17861030         16363507   \n",
       "296  Upper Middle         14645468         14030390   \n",
       "\n",
       "    Access to Electricity (2016)  \n",
       "0                            95%  \n",
       "1                            84%  \n",
       "3                            40%  \n",
       "4                           100%  \n",
       "5                           100%  \n",
       "..                           ...  \n",
       "291                         100%  \n",
       "293                          71%  \n",
       "294                          84%  \n",
       "295                          27%  \n",
       "296                          38%  \n",
       "\n",
       "[211 rows x 15 columns]"
      ]
     },
     "execution_count": 49,
     "metadata": {},
     "output_type": "execute_result"
    }
   ],
   "source": [
    "# format electricy column to be percent\n",
    "population_df[\"Access to Electricity (2016)\"] = population_df[\"Access to Electricity (2016)\"].map(\"{:}%\".format)\n",
    "\n",
    "# turn populations list into populations(millions) by dividing by a 1,000,000\n",
    "gdp_2015 = [round(pop / 1000000,3) for pop in population_df[\"2015 GDP\"]]\n",
    "population_df[\"2015 GDP\"] = gdp_2015\n",
    "\n",
    "gdp_2016 = [round(pop / 1000000,3) for pop in population_df[\"2016 GDP\"]]\n",
    "population_df[\"2016 GDP\"] = gdp_2016\n",
    "\n",
    "gdp_2017= [round(pop / 1000000,3) for pop in population_df[\"2017 GDP\"]]\n",
    "population_df[\"2017 GDP\"] = gdp_2017\n",
    "\n",
    "gdp_2018= [round(pop / 1000000,3) for pop in population_df[\"2018 GDP\"]]\n",
    "population_df[\"2018 GDP\"] = gdp_2018\n",
    "\n",
    "gdp_2019 = [round(pop / 1000000,3) for pop in population_df[\"2019 GDP\"]]\n",
    "population_df[\"2019 GDP\"] = gdp_2019\n",
    "\n",
    "# rename columns to fit adjustments\n",
    "population_df = population_df.rename(columns={\n",
    "    \"2015 GDP\" : \"2015 GDP (millions)\",\n",
    "    \"2016 GDP\" : \"2016 GDP (millions)\",\n",
    "    \"2017 GDP\" : \"2017 GDP (millions)\",\n",
    "    \"2018 GDP\" : \"2018 GDP (millions)\",\n",
    "    \"2019 GDP\" : \"2019 GDP (millions)\",\n",
    "    \"2015 bins\" : \"2015 Bins\"\n",
    "})\n",
    "\n",
    "population_df"
   ]
  },
  {
   "cell_type": "markdown",
   "metadata": {},
   "source": [
    "### Send Final DataFrame to csv"
   ]
  },
  {
   "cell_type": "code",
   "execution_count": 48,
   "metadata": {},
   "outputs": [],
   "source": [
    "population_df.to_csv(\"population_df.csv\")"
   ]
  }
 ],
 "metadata": {
  "kernelspec": {
   "display_name": "Python [conda env:PythonData] *",
   "language": "python",
   "name": "conda-env-PythonData-py"
  },
  "language_info": {
   "codemirror_mode": {
    "name": "ipython",
    "version": 3
   },
   "file_extension": ".py",
   "mimetype": "text/x-python",
   "name": "python",
   "nbconvert_exporter": "python",
   "pygments_lexer": "ipython3",
   "version": "3.6.10"
  }
 },
 "nbformat": 4,
 "nbformat_minor": 4
}
